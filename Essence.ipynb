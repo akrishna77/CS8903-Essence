{
 "cells": [
  {
   "cell_type": "markdown",
   "metadata": {},
   "source": [
    "## Data -> Table"
   ]
  },
  {
   "cell_type": "code",
   "execution_count": 292,
   "metadata": {},
   "outputs": [],
   "source": [
    "import pandas as pd\n",
    "from itertools import groupby"
   ]
  },
  {
   "cell_type": "code",
   "execution_count": 530,
   "metadata": {},
   "outputs": [],
   "source": [
    "descriptions =[]\n",
    "\n",
    "with open(\"how_people_describe_themselves.txt\",\"r\")  as f:\n",
    "    for i in f:\n",
    "        descriptions.append(i.rstrip('\\n'))"
   ]
  },
  {
   "cell_type": "code",
   "execution_count": 531,
   "metadata": {},
   "outputs": [],
   "source": [
    "desc_array = [list(group) for k, group in groupby(descriptions, lambda x: x == \" \") if not k]\n",
    "    "
   ]
  },
  {
   "cell_type": "code",
   "execution_count": 295,
   "metadata": {},
   "outputs": [],
   "source": [
    "# for i in desc_array:\n",
    "#     i[1] = i[1].strip('Who you are: ')\n",
    "#     i[2] = i[2].strip('What you are like: ')\n",
    "#     i[3] = i[3].strip('What is the essence of what makes you YOU: ')"
   ]
  },
  {
   "cell_type": "code",
   "execution_count": 532,
   "metadata": {},
   "outputs": [],
   "source": [
    "for i in desc_array:\n",
    "    i[1] = i[1][13:]\n",
    "    i[2] = i[2][19:]\n",
    "    i[3] = i[3][42:]"
   ]
  },
  {
   "cell_type": "code",
   "execution_count": 533,
   "metadata": {},
   "outputs": [
    {
     "data": {
      "text/html": [
       "<div>\n",
       "<style scoped>\n",
       "    .dataframe tbody tr th:only-of-type {\n",
       "        vertical-align: middle;\n",
       "    }\n",
       "\n",
       "    .dataframe tbody tr th {\n",
       "        vertical-align: top;\n",
       "    }\n",
       "\n",
       "    .dataframe thead th {\n",
       "        text-align: right;\n",
       "    }\n",
       "</style>\n",
       "<table border=\"1\" class=\"dataframe\">\n",
       "  <thead>\n",
       "    <tr style=\"text-align: right;\">\n",
       "      <th></th>\n",
       "      <th>person</th>\n",
       "      <th>who</th>\n",
       "      <th>likes</th>\n",
       "      <th>essence</th>\n",
       "    </tr>\n",
       "  </thead>\n",
       "  <tbody>\n",
       "    <tr>\n",
       "      <td>0</td>\n",
       "      <td>Person 1</td>\n",
       "      <td>I am a 28-year-old woman living in Massachusetts.</td>\n",
       "      <td>I'm neurotic and eccentric but good at heart.</td>\n",
       "      <td>I am obsessed with rabbit and love technology.</td>\n",
       "    </tr>\n",
       "    <tr>\n",
       "      <td>1</td>\n",
       "      <td>Person 2</td>\n",
       "      <td>I am dedicated and persistent and willing to g...</td>\n",
       "      <td>i'm fun loving and like to make people laugh b...</td>\n",
       "      <td>I am insightful and am able to fit together p...</td>\n",
       "    </tr>\n",
       "    <tr>\n",
       "      <td>2</td>\n",
       "      <td>Person 3</td>\n",
       "      <td>I am a feminist, a student, and a homosexual.</td>\n",
       "      <td>I am kind, nurturing, caring, and genuine.</td>\n",
       "      <td>My honesty, my loyalty, and my generosity mak...</td>\n",
       "    </tr>\n",
       "    <tr>\n",
       "      <td>3</td>\n",
       "      <td>Person 4</td>\n",
       "      <td>I'm an immigrant who became a citizen of the U...</td>\n",
       "      <td>I can be stubborn and stand-offish, but I stil...</td>\n",
       "      <td>I'm introverted, so I need time alone to rech...</td>\n",
       "    </tr>\n",
       "    <tr>\n",
       "      <td>4</td>\n",
       "      <td>Person 5</td>\n",
       "      <td>I'm a boring person</td>\n",
       "      <td>I'm quiet and introspective.</td>\n",
       "      <td>I have deep wells of sorrow.</td>\n",
       "    </tr>\n",
       "    <tr>\n",
       "      <td>5</td>\n",
       "      <td>Person 6</td>\n",
       "      <td>I am a girl who lives in New York City in my t...</td>\n",
       "      <td>I am very social and outgoing.</td>\n",
       "      <td>I am outgoing and care tremendously about my ...</td>\n",
       "    </tr>\n",
       "    <tr>\n",
       "      <td>6</td>\n",
       "      <td>Person 7</td>\n",
       "      <td>I am a mom of 3</td>\n",
       "      <td>I like R &amp;B Music, Japanese Food, Pizza</td>\n",
       "      <td>I am sympathetic.</td>\n",
       "    </tr>\n",
       "    <tr>\n",
       "      <td>7</td>\n",
       "      <td>Person 8</td>\n",
       "      <td>I am a licensed counselor.</td>\n",
       "      <td>I'm silly and funny.</td>\n",
       "      <td>I'm fun and sarcastic a lot of the time.</td>\n",
       "    </tr>\n",
       "    <tr>\n",
       "      <td>8</td>\n",
       "      <td>Person 9</td>\n",
       "      <td>I'm Jim, a 53 year old american man</td>\n",
       "      <td>I'm forceful, happy, calm and occasionally gru...</td>\n",
       "      <td>I'm a drivan dominant at work and play. My wi...</td>\n",
       "    </tr>\n",
       "    <tr>\n",
       "      <td>9</td>\n",
       "      <td>Person 10</td>\n",
       "      <td>I'm a fat, biracial bisexual woman.</td>\n",
       "      <td>I'm a funny depressive--aren't all depressives...</td>\n",
       "      <td>I'm a boring drudge, not glamorous or fancy, ...</td>\n",
       "    </tr>\n",
       "  </tbody>\n",
       "</table>\n",
       "</div>"
      ],
      "text/plain": [
       "      person                                                who  \\\n",
       "0   Person 1  I am a 28-year-old woman living in Massachusetts.   \n",
       "1   Person 2  I am dedicated and persistent and willing to g...   \n",
       "2   Person 3      I am a feminist, a student, and a homosexual.   \n",
       "3   Person 4  I'm an immigrant who became a citizen of the U...   \n",
       "4   Person 5                                I'm a boring person   \n",
       "5   Person 6  I am a girl who lives in New York City in my t...   \n",
       "6   Person 7                                    I am a mom of 3   \n",
       "7   Person 8                         I am a licensed counselor.   \n",
       "8   Person 9                I'm Jim, a 53 year old american man   \n",
       "9  Person 10                I'm a fat, biracial bisexual woman.   \n",
       "\n",
       "                                               likes  \\\n",
       "0      I'm neurotic and eccentric but good at heart.   \n",
       "1  i'm fun loving and like to make people laugh b...   \n",
       "2         I am kind, nurturing, caring, and genuine.   \n",
       "3  I can be stubborn and stand-offish, but I stil...   \n",
       "4                       I'm quiet and introspective.   \n",
       "5                     I am very social and outgoing.   \n",
       "6            I like R &B Music, Japanese Food, Pizza   \n",
       "7                               I'm silly and funny.   \n",
       "8  I'm forceful, happy, calm and occasionally gru...   \n",
       "9  I'm a funny depressive--aren't all depressives...   \n",
       "\n",
       "                                             essence  \n",
       "0     I am obsessed with rabbit and love technology.  \n",
       "1   I am insightful and am able to fit together p...  \n",
       "2   My honesty, my loyalty, and my generosity mak...  \n",
       "3   I'm introverted, so I need time alone to rech...  \n",
       "4                       I have deep wells of sorrow.  \n",
       "5   I am outgoing and care tremendously about my ...  \n",
       "6                                  I am sympathetic.  \n",
       "7           I'm fun and sarcastic a lot of the time.  \n",
       "8   I'm a drivan dominant at work and play. My wi...  \n",
       "9   I'm a boring drudge, not glamorous or fancy, ...  "
      ]
     },
     "execution_count": 533,
     "metadata": {},
     "output_type": "execute_result"
    }
   ],
   "source": [
    "df = pd.DataFrame(desc_array, columns=['person', 'who', 'likes', 'essence'])\n",
    "df[:10]"
   ]
  },
  {
   "cell_type": "markdown",
   "metadata": {},
   "source": [
    "## NLP"
   ]
  },
  {
   "cell_type": "code",
   "execution_count": null,
   "metadata": {},
   "outputs": [],
   "source": [
    "# !pip install autocorrect"
   ]
  },
  {
   "cell_type": "code",
   "execution_count": 467,
   "metadata": {},
   "outputs": [
    {
     "name": "stderr",
     "output_type": "stream",
     "text": [
      "[nltk_data] Downloading package stopwords to\n",
      "[nltk_data]     /Users/akrishna/nltk_data...\n",
      "[nltk_data]   Package stopwords is already up-to-date!\n"
     ]
    }
   ],
   "source": [
    "import nltk\n",
    "from nltk.corpus import stopwords\n",
    "from autocorrect import Speller\n",
    "\n",
    "nltk.download('stopwords')\n",
    "spell = Speller(lang='en')"
   ]
  },
  {
   "cell_type": "code",
   "execution_count": 579,
   "metadata": {},
   "outputs": [],
   "source": [
    "def preprocess(text):\n",
    "    \"\"\"Pre-processes the text, splits into tokens that are lower-cased, filtered and lemmatized.\"\"\"\n",
    "    tokens = (t.lower() for t in nltk.word_tokenize(text)\n",
    "                            if t.isalpha()\n",
    "                            and t.lower() not in stopwords.words())\n",
    "\n",
    "    # wordnet_lemmatizer = nltk.WordNetLemmatizer()\n",
    "    return [spell(t) for t in tokens]"
   ]
  },
  {
   "cell_type": "code",
   "execution_count": 580,
   "metadata": {},
   "outputs": [],
   "source": [
    "pos_tagged_desc = []\n",
    "for i in desc_array:\n",
    "    x = [nltk.pos_tag(preprocess(i[1])), nltk.pos_tag(preprocess(i[2])), nltk.pos_tag(preprocess(i[3]))]\n",
    "    pos_tagged_desc.append(x)"
   ]
  },
  {
   "cell_type": "code",
   "execution_count": 581,
   "metadata": {},
   "outputs": [
    {
     "data": {
      "text/plain": [
       "[[('dedicated', 'VBN'),\n",
       "  ('persistent', 'JJ'),\n",
       "  ('willing', 'JJ'),\n",
       "  ('go', 'VB'),\n",
       "  ('extra', 'JJ'),\n",
       "  ('mile', 'NN')],\n",
       " [('fun', 'NN'),\n",
       "  ('loving', 'VBG'),\n",
       "  ('like', 'IN'),\n",
       "  ('make', 'NN'),\n",
       "  ('people', 'NNS'),\n",
       "  ('laugh', 'IN'),\n",
       "  ('telling', 'VBG'),\n",
       "  ('jokes', 'NNS'),\n",
       "  ('making', 'VBG'),\n",
       "  ('light', 'JJ'),\n",
       "  ('situations', 'NNS')],\n",
       " [('insightful', 'JJ'),\n",
       "  ('able', 'JJ'),\n",
       "  ('fit', 'NN'),\n",
       "  ('together', 'RB'),\n",
       "  ('pieces', 'NNS'),\n",
       "  ('understand', 'VBP'),\n",
       "  ('big', 'JJ'),\n",
       "  ('picture', 'NN')]]"
      ]
     },
     "execution_count": 581,
     "metadata": {},
     "output_type": "execute_result"
    }
   ],
   "source": [
    "pos_tagged_desc[1]"
   ]
  },
  {
   "cell_type": "code",
   "execution_count": 582,
   "metadata": {},
   "outputs": [],
   "source": [
    "descriptors = []\n",
    "for i in pos_tagged_desc:\n",
    "    s = \"\"\n",
    "    for j in i:\n",
    "        for k in j:\n",
    "            s += k[0]+\" \"\n",
    "    descriptors.append(s)"
   ]
  },
  {
   "cell_type": "code",
   "execution_count": 583,
   "metadata": {},
   "outputs": [
    {
     "data": {
      "text/plain": [
       "['woman living massachusetts neurotic eccentric good heart obsessed rabbit love technology ',\n",
       " 'dedicated persistent willing go extra mile fun loving like make people laugh telling jokes making light situations insightful able fit together pieces understand big picture ',\n",
       " 'feminist student homosexual kind nurturing caring genuine honesty loyalty generosity make ',\n",
       " 'immigrant became citizen united states american stubborn still much friends family nerd love video games prefer stay home introverted need time alone recharge recalibrate ',\n",
       " 'boring person quiet introspective deep wells sorrow ',\n",
       " 'girl lives new york city twenties incredibly close family social outgoing outgoing tremendously friends ',\n",
       " 'mom like r b music japanese food pizza sympathetic ',\n",
       " 'licensed counselor silly funny fun sarcastic lot time ',\n",
       " 'year old american forceful happy calm occasionally grumpy touch sarcasm driven dominant work play wife essential life lost without grounding ',\n",
       " 'fat biracial bisexual woman funny depressive depressives riot boring drudge glamorous fancy fairly dependable ']"
      ]
     },
     "execution_count": 583,
     "metadata": {},
     "output_type": "execute_result"
    }
   ],
   "source": [
    "descriptors[:10]"
   ]
  },
  {
   "cell_type": "markdown",
   "metadata": {},
   "source": [
    "## TF-IDF"
   ]
  },
  {
   "cell_type": "code",
   "execution_count": 473,
   "metadata": {},
   "outputs": [],
   "source": [
    "from sklearn.feature_extraction.text import TfidfVectorizer"
   ]
  },
  {
   "cell_type": "markdown",
   "metadata": {},
   "source": [
    "#### For each description as a document"
   ]
  },
  {
   "cell_type": "code",
   "execution_count": 539,
   "metadata": {},
   "outputs": [
    {
     "data": {
      "text/html": [
       "<div>\n",
       "<style scoped>\n",
       "    .dataframe tbody tr th:only-of-type {\n",
       "        vertical-align: middle;\n",
       "    }\n",
       "\n",
       "    .dataframe tbody tr th {\n",
       "        vertical-align: top;\n",
       "    }\n",
       "\n",
       "    .dataframe thead th {\n",
       "        text-align: right;\n",
       "    }\n",
       "</style>\n",
       "<table border=\"1\" class=\"dataframe\">\n",
       "  <thead>\n",
       "    <tr style=\"text-align: right;\">\n",
       "      <th></th>\n",
       "      <th>idf_weights</th>\n",
       "    </tr>\n",
       "  </thead>\n",
       "  <tbody>\n",
       "    <tr>\n",
       "      <td>eccentric</td>\n",
       "      <td>0.227588</td>\n",
       "    </tr>\n",
       "    <tr>\n",
       "      <td>living massachusetts</td>\n",
       "      <td>0.227588</td>\n",
       "    </tr>\n",
       "    <tr>\n",
       "      <td>neurotic</td>\n",
       "      <td>0.227588</td>\n",
       "    </tr>\n",
       "    <tr>\n",
       "      <td>heart obsessed</td>\n",
       "      <td>0.227588</td>\n",
       "    </tr>\n",
       "    <tr>\n",
       "      <td>rabbit</td>\n",
       "      <td>0.227588</td>\n",
       "    </tr>\n",
       "    <tr>\n",
       "      <td>neurotic eccentric</td>\n",
       "      <td>0.227588</td>\n",
       "    </tr>\n",
       "    <tr>\n",
       "      <td>technology</td>\n",
       "      <td>0.227588</td>\n",
       "    </tr>\n",
       "    <tr>\n",
       "      <td>rabbit love</td>\n",
       "      <td>0.227588</td>\n",
       "    </tr>\n",
       "    <tr>\n",
       "      <td>living</td>\n",
       "      <td>0.227588</td>\n",
       "    </tr>\n",
       "    <tr>\n",
       "      <td>good heart</td>\n",
       "      <td>0.227588</td>\n",
       "    </tr>\n",
       "  </tbody>\n",
       "</table>\n",
       "</div>"
      ],
      "text/plain": [
       "                      idf_weights\n",
       "eccentric                0.227588\n",
       "living massachusetts     0.227588\n",
       "neurotic                 0.227588\n",
       "heart obsessed           0.227588\n",
       "rabbit                   0.227588\n",
       "neurotic eccentric       0.227588\n",
       "technology               0.227588\n",
       "rabbit love              0.227588\n",
       "living                   0.227588\n",
       "good heart               0.227588"
      ]
     },
     "execution_count": 539,
     "metadata": {},
     "output_type": "execute_result"
    }
   ],
   "source": [
    "vectorizer = TfidfVectorizer(ngram_range=(1,2))\n",
    "X = vectorizer.fit_transform(descriptors)\n",
    "\n",
    "df_idf = pd.DataFrame(X[0].T.todense(), index=vectorizer.get_feature_names(),columns=[\"idf_weights\"]).sort_values('idf_weights', ascending=False)[:20]\n",
    "df_idf.sort_values(by=['idf_weights'], ascending=False)[:10]"
   ]
  },
  {
   "cell_type": "markdown",
   "metadata": {},
   "source": [
    "#### For each of the questions as a document"
   ]
  },
  {
   "cell_type": "code",
   "execution_count": 584,
   "metadata": {},
   "outputs": [],
   "source": [
    "who = []\n",
    "likes = []\n",
    "essence = []\n",
    "for i in range(len(pos_tagged_desc)):\n",
    "        who.append(pos_tagged_desc[i][0])\n",
    "        likes.append(pos_tagged_desc[i][1])\n",
    "        essence.append(pos_tagged_desc[i][2])"
   ]
  },
  {
   "cell_type": "code",
   "execution_count": 585,
   "metadata": {},
   "outputs": [],
   "source": [
    "who_list = []\n",
    "for i in who:\n",
    "    s = \"\"\n",
    "    for j in i:\n",
    "            s += j[0]+\" \"\n",
    "    who_list.append(s)\n",
    "    \n",
    "likes_list = []\n",
    "for i in likes:\n",
    "    s = \"\"\n",
    "    for j in i:\n",
    "            s += j[0]+\" \"\n",
    "    likes_list.append(s)\n",
    "    \n",
    "essence_list = []\n",
    "for i in essence:\n",
    "    s = \"\"\n",
    "    for j in i:\n",
    "            s += j[0]+\" \"\n",
    "    essence_list.append(s)"
   ]
  },
  {
   "cell_type": "code",
   "execution_count": 586,
   "metadata": {},
   "outputs": [],
   "source": [
    "who_vectorizer = TfidfVectorizer(ngram_range=(1,2))\n",
    "X_who = who_vectorizer.fit_transform(who_list)\n",
    "\n",
    "likes_vectorizer = TfidfVectorizer(ngram_range=(1,2))\n",
    "X_likes = likes_vectorizer.fit_transform(likes_list)\n",
    "\n",
    "essence_vectorizer = TfidfVectorizer(ngram_range=(1,2))\n",
    "X_essence = essence_vectorizer.fit_transform(essence_list)"
   ]
  },
  {
   "cell_type": "code",
   "execution_count": 587,
   "metadata": {},
   "outputs": [],
   "source": [
    "def who_top(i):\n",
    "    df_idf = pd.DataFrame(X_who[i].T.todense(), index=who_vectorizer.get_feature_names(),columns=[\"idf_weights\"])\n",
    "    return df_idf.sort_values(by=['idf_weights'], ascending=False).index[:1].tolist()"
   ]
  },
  {
   "cell_type": "code",
   "execution_count": 588,
   "metadata": {},
   "outputs": [],
   "source": [
    "def likes_top(i):\n",
    "    df_idf = pd.DataFrame(X_likes[i].T.todense(), index=likes_vectorizer.get_feature_names(),columns=[\"idf_weights\"])\n",
    "    return df_idf.sort_values(by=['idf_weights'], ascending=False).index[:1].tolist()"
   ]
  },
  {
   "cell_type": "code",
   "execution_count": 589,
   "metadata": {},
   "outputs": [],
   "source": [
    "def essence_top(i):\n",
    "    df_idf = pd.DataFrame(X_essence[i].T.todense(), index=essence_vectorizer.get_feature_names(),columns=[\"idf_weights\"])\n",
    "    return df_idf.sort_values(by=['idf_weights'], ascending=False).index[:1].tolist()"
   ]
  },
  {
   "cell_type": "markdown",
   "metadata": {},
   "source": [
    "## RAKE"
   ]
  },
  {
   "cell_type": "code",
   "execution_count": null,
   "metadata": {},
   "outputs": [],
   "source": [
    "# !pip install rake-nltk"
   ]
  },
  {
   "cell_type": "code",
   "execution_count": null,
   "metadata": {},
   "outputs": [],
   "source": [
    "from rake_nltk import Rake, Metric\n",
    "\n",
    "r = Rake(ranking_metric=Metric.DEGREE_TO_FREQUENCY_RATIO)\n",
    "r.extract_keywords_from_text(desc_array[0][1])\n",
    "r.get_ranked_phrases()"
   ]
  },
  {
   "cell_type": "markdown",
   "metadata": {},
   "source": [
    "## Top-3"
   ]
  },
  {
   "cell_type": "markdown",
   "metadata": {},
   "source": [
    "#### For each description as a document"
   ]
  },
  {
   "cell_type": "code",
   "execution_count": 546,
   "metadata": {},
   "outputs": [],
   "source": [
    "top3_all = []\n",
    "for i in X:\n",
    "    top3_desc = pd.DataFrame(i.T.todense(), index=vectorizer.get_feature_names(),columns=[\"idf_weights\"]).sort_values('idf_weights', ascending=False)\n",
    "    top3_all.append(top3_desc.index[:3].tolist())"
   ]
  },
  {
   "cell_type": "code",
   "execution_count": 547,
   "metadata": {},
   "outputs": [
    {
     "data": {
      "text/plain": [
       "[['eccentric', 'living', 'eccentric good'],\n",
       " ['light', 'pieces understand', 'picture'],\n",
       " ['generosity make', 'homosexual', 'caring genuine'],\n",
       " ['home', 'citizen', 'family nerd'],\n",
       " ['wells sorrow', 'sorrow', 'deep wells'],\n",
       " ['outgoing', 'new york', 'girl lives'],\n",
       " ['sympathetic', 'pizza', 'food pizza'],\n",
       " ['licensed', 'fun sarcastic', 'sarcastic'],\n",
       " ['sarcasm driven', 'lost', 'play wife'],\n",
       " ['biracial bisexual', 'fat biracial', 'fairly dependable']]"
      ]
     },
     "execution_count": 547,
     "metadata": {},
     "output_type": "execute_result"
    }
   ],
   "source": [
    "top3_all[:10]"
   ]
  },
  {
   "cell_type": "markdown",
   "metadata": {},
   "source": [
    "#### For each of the questions as a document"
   ]
  },
  {
   "cell_type": "code",
   "execution_count": 590,
   "metadata": {},
   "outputs": [],
   "source": [
    "top3_each = []\n",
    "for i in range(50):\n",
    "    temp = []\n",
    "    temp.append(who_top(i)[0])\n",
    "    temp.append(likes_top(i)[0])\n",
    "    temp.append(essence_top(i)[0])\n",
    "    top3_each.append(temp)"
   ]
  },
  {
   "cell_type": "code",
   "execution_count": 591,
   "metadata": {},
   "outputs": [
    {
     "data": {
      "text/plain": [
       "[['living massachusetts', 'eccentric good', 'rabbit'],\n",
       " ['willing', 'people', 'picture'],\n",
       " ['feminist', 'genuine', 'loyalty generosity'],\n",
       " ['immigrant became', 'prefer', 'alone'],\n",
       " ['boring', 'quiet introspective', 'wells sorrow'],\n",
       " ['city twenties', 'social outgoing', 'tremendously friends'],\n",
       " ['mom', 'music', 'sympathetic'],\n",
       " ['licensed counselor', 'silly funny', 'sarcastic lot'],\n",
       " ['old american', 'occasionally grumpy', 'play'],\n",
       " ['fat biracial', 'riot', 'drudge glamorous']]"
      ]
     },
     "execution_count": 591,
     "metadata": {},
     "output_type": "execute_result"
    }
   ],
   "source": [
    "top3_each[:10]"
   ]
  },
  {
   "cell_type": "markdown",
   "metadata": {},
   "source": [
    "## NounProject"
   ]
  },
  {
   "cell_type": "code",
   "execution_count": 284,
   "metadata": {},
   "outputs": [],
   "source": [
    "import requests, json\n",
    "from requests_oauthlib import OAuth1\n",
    "from PIL import Image\n",
    "import urllib.request\n",
    "import os"
   ]
  },
  {
   "cell_type": "code",
   "execution_count": 562,
   "metadata": {},
   "outputs": [],
   "source": [
    "png_dir = 'docs/NounProjectOutputs/png_images/'\n",
    "jpg_dir = 'docs/NounProjectOutputs/jpg_images/'"
   ]
  },
  {
   "cell_type": "code",
   "execution_count": 568,
   "metadata": {},
   "outputs": [],
   "source": [
    "auth = OAuth1(\"1aac7c276b39401f9f042c53e8f8e5d6\", \"38b8f9bf4a074812918528889a076fa1\")\n",
    "\n",
    "not_found = []\n",
    "no_icon_url = []\n",
    "\n",
    "l = os.listdir(png_dir)\n",
    "\n",
    "for search_terms in top3_each:\n",
    "    for search_term in search_terms:    \n",
    "        if ' ' in search_term:\n",
    "            search_term = search_term.split(' ')[-1]\n",
    "            \n",
    "        if search_term + '.png' in l:\n",
    "            continue\n",
    "        \n",
    "        endpoint = \"http://api.thenounproject.com/icon/\" + search_term\n",
    "        response = requests.get(endpoint, auth=auth)\n",
    "        \n",
    "        if(response.status_code==404):\n",
    "            not_found.append(search_term)\n",
    "            continue\n",
    "            \n",
    "        parsed_response = response.json()\n",
    "        \n",
    "        if 'preview_url' not in parsed_response['icon']:\n",
    "            no_icon_url.append(search_term)\n",
    "            continue\n",
    "            \n",
    "        icon_url = parsed_response['icon']['preview_url']\n",
    "        urllib.request.urlretrieve(icon_url, png_dir + search_term + \".png\")"
   ]
  },
  {
   "cell_type": "code",
   "execution_count": 569,
   "metadata": {},
   "outputs": [
    {
     "data": {
      "text/plain": [
       "['unbrainwashed', 'johnson', 'principals']"
      ]
     },
     "execution_count": 569,
     "metadata": {},
     "output_type": "execute_result"
    }
   ],
   "source": [
    "not_found"
   ]
  },
  {
   "cell_type": "code",
   "execution_count": 329,
   "metadata": {},
   "outputs": [],
   "source": [
    "not_found_all"
   ]
  },
  {
   "cell_type": "code",
   "execution_count": 281,
   "metadata": {},
   "outputs": [
    {
     "data": {
      "text/plain": [
       "['laidback', 'henry', 'deeply']"
      ]
     },
     "execution_count": 281,
     "metadata": {},
     "output_type": "execute_result"
    }
   ],
   "source": [
    "not_found_each"
   ]
  },
  {
   "cell_type": "code",
   "execution_count": 563,
   "metadata": {},
   "outputs": [],
   "source": [
    "def png2jpg(image_path):\n",
    "    image = Image.open('docs/NounProjectOutputs/png_images/' + image_path).convert(\"RGBA\")\n",
    "    new_image = Image.new(\"RGBA\", image.size, \"WHITE\")\n",
    "    new_image.paste(image, (0, 0), image)\n",
    "    new_image.convert('RGB').save(jpg_dir + image_path.split('.')[0] + '.jpg', \"JPEG\") "
   ]
  },
  {
   "cell_type": "code",
   "execution_count": 564,
   "metadata": {},
   "outputs": [],
   "source": [
    "for pngFile in os.listdir('docs/NounProjectOutputs/png_images/'):\n",
    "    png2jpg(pngFile)"
   ]
  },
  {
   "cell_type": "markdown",
   "metadata": {},
   "source": [
    "## Layout"
   ]
  },
  {
   "cell_type": "code",
   "execution_count": 554,
   "metadata": {},
   "outputs": [],
   "source": [
    "import math\n",
    "from PIL import Image\n",
    "\n",
    "def arrangeImagesInCircle(masterImage, imagesToArrange, radius):\n",
    "    imgWidth, imgHeight = masterImage.size\n",
    "\n",
    "#     diameter = min(\n",
    "#         imgWidth  - max(img.size[0] for img in imagesToArrange),\n",
    "#         imgHeight - max(img.size[1] for img in imagesToArrange)\n",
    "#     )\n",
    "#     radius = diameter / 2\n",
    "\n",
    "    circleCenterX = imgWidth  / 2\n",
    "    circleCenterY = imgHeight / 2\n",
    "    theta = 2*math.pi / len(imagesToArrange)\n",
    "    for i, curImg in enumerate(imagesToArrange):\n",
    "        angle = i * theta\n",
    "        dx = int(radius * math.cos(angle))\n",
    "        dy = int(radius * math.sin(angle))\n",
    "\n",
    "        pos = (\n",
    "            int(circleCenterX + dx - curImg.size[0]/2),\n",
    "            int(circleCenterY + dy - curImg.size[1]/2)\n",
    "        )\n",
    "        masterImage.paste(curImg, pos, mask=curImg)"
   ]
  },
  {
   "cell_type": "code",
   "execution_count": 570,
   "metadata": {},
   "outputs": [],
   "source": [
    "pngFilenames = []\n",
    "for search_terms in top3_each:\n",
    "    pngTemp = []\n",
    "    for search_term in search_terms:\n",
    "        if ' ' in search_term:\n",
    "            search_term = search_term.split(' ')[-1]\n",
    "        if search_term not in not_found:\n",
    "            pngTemp.append(png_dir + search_term + '.png')\n",
    "    pngFilenames.append(pngTemp)"
   ]
  },
  {
   "cell_type": "code",
   "execution_count": 571,
   "metadata": {},
   "outputs": [
    {
     "data": {
      "text/plain": [
       "[['docs/NounProjectOutputs/png_images/massachusetts.png',\n",
       "  'docs/NounProjectOutputs/png_images/good.png',\n",
       "  'docs/NounProjectOutputs/png_images/rabbit.png'],\n",
       " ['docs/NounProjectOutputs/png_images/willing.png',\n",
       "  'docs/NounProjectOutputs/png_images/people.png',\n",
       "  'docs/NounProjectOutputs/png_images/picture.png'],\n",
       " ['docs/NounProjectOutputs/png_images/feminist.png',\n",
       "  'docs/NounProjectOutputs/png_images/genuine.png',\n",
       "  'docs/NounProjectOutputs/png_images/generosity.png'],\n",
       " ['docs/NounProjectOutputs/png_images/became.png',\n",
       "  'docs/NounProjectOutputs/png_images/prefer.png',\n",
       "  'docs/NounProjectOutputs/png_images/alone.png'],\n",
       " ['docs/NounProjectOutputs/png_images/boring.png',\n",
       "  'docs/NounProjectOutputs/png_images/introspective.png',\n",
       "  'docs/NounProjectOutputs/png_images/sorrow.png'],\n",
       " ['docs/NounProjectOutputs/png_images/twenties.png',\n",
       "  'docs/NounProjectOutputs/png_images/outgoing.png',\n",
       "  'docs/NounProjectOutputs/png_images/friends.png'],\n",
       " ['docs/NounProjectOutputs/png_images/mom.png',\n",
       "  'docs/NounProjectOutputs/png_images/music.png',\n",
       "  'docs/NounProjectOutputs/png_images/sympathetic.png'],\n",
       " ['docs/NounProjectOutputs/png_images/counselor.png',\n",
       "  'docs/NounProjectOutputs/png_images/funny.png',\n",
       "  'docs/NounProjectOutputs/png_images/lot.png'],\n",
       " ['docs/NounProjectOutputs/png_images/american.png',\n",
       "  'docs/NounProjectOutputs/png_images/grumpy.png',\n",
       "  'docs/NounProjectOutputs/png_images/play.png'],\n",
       " ['docs/NounProjectOutputs/png_images/biracial.png',\n",
       "  'docs/NounProjectOutputs/png_images/riot.png',\n",
       "  'docs/NounProjectOutputs/png_images/glamorous.png'],\n",
       " ['docs/NounProjectOutputs/png_images/skydiver.png',\n",
       "  'docs/NounProjectOutputs/png_images/life.png',\n",
       "  'docs/NounProjectOutputs/png_images/intelligent.png'],\n",
       " ['docs/NounProjectOutputs/png_images/society.png',\n",
       "  'docs/NounProjectOutputs/png_images/sensitive.png',\n",
       "  'docs/NounProjectOutputs/png_images/count.png'],\n",
       " ['docs/NounProjectOutputs/png_images/know.png',\n",
       "  'docs/NounProjectOutputs/png_images/equally.png',\n",
       "  'docs/NounProjectOutputs/png_images/matter.png'],\n",
       " ['docs/NounProjectOutputs/png_images/human.png',\n",
       "  'docs/NounProjectOutputs/png_images/urbanity.png',\n",
       "  'docs/NounProjectOutputs/png_images/cities.png'],\n",
       " ['docs/NounProjectOutputs/png_images/musician.png',\n",
       "  'docs/NounProjectOutputs/png_images/tick.png'],\n",
       " ['docs/NounProjectOutputs/png_images/middle.png',\n",
       "  'docs/NounProjectOutputs/png_images/nurturing.png',\n",
       "  'docs/NounProjectOutputs/png_images/point.png'],\n",
       " ['docs/NounProjectOutputs/png_images/kind.png',\n",
       "  'docs/NounProjectOutputs/png_images/food.png',\n",
       "  'docs/NounProjectOutputs/png_images/humble.png'],\n",
       " ['docs/NounProjectOutputs/png_images/friend.png',\n",
       "  'docs/NounProjectOutputs/png_images/cry.png',\n",
       "  'docs/NounProjectOutputs/png_images/makes.png'],\n",
       " ['docs/NounProjectOutputs/png_images/important.png',\n",
       "  'docs/NounProjectOutputs/png_images/fun.png',\n",
       "  'docs/NounProjectOutputs/png_images/essence.png'],\n",
       " ['docs/NounProjectOutputs/png_images/old.png',\n",
       "  'docs/NounProjectOutputs/png_images/working.png',\n",
       "  'docs/NounProjectOutputs/png_images/ability.png'],\n",
       " ['docs/NounProjectOutputs/png_images/employed.png',\n",
       "  'docs/NounProjectOutputs/png_images/others.png',\n",
       "  'docs/NounProjectOutputs/png_images/time.png'],\n",
       " ['docs/NounProjectOutputs/png_images/courteous.png',\n",
       "  'docs/NounProjectOutputs/png_images/full.png',\n",
       "  'docs/NounProjectOutputs/png_images/happy.png'],\n",
       " ['docs/NounProjectOutputs/png_images/woman.png',\n",
       "  'docs/NounProjectOutputs/png_images/social.png',\n",
       "  'docs/NounProjectOutputs/png_images/willing.png'],\n",
       " ['docs/NounProjectOutputs/png_images/woman.png',\n",
       "  'docs/NounProjectOutputs/png_images/lot.png',\n",
       "  'docs/NounProjectOutputs/png_images/make.png'],\n",
       " ['docs/NounProjectOutputs/png_images/wife.png',\n",
       "  'docs/NounProjectOutputs/png_images/quiet.png',\n",
       "  'docs/NounProjectOutputs/png_images/husband.png'],\n",
       " ['docs/NounProjectOutputs/png_images/male.png',\n",
       "  'docs/NounProjectOutputs/png_images/shy.png',\n",
       "  'docs/NounProjectOutputs/png_images/everything.png'],\n",
       " ['docs/NounProjectOutputs/png_images/person.png',\n",
       "  'docs/NounProjectOutputs/png_images/approachable.png',\n",
       "  'docs/NounProjectOutputs/png_images/new.png'],\n",
       " ['docs/NounProjectOutputs/png_images/media.png',\n",
       "  'docs/NounProjectOutputs/png_images/person.png',\n",
       "  'docs/NounProjectOutputs/png_images/everyone.png'],\n",
       " ['docs/NounProjectOutputs/png_images/guy.png',\n",
       "  'docs/NounProjectOutputs/png_images/serious.png',\n",
       "  'docs/NounProjectOutputs/png_images/things.png'],\n",
       " ['docs/NounProjectOutputs/png_images/loves.png',\n",
       "  'docs/NounProjectOutputs/png_images/trying.png',\n",
       "  'docs/NounProjectOutputs/png_images/pursue.png'],\n",
       " ['docs/NounProjectOutputs/png_images/boys.png',\n",
       "  'docs/NounProjectOutputs/png_images/person.png',\n",
       "  'docs/NounProjectOutputs/png_images/created.png'],\n",
       " ['docs/NounProjectOutputs/png_images/wife.png',\n",
       "  'docs/NounProjectOutputs/png_images/compassionate.png',\n",
       "  'docs/NounProjectOutputs/png_images/write.png'],\n",
       " ['docs/NounProjectOutputs/png_images/children.png',\n",
       "  'docs/NounProjectOutputs/png_images/generous.png',\n",
       "  'docs/NounProjectOutputs/png_images/faith.png'],\n",
       " ['docs/NounProjectOutputs/png_images/independent.png',\n",
       "  'docs/NounProjectOutputs/png_images/warm.png',\n",
       "  'docs/NounProjectOutputs/png_images/makes.png'],\n",
       " ['docs/NounProjectOutputs/png_images/children.png',\n",
       "  'docs/NounProjectOutputs/png_images/go.png',\n",
       "  'docs/NounProjectOutputs/png_images/especially.png'],\n",
       " ['docs/NounProjectOutputs/png_images/pressure.png',\n",
       "  'docs/NounProjectOutputs/png_images/kind.png',\n",
       "  'docs/NounProjectOutputs/png_images/others.png'],\n",
       " ['docs/NounProjectOutputs/png_images/mom.png',\n",
       "  'docs/NounProjectOutputs/png_images/original.png',\n",
       "  'docs/NounProjectOutputs/png_images/ability.png'],\n",
       " ['docs/NounProjectOutputs/png_images/es.png',\n",
       "  'docs/NounProjectOutputs/png_images/infertility.png',\n",
       "  'docs/NounProjectOutputs/png_images/friends.png'],\n",
       " ['docs/NounProjectOutputs/png_images/lover.png',\n",
       "  'docs/NounProjectOutputs/png_images/love.png',\n",
       "  'docs/NounProjectOutputs/png_images/weird.png'],\n",
       " ['docs/NounProjectOutputs/png_images/smart.png',\n",
       "  'docs/NounProjectOutputs/png_images/clever.png',\n",
       "  'docs/NounProjectOutputs/png_images/animals.png'],\n",
       " ['docs/NounProjectOutputs/png_images/trying.png',\n",
       "  'docs/NounProjectOutputs/png_images/nerdy.png',\n",
       "  'docs/NounProjectOutputs/png_images/artistic.png'],\n",
       " ['docs/NounProjectOutputs/png_images/college.png',\n",
       "  'docs/NounProjectOutputs/png_images/art.png',\n",
       "  'docs/NounProjectOutputs/png_images/humor.png'],\n",
       " ['docs/NounProjectOutputs/png_images/funny.png',\n",
       "  'docs/NounProjectOutputs/png_images/going.png',\n",
       "  'docs/NounProjectOutputs/png_images/personality.png'],\n",
       " ['docs/NounProjectOutputs/png_images/strong.png',\n",
       "  'docs/NounProjectOutputs/png_images/past.png'],\n",
       " ['docs/NounProjectOutputs/png_images/advocate.png',\n",
       "  'docs/NounProjectOutputs/png_images/voice.png',\n",
       "  'docs/NounProjectOutputs/png_images/involved.png'],\n",
       " ['docs/NounProjectOutputs/png_images/educator.png',\n",
       "  'docs/NounProjectOutputs/png_images/small.png',\n",
       "  'docs/NounProjectOutputs/png_images/known.png'],\n",
       " ['docs/NounProjectOutputs/png_images/friend.png',\n",
       "  'docs/NounProjectOutputs/png_images/adventurous.png'],\n",
       " ['docs/NounProjectOutputs/png_images/currently.png',\n",
       "  'docs/NounProjectOutputs/png_images/time.png',\n",
       "  'docs/NounProjectOutputs/png_images/wit.png'],\n",
       " ['docs/NounProjectOutputs/png_images/mom.png',\n",
       "  'docs/NounProjectOutputs/png_images/loving.png',\n",
       "  'docs/NounProjectOutputs/png_images/caring.png'],\n",
       " ['docs/NounProjectOutputs/png_images/education.png',\n",
       "  'docs/NounProjectOutputs/png_images/guy.png',\n",
       "  'docs/NounProjectOutputs/png_images/generally.png']]"
      ]
     },
     "execution_count": 571,
     "metadata": {},
     "output_type": "execute_result"
    }
   ],
   "source": [
    "pngFilenames"
   ]
  },
  {
   "cell_type": "code",
   "execution_count": null,
   "metadata": {},
   "outputs": [],
   "source": [
    "jpgFilenames = [[jpg_dir + search_term + '.jpg' for search_term in search_terms if search_term not in not_found] for search_terms in top3_each]"
   ]
  },
  {
   "cell_type": "code",
   "execution_count": 572,
   "metadata": {},
   "outputs": [],
   "source": [
    "for i in range(50):\n",
    "    img = Image.new(\"RGB\", (600,600), \"WHITE\")\n",
    "\n",
    "    images = [Image.open(filename) for filename in pngFilenames[i]]\n",
    "    arrangeImagesInCircle(img, images, 100)\n",
    "\n",
    "    img.convert('RGB').save(\"docs/EssenceOutputs-ngrams/essence-\" + str(i) + \".jpg\", \"JPEG\")"
   ]
  },
  {
   "cell_type": "markdown",
   "metadata": {},
   "source": [
    "## Detect Mood"
   ]
  },
  {
   "cell_type": "code",
   "execution_count": 25,
   "metadata": {},
   "outputs": [],
   "source": [
    "import pandas as pd\n",
    "import numpy as np\n",
    "from nltk.corpus import stopwords\n",
    "import re\n",
    "from sklearn import preprocessing\n",
    "from sklearn.model_selection import train_test_split\n",
    "from sklearn.feature_extraction.text import TfidfVectorizer\n",
    "from sklearn.feature_extraction.text import CountVectorizer\n",
    "from sklearn.metrics import accuracy_score\n",
    "from sklearn.naive_bayes import MultinomialNB\n",
    "from sklearn.linear_model import SGDClassifier\n",
    "from sklearn.linear_model import LogisticRegression\n",
    "from sklearn.ensemble import RandomForestClassifier"
   ]
  },
  {
   "cell_type": "code",
   "execution_count": 503,
   "metadata": {},
   "outputs": [],
   "source": [
    "data = pd.read_csv('text_emotion.csv')\n",
    "\n",
    "# sentiment_list = ['anger', 'boredom', 'empty', 'enthusiasm', 'fun', 'happiness', \n",
    "#                   'hate', 'love', 'neutral', 'relief', 'sadness', 'surprise', 'worry']\n",
    "\n",
    "data = data.drop('author', axis=1)\n",
    "data = data.drop(data[data.sentiment == 'boredom'].index)\n",
    "data = data.drop(data[data.sentiment == 'empty'].index)\n",
    "data = data.drop(data[data.sentiment == 'fun'].index)\n",
    "data = data.drop(data[data.sentiment == 'relief'].index)\n",
    "data = data.drop(data[data.sentiment == 'surprise'].index)\n",
    "data = data.drop(data[data.sentiment == 'sadness'].index)\n",
    "data = data.drop(data[data.sentiment == 'fun'].index)\n",
    "data = data.drop(data[data.sentiment == 'enthusiasm'].index)\n",
    "\n",
    "# Making all letters lowercase\n",
    "data['content'] = data['content'].apply(lambda x: \" \".join(x.lower() for x in x.split()))\n",
    "\n",
    "# Removing Punctuation, Symbols\n",
    "data['content'] = data['content'].str.replace('[^\\w\\s]',' ')\n",
    "\n",
    "# Removing Stop Words using NLTK\n",
    "stop = stopwords.words('english')\n",
    "data['content'] = data['content'].apply(lambda x: \" \".join(x for x in x.split() if x not in stop))\n",
    "\n",
    "# #Lemmatisation\n",
    "# data['content'] = data['content'].apply(lambda x: \" \".join([Word(word).lemmatize() for word in x.split()]))\n",
    "#Correcting Letter Repetitions\n",
    "\n",
    "def de_repeat(text):\n",
    "    pattern = re.compile(r\"(.)\\1{2,}\")\n",
    "    return pattern.sub(r\"\\1\\1\", text)\n",
    "\n",
    "data['content'] = data['content'].apply(lambda x: \" \".join(de_repeat(x) for x in x.split()))\n",
    "\n",
    "# Code to find the top 10,000 rarest words appearing in the data\n",
    "freq = pd.Series(' '.join(data['content']).split()).value_counts()[-10000:]\n",
    "\n",
    "# Removing all those rarely appearing words from the data\n",
    "freq = list(freq.index)\n",
    "data['content'] = data['content'].apply(lambda x: \" \".join(x for x in x.split() if x not in freq))\n",
    "\n",
    "#Encoding output labels 'sadness' as '1' & 'happiness' as '0'\n",
    "lbl_enc = preprocessing.LabelEncoder()\n",
    "y = lbl_enc.fit_transform(data.sentiment.values)\n",
    "\n",
    "# Splitting into training and testing data in 90:10 ratio\n",
    "X_train, X_val, y_train, y_val = train_test_split(data.content.values, y, stratify=y, random_state=42, test_size=0.1, shuffle=True)\n",
    "\n",
    "# Extracting TF-IDF parameters\n",
    "# tfidf = TfidfVectorizer(max_features=1000, analyzer='word',ngram_range=(1,3))\n",
    "# X_train_tfidf = tfidf.fit_transform(X_train)\n",
    "# X_val_tfidf = tfidf.fit_transform(X_val)\n",
    "\n",
    "# Extracting Count Vectors Parameters\n",
    "count_vect = CountVectorizer(analyzer='word')\n",
    "count_vect.fit(data['content'])\n",
    "X_train_count =  count_vect.transform(X_train)\n",
    "X_val_count =  count_vect.transform(X_val)"
   ]
  },
  {
   "cell_type": "code",
   "execution_count": 504,
   "metadata": {},
   "outputs": [
    {
     "data": {
      "text/plain": [
       "[(0, 'anger'),\n",
       " (1, 'happiness'),\n",
       " (2, 'hate'),\n",
       " (3, 'love'),\n",
       " (4, 'neutral'),\n",
       " (5, 'worry')]"
      ]
     },
     "execution_count": 504,
     "metadata": {},
     "output_type": "execute_result"
    }
   ],
   "source": [
    "list(enumerate(lbl_enc.classes_))"
   ]
  },
  {
   "cell_type": "code",
   "execution_count": 505,
   "metadata": {},
   "outputs": [
    {
     "name": "stdout",
     "output_type": "stream",
     "text": [
      "lsvm using count vectors accuracy 0.5070677781805002\n"
     ]
    },
    {
     "name": "stderr",
     "output_type": "stream",
     "text": [
      "//anaconda3/envs/cs231n/lib/python3.7/site-packages/sklearn/linear_model/logistic.py:432: FutureWarning: Default solver will be changed to 'lbfgs' in 0.22. Specify a solver to silence this warning.\n",
      "  FutureWarning)\n",
      "//anaconda3/envs/cs231n/lib/python3.7/site-packages/sklearn/linear_model/logistic.py:469: FutureWarning: Default multi_class will be changed to 'auto' in 0.22. Specify the multi_class option to silence this warning.\n",
      "  \"this warning.\", FutureWarning)\n"
     ]
    },
    {
     "name": "stdout",
     "output_type": "stream",
     "text": [
      "log reg count vectors accuracy 0.501268575570859\n"
     ]
    }
   ],
   "source": [
    "# Model 1: Linear SVM\n",
    "lsvm = SGDClassifier(alpha=0.001, random_state=5, max_iter=15, tol=None)\n",
    "lsvm.fit(X_train_count, y_train)\n",
    "y_pred = lsvm.predict(X_val_count)\n",
    "print('lsvm using count vectors accuracy %s' % accuracy_score(y_pred, y_val))\n",
    "\n",
    "# Model 2: Logistic Regression\n",
    "logreg = LogisticRegression(C=1)\n",
    "logreg.fit(X_train_count, y_train)\n",
    "y_pred = logreg.predict(X_val_count)\n",
    "print('log reg count vectors accuracy %s' % accuracy_score(y_pred, y_val))"
   ]
  },
  {
   "cell_type": "code",
   "execution_count": 506,
   "metadata": {},
   "outputs": [
    {
     "name": "stdout",
     "output_type": "stream",
     "text": [
      "[3 3 4 3 5 5 4 1 5 3 3 4 3 4 4 1 3 5 5 5 3 1 1 1 3 5 5 3 5 3 3 3 3 5 1 5 3\n",
      " 3 3 3 3 3 1 3 5 3 4 3 3 1]\n"
     ]
    }
   ],
   "source": [
    "desc_count_vectors = count_vect.transform(descriptors)\n",
    "\n",
    "desc_emotion_pred = lsvm.predict(desc_count_vectors)\n",
    "print(desc_emotion_pred)"
   ]
  },
  {
   "cell_type": "code",
   "execution_count": 253,
   "metadata": {},
   "outputs": [],
   "source": [
    "from IPython.display import Image, display, HTML"
   ]
  },
  {
   "cell_type": "code",
   "execution_count": 507,
   "metadata": {},
   "outputs": [],
   "source": [
    "desc_emotions = []\n",
    "k = 0\n",
    "for i in desc_array:\n",
    "    desc_emotions.append((i, lbl_enc.classes_[desc_emotion_pred[k]]))\n",
    "    k += 1"
   ]
  },
  {
   "cell_type": "code",
   "execution_count": 508,
   "metadata": {},
   "outputs": [
    {
     "data": {
      "text/plain": [
       "[(['Person 1',\n",
       "   'I am a 28-year-old woman living in Massachusetts.',\n",
       "   \"I'm neurotic and eccentric but good at heart.\",\n",
       "   'I am obsessed with rabbits and love technology.'],\n",
       "  'love'),\n",
       " (['Person 2',\n",
       "   'I am dedicated and persistent and willing to go the extra mil',\n",
       "   \"'m fun loving and like to make people laugh by telling jokes and making light of situations\",\n",
       "   'I am insightful and am able to fit together pieces to understand the big pictur'],\n",
       "  'love'),\n",
       " (['Person 3',\n",
       "   'I am a feminist, a student, and a homosexual.',\n",
       "   'I am kind, nurturing, caring, and genuine.',\n",
       "   'My honesty, my loyalty, and my generosity make me me.'],\n",
       "  'neutral'),\n",
       " (['Person 4',\n",
       "   \"I'm an immigrant who became a citizen of the United States. I'm an American.\",\n",
       "   \"I can be stubborn and stand-offish, but I still care very much about my friends and family. I'm a nerd about movies/tvshows/books. I love video games and prefer to stay home.\",\n",
       "   \"I'm introverted, so I need time alone to recharge and recalibrate.\"],\n",
       "  'love'),\n",
       " (['Person 5',\n",
       "   \"I'm a boring person\",\n",
       "   \"I'm quiet and introspective.\",\n",
       "   'I have deep wells of sorrow.'],\n",
       "  'worry'),\n",
       " (['Person 6',\n",
       "   'I am a girl who lives in New York City in my twenties who is incredibly close with my family.',\n",
       "   'I am very social and outgoing.',\n",
       "   'I am outgoing and care tremendously about my friends.'],\n",
       "  'worry'),\n",
       " (['Person 7',\n",
       "   'I am a mom of 3',\n",
       "   'I like R &B Music, Japanese Food, Pizz',\n",
       "   'I am sympathetic.'],\n",
       "  'neutral'),\n",
       " (['Person 8',\n",
       "   'I am a licensed counselor.',\n",
       "   \"I'm silly and funny.\",\n",
       "   \"I'm fun and sarcastic a lot of the time.\"],\n",
       "  'happiness'),\n",
       " (['Person 9',\n",
       "   \"I'm Jim, a 53 year old american man\",\n",
       "   \"I'm forceful, happy, calm and occasionally grumpy with a touch of sarcasm.\",\n",
       "   \"I'm a drivan dominant at work and play. My wife is essential to my life. I'd be lost without her grounding me.\"],\n",
       "  'worry'),\n",
       " (['Person 10',\n",
       "   \"I'm a fat, biracial bisexual woman.\",\n",
       "   \"I'm a funny depressive--aren't all depressives a riot?\",\n",
       "   \"I'm a boring drudge, not glamorous or fancy, but fairly dependable.\"],\n",
       "  'love'),\n",
       " (['Person 11',\n",
       "   'I am an adventurous geeky skydiv',\n",
       "   'I am fun-loving and love life.',\n",
       "   'I am intelligent and caring.'],\n",
       "  'love'),\n",
       " (['Person 12',\n",
       "   \"I am a person who believes that honesty and integrity is very important in today's society and world.\",\n",
       "   'I am a person who is warm and sensitive to the feelings of others.',\n",
       "   'I see myself as one who you can count when the chips are down.'],\n",
       "  'neutral'),\n",
       " (['Person 13',\n",
       "   \"I am shy from those whom I don't know yet energetic and caring to those whom I do know.\",\n",
       "   'I am a very happy and appreciate all life equally.',\n",
       "   'God is an important part of who I am. He allows me to me loving to all creatures no matter how small.'],\n",
       "  'love'),\n",
       " (['Person 14',\n",
       "   'I am a human',\n",
       "   'I am curious and interested in urban',\n",
       "   'My passion for cities and cultur'],\n",
       "  'neutral'),\n",
       " (['Person 15',\n",
       "   'I am a musician',\n",
       "   'm very laidback, easy going and unbrainwashed.',\n",
       "   'Making music makes me tick.'],\n",
       "  'neutral'),\n",
       " (['Person 16',\n",
       "   'I am a middle aged woman.',\n",
       "   'I am easy-going, caring, and nurturing.',\n",
       "   \"My essence is that I care a great deal about others to the point that I don't take care of myself.\"],\n",
       "  'happiness'),\n",
       " (['Person 17',\n",
       "   'A male human being with a kind and loving personality.',\n",
       "   'Video Games and food',\n",
       "   'Humble, Kind, Loving'],\n",
       "  'love'),\n",
       " (['Person 18',\n",
       "   'I am a mother, wife, and friend',\n",
       "   'I am like the shoulder you can cry on, or a listening ear.',\n",
       "   'My family makes me me!'],\n",
       "  'worry'),\n",
       " (['Person 19',\n",
       "   'I am an \"older\" adult who is finally understanding what is important and not important in this life.',\n",
       "   'I am an outgoing, sensitive, fun, creative and active person.',\n",
       "   \"Family is the essence of what makes me me. Without them, I'd be at a total loss.\"],\n",
       "  'worry'),\n",
       " (['Person 20',\n",
       "   \"I'm a 30 year old married man with a 2 year old daughter.\",\n",
       "   \"I'm hard working, determined, goal oriented, relaxed and down to earth.\",\n",
       "   'My ability to get along well with almost anyone is what makes me Me.'],\n",
       "  'worry'),\n",
       " (['Person 21',\n",
       "   'I am an untraditional college student who is employed full time.',\n",
       "   \"I am an agreeable person who doesn't like to be bothered with others.\",\n",
       "   'I am an introvert who is happy to pass the time by myself.'],\n",
       "  'love'),\n",
       " (['Person 22',\n",
       "   'A courteous femal',\n",
       "   'Friendly and full of energy.',\n",
       "   'Family is making me to smile and be happy.'],\n",
       "  'happiness'),\n",
       " (['Person 23',\n",
       "   'A 52 year old married woman',\n",
       "   'Fun, outgoing, and social.',\n",
       "   'I am always willing to lend a hand or give a listening ear.'],\n",
       "  'happiness'),\n",
       " (['Person 24',\n",
       "   'I am a 25 year old American woman',\n",
       "   'I am introverted but also very nice and like to learn',\n",
       "   'I try to make other people around me happy and try to make the world a better place to liv'],\n",
       "  'happiness'),\n",
       " (['Person 25',\n",
       "   'I am a mom and a wife.',\n",
       "   'I am pretty boring and quiet.',\n",
       "   'My love for my husband.'],\n",
       "  'love'),\n",
       " (['Person 26',\n",
       "   '28 year old mal',\n",
       "   'ntellegent and s',\n",
       "   'like to think about everything'],\n",
       "  'worry'),\n",
       " (['Person 27',\n",
       "   'n inquisitive person',\n",
       "   'friendly and approachab',\n",
       "   'desire to always learn new thing'],\n",
       "  'worry'),\n",
       " (['Person 28',\n",
       "   'I am donald, I am a 25 year old married man, working full time as a social media manager.',\n",
       "   'I am a friendly person, I like the outdoors, and going on adventures with my friends and family.',\n",
       "   'I am warm hearted individual, I am very kind, I love everyone and try never to judge anyone, I put others before myself.'],\n",
       "  'love'),\n",
       " (['Person 29',\n",
       "   \"I'm an average guy. A father, husband, brother, employee and friend. I am much like any other guy.\",\n",
       "   \"I'm pretty down to earth. I like to laugh and play video games but I can be serious when I need to be serious.\",\n",
       "   'I think what makes me me is that I am very open-minded as a person. I believe in forming my own opinions rather than just taking things at face value. I like to learn and experience things rather than be told how things are.'],\n",
       "  'worry'),\n",
       " (['Person 30',\n",
       "   \"I'm a man who loves his wife very much.\",\n",
       "   \"I'm loyal, devoted and always trying to do best in order to support our family.\",\n",
       "   'Faith and strong will to pursue my hopes and dreams makes me to push through the day.'],\n",
       "  'love'),\n",
       " (['Person 31',\n",
       "   'I am a 43 old mother of two young boys under 7. I am am only child. I will be married for 9years in june.',\n",
       "   'I am an honest person. I am very disorganized and tend to be a half full person. I am loyal.',\n",
       "   'I have been created by God and uniquely created . My life experiences have made me me.'],\n",
       "  'love'),\n",
       " (['Person 32',\n",
       "   'I am a woman, a wife, a mother of 4.',\n",
       "   'I am introverted, quiet, compassionate, impractical, prone to depression.',\n",
       "   'I love to write.'],\n",
       "  'love'),\n",
       " (['Person 33',\n",
       "   \"I'm a wife and mother of 5 children.\",\n",
       "   'I am introverted, honest and generous.',\n",
       "   'My Catholic faith is a big part of who I am and how I live my life.'],\n",
       "  'love'),\n",
       " (['Person 34',\n",
       "   'im a strong independent person.',\n",
       "   'm kind and warm hearted.',\n",
       "   'persoanility makes me who i am.'],\n",
       "  'worry'),\n",
       " (['Person 35',\n",
       "   \"I'm a mom of 3 children.\",\n",
       "   'I am an outgoing, fun person who likes to go out and be social.',\n",
       "   'I am sincere, honest, and a good friend.  I am caring to others, especially my close friends!'],\n",
       "  'happiness'),\n",
       " (['Person 36',\n",
       "   'Someone who is calm, peaceful and stays relaxed under pressure.',\n",
       "   'I am nice, kind and funny but usually quiet.',\n",
       "   'I am caring, and I feel the need to help others.'],\n",
       "  'worry'),\n",
       " (['Person 37', \"I'm a loving and caring mom.\", 'Fun, original, happ', 'M'],\n",
       "  'love'),\n",
       " (['Person 38',\n",
       "   'I am a teacher of ESL',\n",
       "   'I love my husband and our dog, and want to be a mom, even though we are currently struggling with a miscarriage after 2 years of infertility treatments.',\n",
       "   'Right now, humor and talking to my friends in my infertility support group, as well as hanging out and taking pictures of my dog and husband.'],\n",
       "  'love'),\n",
       " (['Person 39',\n",
       "   \"I'm a cat lover who's kind of weird, but smart and funny.\",\n",
       "   \"I'm relaxed and love animals.\",\n",
       "   'I have kind of a weird take on things.'],\n",
       "  'love'),\n",
       " (['Person 40',\n",
       "   'i am a hard working smart femal',\n",
       "   'm funny yet clever and warm',\n",
       "   'love for animals and other'],\n",
       "  'love'),\n",
       " (['Person 41',\n",
       "   \"I'm just a nice guy trying to be loving to others and find his way in the world.\",\n",
       "   \"I'm nerdy, intelligent, and funny.\",\n",
       "   \"I'm nobody special, but I do value my individuality and I love artistic expression.\"],\n",
       "  'love'),\n",
       " (['Person 42',\n",
       "   'I am a wife, mother, and college student.',\n",
       "   'I am a loving, smart, fun, caring person . I love to sing, write, do crafts, art and whatever else I can do to help uplift others.',\n",
       "   'My personality and humor. But more importantly my big heart.'],\n",
       "  'love'),\n",
       " (['Person 43',\n",
       "   'I am funny.',\n",
       "   'I am easy going.',\n",
       "   'I have a great personality.'],\n",
       "  'happiness'),\n",
       " (['Person 44',\n",
       "   'nry johnson',\n",
       "   'stern,friendly,loving,strong of mind,family oriented,good worker,always looking forward within memories of the pas',\n",
       "   'loving all the members of my faily,past and pr'],\n",
       "  'love'),\n",
       " (['Person 45',\n",
       "   'I am a daughter, sister, friend, and advocat',\n",
       "   \"I advocate for those who don't have a voic\",\n",
       "   'I care so deeply about children involved in the system and I will do almost anything to help them!'],\n",
       "  'worry'),\n",
       " (['Person 46',\n",
       "   'I am a mom, wife, educator, sister, and daughter.',\n",
       "   \"I'm an introverted extrovert. I love to be on stage and the center of attention, but I hate small talk.\",\n",
       "   'I am my own unique person who has never been known to follow a crowd.'],\n",
       "  'love'),\n",
       " (['Person 47',\n",
       "   'I am a mother, friend, and wif',\n",
       "   'I am active, adventurous, and hardwarling.',\n",
       "   'My values and principals.'],\n",
       "  'neutral'),\n",
       " (['Person 48',\n",
       "   'I am a soul that currently has the role of wife, mother, daughter, sister, and friend.',\n",
       "   \"I'm an introspective, introverted individual who cherishes both family time and alone time.\",\n",
       "   'My quick wit, warm smile, and love of laughter make me who I am.'],\n",
       "  'love'),\n",
       " (['Person 49',\n",
       "   'I am a working mom.',\n",
       "   'I am calm, determined, and loving.',\n",
       "   'The essence of what makes me is my compassion and caring.'],\n",
       "  'love'),\n",
       " (['Person 50',\n",
       "   'I am a 27 year old special education teacher who lives in California.',\n",
       "   'I am a sociable and very goofy young guy who likes to make everyone laugh.',\n",
       "   'The essence of what makes me myself is that I am always generally positive and like to spread a smile to all those around me!'],\n",
       "  'happiness')]"
      ]
     },
     "execution_count": 508,
     "metadata": {},
     "output_type": "execute_result"
    }
   ],
   "source": [
    "desc_emotions"
   ]
  },
  {
   "cell_type": "markdown",
   "metadata": {},
   "source": [
    "## Essence - All"
   ]
  },
  {
   "cell_type": "code",
   "execution_count": 260,
   "metadata": {},
   "outputs": [
    {
     "name": "stdout",
     "output_type": "stream",
     "text": [
      "['Person 1', 'I am a 28-year-old woman living in Massachusetts.', \"I'm neurotic and eccentric but good at heart.\", 'I am obsessed with rabbits and love technology.']\n",
      "['living', 'obsessed', 'rabbits'] \n",
      "\n"
     ]
    },
    {
     "data": {
      "text/html": [
       "<table><tr><td><img src='NounProjectOutputs/jpg_images/living.jpg'></td><td><img src='NounProjectOutputs/jpg_images/obsessed.jpg'></td><td><img src='NounProjectOutputs/jpg_images/rabbits.jpg'></td><td></td><td><img src='EssenceOutputs/essence-0.jpg'></td></tr></table>"
      ],
      "text/plain": [
       "<IPython.core.display.HTML object>"
      ]
     },
     "metadata": {},
     "output_type": "display_data"
    },
    {
     "name": "stdout",
     "output_type": "stream",
     "text": [
      "['Person 2', 'I am dedicated and persistent and willing to go the extra mile', \"i'm fun loving and like to make people laugh by telling jokes and making light of situations\", 'I am insightful and am able to fit together pieces to understand the big picture']\n",
      "['mile', 'together', 'situations'] \n",
      "\n"
     ]
    },
    {
     "data": {
      "text/html": [
       "<table><tr><td><img src='NounProjectOutputs/jpg_images/mile.jpg'></td><td><img src='NounProjectOutputs/jpg_images/together.jpg'></td><td><img src='NounProjectOutputs/jpg_images/situations.jpg'></td><td></td><td><img src='EssenceOutputs/essence-1.jpg'></td></tr></table>"
      ],
      "text/plain": [
       "<IPython.core.display.HTML object>"
      ]
     },
     "metadata": {},
     "output_type": "display_data"
    },
    {
     "name": "stdout",
     "output_type": "stream",
     "text": [
      "['Person 3', 'I am a feminist, a student, and a homosexual.', 'I am kind, nurturing, caring, and genuine.', 'My honesty, my loyalty, and my generosity make me me.']\n",
      "['generosity', 'loyalty', 'homosexual'] \n",
      "\n"
     ]
    },
    {
     "data": {
      "text/html": [
       "<table><tr><td><img src='NounProjectOutputs/jpg_images/generosity.jpg'></td><td><img src='NounProjectOutputs/jpg_images/loyalty.jpg'></td><td><img src='NounProjectOutputs/jpg_images/homosexual.jpg'></td><td></td><td><img src='EssenceOutputs/essence-2.jpg'></td></tr></table>"
      ],
      "text/plain": [
       "<IPython.core.display.HTML object>"
      ]
     },
     "metadata": {},
     "output_type": "display_data"
    },
    {
     "name": "stdout",
     "output_type": "stream",
     "text": [
      "['Person 4', \"I'm an immigrant who became a citizen of the United States. I'm an American.\", \"I can be stubborn and stand-offish, but I still care very much about my friends and family. I'm a nerd about movies/tvshows/books. I love video games and prefer to stay home.\", \"I'm introverted, so I need time alone to recharge and recalibrate.\"]\n",
      "['prefer', 'stubborn', 'became'] \n",
      "\n"
     ]
    },
    {
     "data": {
      "text/html": [
       "<table><tr><td><img src='NounProjectOutputs/jpg_images/prefer.jpg'></td><td><img src='NounProjectOutputs/jpg_images/stubborn.jpg'></td><td><img src='NounProjectOutputs/jpg_images/became.jpg'></td><td></td><td><img src='EssenceOutputs/essence-3.jpg'></td></tr></table>"
      ],
      "text/plain": [
       "<IPython.core.display.HTML object>"
      ]
     },
     "metadata": {},
     "output_type": "display_data"
    },
    {
     "name": "stdout",
     "output_type": "stream",
     "text": [
      "['Person 5', \"I'm a boring person\", \"I'm quiet and introspective.\", 'I have deep wells of sorrow.']\n",
      "['sorrow', 'deep', 'wells'] \n",
      "\n"
     ]
    },
    {
     "data": {
      "text/html": [
       "<table><tr><td><img src='NounProjectOutputs/jpg_images/sorrow.jpg'></td><td><img src='NounProjectOutputs/jpg_images/deep.jpg'></td><td><img src='NounProjectOutputs/jpg_images/wells.jpg'></td><td></td><td><img src='EssenceOutputs/essence-4.jpg'></td></tr></table>"
      ],
      "text/plain": [
       "<IPython.core.display.HTML object>"
      ]
     },
     "metadata": {},
     "output_type": "display_data"
    },
    {
     "name": "stdout",
     "output_type": "stream",
     "text": [
      "['Person 6', 'I am a girl who lives in New York City in my twenties who is incredibly close with my family.', 'I am very social and outgoing.', 'I am outgoing and care tremendously about my friends.']\n",
      "['outgoing', 'tremendously', 'incredibly'] \n",
      "\n"
     ]
    },
    {
     "data": {
      "text/html": [
       "<table><tr><td><img src='NounProjectOutputs/jpg_images/outgoing.jpg'></td><td><img src='NounProjectOutputs/jpg_images/tremendously.jpg'></td><td><img src='NounProjectOutputs/jpg_images/incredibly.jpg'></td><td></td><td><img src='EssenceOutputs/essence-5.jpg'></td></tr></table>"
      ],
      "text/plain": [
       "<IPython.core.display.HTML object>"
      ]
     },
     "metadata": {},
     "output_type": "display_data"
    },
    {
     "name": "stdout",
     "output_type": "stream",
     "text": [
      "['Person 7', 'I am a mom of 3', 'I like R &B Music, Japanese Food, Pizza', 'I am sympathetic.']\n",
      "['japanese', 'pizza', 'sympathetic'] \n",
      "\n"
     ]
    },
    {
     "data": {
      "text/html": [
       "<table><tr><td><img src='NounProjectOutputs/jpg_images/japanese.jpg'></td><td><img src='NounProjectOutputs/jpg_images/pizza.jpg'></td><td><img src='NounProjectOutputs/jpg_images/sympathetic.jpg'></td><td></td><td><img src='EssenceOutputs/essence-6.jpg'></td></tr></table>"
      ],
      "text/plain": [
       "<IPython.core.display.HTML object>"
      ]
     },
     "metadata": {},
     "output_type": "display_data"
    },
    {
     "name": "stdout",
     "output_type": "stream",
     "text": [
      "['Person 8', 'I am a licensed counselor.', \"I'm silly and funny.\", \"I'm fun and sarcastic a lot of the time.\"]\n",
      "['silly', 'counsellor', 'licensed'] \n",
      "\n"
     ]
    },
    {
     "data": {
      "text/html": [
       "<table><tr><td><img src='NounProjectOutputs/jpg_images/silly.jpg'></td><td><img src='NounProjectOutputs/jpg_images/counsellor.jpg'></td><td><img src='NounProjectOutputs/jpg_images/licensed.jpg'></td><td></td><td><img src='EssenceOutputs/essence-7.jpg'></td></tr></table>"
      ],
      "text/plain": [
       "<IPython.core.display.HTML object>"
      ]
     },
     "metadata": {},
     "output_type": "display_data"
    },
    {
     "name": "stdout",
     "output_type": "stream",
     "text": [
      "['Person 9', \"I'm Jim, a 53 year old american man\", \"I'm forceful, happy, calm and occasionally grumpy with a touch of sarcasm.\", \"I'm a drivan dominant at work and play. My wife is essential to my life. I'd be lost without her grounding me.\"]\n",
      "['essential', 'sarcasm', 'occasionally'] \n",
      "\n"
     ]
    },
    {
     "data": {
      "text/html": [
       "<table><tr><td><img src='NounProjectOutputs/jpg_images/essential.jpg'></td><td><img src='NounProjectOutputs/jpg_images/sarcasm.jpg'></td><td><img src='NounProjectOutputs/jpg_images/occasionally.jpg'></td><td></td><td><img src='EssenceOutputs/essence-8.jpg'></td></tr></table>"
      ],
      "text/plain": [
       "<IPython.core.display.HTML object>"
      ]
     },
     "metadata": {},
     "output_type": "display_data"
    },
    {
     "name": "stdout",
     "output_type": "stream",
     "text": [
      "['Person 10', \"I'm a fat, biracial bisexual woman.\", \"I'm a funny depressive--aren't all depressives a riot?\", \"I'm a boring drudge, not glamorous or fancy, but fairly dependable.\"]\n",
      "['glamorous', 'bisexual', 'racial'] \n",
      "\n"
     ]
    },
    {
     "data": {
      "text/html": [
       "<table><tr><td><img src='NounProjectOutputs/jpg_images/glamorous.jpg'></td><td><img src='NounProjectOutputs/jpg_images/bisexual.jpg'></td><td><img src='NounProjectOutputs/jpg_images/racial.jpg'></td><td></td><td><img src='EssenceOutputs/essence-9.jpg'></td></tr></table>"
      ],
      "text/plain": [
       "<IPython.core.display.HTML object>"
      ]
     },
     "metadata": {},
     "output_type": "display_data"
    },
    {
     "name": "stdout",
     "output_type": "stream",
     "text": [
      "['Person 11', 'I am an adventurous geeky skydiver', 'I am fun-loving and love life.', 'I am intelligent and caring.']\n",
      "['skydiver', 'geek', 'adventurous'] \n",
      "\n"
     ]
    },
    {
     "data": {
      "text/html": [
       "<table><tr><td><img src='NounProjectOutputs/jpg_images/skydiver.jpg'></td><td><img src='NounProjectOutputs/jpg_images/geek.jpg'></td><td><img src='NounProjectOutputs/jpg_images/adventurous.jpg'></td><td></td><td><img src='EssenceOutputs/essence-10.jpg'></td></tr></table>"
      ],
      "text/plain": [
       "<IPython.core.display.HTML object>"
      ]
     },
     "metadata": {},
     "output_type": "display_data"
    },
    {
     "name": "stdout",
     "output_type": "stream",
     "text": [
      "['Person 12', \"I am a person who believes that honesty and integrity is very important in today's society and world.\", 'I am a person who is warm and sensitive to the feelings of others.', 'I see myself as one who you can count when the chips are down.']\n",
      "['person', 'see', 'today'] \n",
      "\n"
     ]
    },
    {
     "data": {
      "text/html": [
       "<table><tr><td><img src='NounProjectOutputs/jpg_images/person.jpg'></td><td><img src='NounProjectOutputs/jpg_images/see.jpg'></td><td><img src='NounProjectOutputs/jpg_images/today.jpg'></td><td></td><td><img src='EssenceOutputs/essence-11.jpg'></td></tr></table>"
      ],
      "text/plain": [
       "<IPython.core.display.HTML object>"
      ]
     },
     "metadata": {},
     "output_type": "display_data"
    },
    {
     "name": "stdout",
     "output_type": "stream",
     "text": [
      "['Person 13', \"I am shy from those whom I don't know yet energetic and caring to those whom I do know.\", 'I am a very happy and appreciate all life equally.', 'God is an important part of who I am. He allows me to me loving to all creatures no matter how small.']\n",
      "['know', 'matter', 'allows'] \n",
      "\n"
     ]
    },
    {
     "data": {
      "text/html": [
       "<table><tr><td><img src='NounProjectOutputs/jpg_images/know.jpg'></td><td><img src='NounProjectOutputs/jpg_images/matter.jpg'></td><td><img src='NounProjectOutputs/jpg_images/allows.jpg'></td><td></td><td><img src='EssenceOutputs/essence-12.jpg'></td></tr></table>"
      ],
      "text/plain": [
       "<IPython.core.display.HTML object>"
      ]
     },
     "metadata": {},
     "output_type": "display_data"
    },
    {
     "name": "stdout",
     "output_type": "stream",
     "text": [
      "['Person 14', 'I am a human', 'I am curious and interested in urbanity', 'My passion for cities and culture']\n",
      "['interested', 'cities', 'passion'] \n",
      "\n"
     ]
    },
    {
     "data": {
      "text/html": [
       "<table><tr><td><img src='NounProjectOutputs/jpg_images/interested.jpg'></td><td><img src='NounProjectOutputs/jpg_images/cities.jpg'></td><td><img src='NounProjectOutputs/jpg_images/passion.jpg'></td><td></td><td><img src='EssenceOutputs/essence-13.jpg'></td></tr></table>"
      ],
      "text/plain": [
       "<IPython.core.display.HTML object>"
      ]
     },
     "metadata": {},
     "output_type": "display_data"
    },
    {
     "name": "stdout",
     "output_type": "stream",
     "text": [
      "['Person 15', 'I am a musician', 'i am very laidback, easy going and unbrainwashed.', 'Making music makes me tick.']\n",
      "['laidback', 'tick', 'musician'] \n",
      "\n"
     ]
    },
    {
     "data": {
      "text/html": [
       "<table><tr><td><img src='NounProjectOutputs/jpg_images/laidback.jpg'></td><td><img src='NounProjectOutputs/jpg_images/tick.jpg'></td><td><img src='NounProjectOutputs/jpg_images/musician.jpg'></td><td></td><td><img src='EssenceOutputs/essence-14.jpg'></td></tr></table>"
      ],
      "text/plain": [
       "<IPython.core.display.HTML object>"
      ]
     },
     "metadata": {},
     "output_type": "display_data"
    },
    {
     "name": "stdout",
     "output_type": "stream",
     "text": [
      "['Person 16', 'I am a middle aged woman.', 'I am easy-going, caring, and nurturing.', \"My essence is that I care a great deal about others to the point that I don't take care of myself.\"]\n",
      "['aged', 'middle', 'deal'] \n",
      "\n"
     ]
    },
    {
     "data": {
      "text/html": [
       "<table><tr><td><img src='NounProjectOutputs/jpg_images/aged.jpg'></td><td><img src='NounProjectOutputs/jpg_images/middle.jpg'></td><td><img src='NounProjectOutputs/jpg_images/deal.jpg'></td><td></td><td><img src='EssenceOutputs/essence-15.jpg'></td></tr></table>"
      ],
      "text/plain": [
       "<IPython.core.display.HTML object>"
      ]
     },
     "metadata": {},
     "output_type": "display_data"
    },
    {
     "name": "stdout",
     "output_type": "stream",
     "text": [
      "['Person 17', 'A male human being with a kind and loving personality.', 'Video Games and food', 'Humble, Kind, Loving']\n",
      "['kind', 'loving', 'humble'] \n",
      "\n"
     ]
    },
    {
     "data": {
      "text/html": [
       "<table><tr><td><img src='NounProjectOutputs/jpg_images/kind.jpg'></td><td><img src='NounProjectOutputs/jpg_images/loving.jpg'></td><td><img src='NounProjectOutputs/jpg_images/humble.jpg'></td><td></td><td><img src='EssenceOutputs/essence-16.jpg'></td></tr></table>"
      ],
      "text/plain": [
       "<IPython.core.display.HTML object>"
      ]
     },
     "metadata": {},
     "output_type": "display_data"
    },
    {
     "name": "stdout",
     "output_type": "stream",
     "text": [
      "['Person 18', 'I am a mother, wife, and friend', 'I am like the shoulder you can cry on, or a listening ear.', 'My family makes me me!']\n",
      "['shoulder', 'cry', 'ear'] \n",
      "\n"
     ]
    },
    {
     "data": {
      "text/html": [
       "<table><tr><td><img src='NounProjectOutputs/jpg_images/shoulder.jpg'></td><td><img src='NounProjectOutputs/jpg_images/cry.jpg'></td><td><img src='NounProjectOutputs/jpg_images/ear.jpg'></td><td></td><td><img src='EssenceOutputs/essence-17.jpg'></td></tr></table>"
      ],
      "text/plain": [
       "<IPython.core.display.HTML object>"
      ]
     },
     "metadata": {},
     "output_type": "display_data"
    },
    {
     "name": "stdout",
     "output_type": "stream",
     "text": [
      "['Person 19', 'I am an \"older\" adult who is finally understanding what is important and not important in this life.', 'I am an outgoing, sensitive, fun, creative and active person.', \"Family is the essence of what makes me me. Without them, I'd be at a total loss.\"]\n",
      "['important', 'creative', 'loss'] \n",
      "\n"
     ]
    },
    {
     "data": {
      "text/html": [
       "<table><tr><td><img src='NounProjectOutputs/jpg_images/important.jpg'></td><td><img src='NounProjectOutputs/jpg_images/creative.jpg'></td><td><img src='NounProjectOutputs/jpg_images/loss.jpg'></td><td></td><td><img src='EssenceOutputs/essence-18.jpg'></td></tr></table>"
      ],
      "text/plain": [
       "<IPython.core.display.HTML object>"
      ]
     },
     "metadata": {},
     "output_type": "display_data"
    },
    {
     "name": "stdout",
     "output_type": "stream",
     "text": [
      "['Person 20', \"I'm a 30 year old married man with a 2 year old daughter.\", \"I'm hard working, determined, goal oriented, relaxed and down to earth.\", 'My ability to get along well with almost anyone is what makes me Me.']\n",
      "['year', 'old', 'ability'] \n",
      "\n"
     ]
    },
    {
     "data": {
      "text/html": [
       "<table><tr><td><img src='NounProjectOutputs/jpg_images/year.jpg'></td><td><img src='NounProjectOutputs/jpg_images/old.jpg'></td><td><img src='NounProjectOutputs/jpg_images/ability.jpg'></td><td></td><td><img src='EssenceOutputs/essence-19.jpg'></td></tr></table>"
      ],
      "text/plain": [
       "<IPython.core.display.HTML object>"
      ]
     },
     "metadata": {},
     "output_type": "display_data"
    },
    {
     "name": "stdout",
     "output_type": "stream",
     "text": [
      "['Person 21', 'I am an untraditional college student who is employed full time.', \"I am an agreeable person who doesn't like to be bothered with others.\", 'I am an introvert who is happy to pass the time by myself.']\n",
      "['time', 'introvert', 'pass'] \n",
      "\n"
     ]
    },
    {
     "data": {
      "text/html": [
       "<table><tr><td><img src='NounProjectOutputs/jpg_images/time.jpg'></td><td><img src='NounProjectOutputs/jpg_images/introvert.jpg'></td><td><img src='NounProjectOutputs/jpg_images/pass.jpg'></td><td></td><td><img src='EssenceOutputs/essence-20.jpg'></td></tr></table>"
      ],
      "text/plain": [
       "<IPython.core.display.HTML object>"
      ]
     },
     "metadata": {},
     "output_type": "display_data"
    },
    {
     "name": "stdout",
     "output_type": "stream",
     "text": [
      "['Person 22', 'A courteous female', 'Friendly and full of energy.', 'Family is making me to smile and be happy.']\n",
      "['energy', 'courteous', 'female'] \n",
      "\n"
     ]
    },
    {
     "data": {
      "text/html": [
       "<table><tr><td><img src='NounProjectOutputs/jpg_images/energy.jpg'></td><td><img src='NounProjectOutputs/jpg_images/courteous.jpg'></td><td><img src='NounProjectOutputs/jpg_images/female.jpg'></td><td></td><td><img src='EssenceOutputs/essence-21.jpg'></td></tr></table>"
      ],
      "text/plain": [
       "<IPython.core.display.HTML object>"
      ]
     },
     "metadata": {},
     "output_type": "display_data"
    },
    {
     "name": "stdout",
     "output_type": "stream",
     "text": [
      "['Person 23', 'A 52 year old married woman', 'Fun, outgoing, and social.', 'I am always willing to lend a hand or give a listening ear.']\n",
      "['give', 'hand', 'lend'] \n",
      "\n"
     ]
    },
    {
     "data": {
      "text/html": [
       "<table><tr><td><img src='NounProjectOutputs/jpg_images/give.jpg'></td><td><img src='NounProjectOutputs/jpg_images/hand.jpg'></td><td><img src='NounProjectOutputs/jpg_images/lend.jpg'></td><td></td><td><img src='EssenceOutputs/essence-22.jpg'></td></tr></table>"
      ],
      "text/plain": [
       "<IPython.core.display.HTML object>"
      ]
     },
     "metadata": {},
     "output_type": "display_data"
    },
    {
     "name": "stdout",
     "output_type": "stream",
     "text": [
      "['Person 24', 'I am a 25 year old American woman', 'I am introverted but also very nice and like to learn a lot', 'I try to make other people around me happy and try to make the world a better place to live in']\n",
      "['try', 'make', 'better'] \n",
      "\n"
     ]
    },
    {
     "data": {
      "text/html": [
       "<table><tr><td><img src='NounProjectOutputs/jpg_images/try.jpg'></td><td><img src='NounProjectOutputs/jpg_images/make.jpg'></td><td><img src='NounProjectOutputs/jpg_images/better.jpg'></td><td></td><td><img src='EssenceOutputs/essence-23.jpg'></td></tr></table>"
      ],
      "text/plain": [
       "<IPython.core.display.HTML object>"
      ]
     },
     "metadata": {},
     "output_type": "display_data"
    },
    {
     "name": "stdout",
     "output_type": "stream",
     "text": [
      "['Person 25', 'I am a mom and a wife.', 'I am pretty boring and quiet.', 'My love for my husband.']\n",
      "['pretty', 'husband', 'boring'] \n",
      "\n"
     ]
    },
    {
     "data": {
      "text/html": [
       "<table><tr><td><img src='NounProjectOutputs/jpg_images/pretty.jpg'></td><td><img src='NounProjectOutputs/jpg_images/husband.jpg'></td><td><img src='NounProjectOutputs/jpg_images/boring.jpg'></td><td></td><td><img src='EssenceOutputs/essence-24.jpg'></td></tr></table>"
      ],
      "text/plain": [
       "<IPython.core.display.HTML object>"
      ]
     },
     "metadata": {},
     "output_type": "display_data"
    },
    {
     "name": "stdout",
     "output_type": "stream",
     "text": [
      "['Person 26', 'a 28 year old male', 'intellegent and shy', 'i like to think about everything']\n",
      "['everything', 'think', 'male'] \n",
      "\n"
     ]
    },
    {
     "data": {
      "text/html": [
       "<table><tr><td><img src='NounProjectOutputs/jpg_images/everything.jpg'></td><td><img src='NounProjectOutputs/jpg_images/think.jpg'></td><td><img src='NounProjectOutputs/jpg_images/male.jpg'></td><td></td><td><img src='EssenceOutputs/essence-25.jpg'></td></tr></table>"
      ],
      "text/plain": [
       "<IPython.core.display.HTML object>"
      ]
     },
     "metadata": {},
     "output_type": "display_data"
    },
    {
     "name": "stdout",
     "output_type": "stream",
     "text": [
      "['Person 27', 'an inquisitive person', 'friendly and approachable', 'a desire to always learn new things']\n",
      "['desire', 'inquisitive', 'approachable'] \n",
      "\n"
     ]
    },
    {
     "data": {
      "text/html": [
       "<table><tr><td><img src='NounProjectOutputs/jpg_images/desire.jpg'></td><td><img src='NounProjectOutputs/jpg_images/inquisitive.jpg'></td><td><img src='NounProjectOutputs/jpg_images/approachable.jpg'></td><td></td><td><img src='EssenceOutputs/essence-26.jpg'></td></tr></table>"
      ],
      "text/plain": [
       "<IPython.core.display.HTML object>"
      ]
     },
     "metadata": {},
     "output_type": "display_data"
    },
    {
     "name": "stdout",
     "output_type": "stream",
     "text": [
      "['Person 28', 'I am donald, I am a 25 year old married man, working full time as a social media manager.', 'I am a friendly person, I like the outdoors, and going on adventures with my friends and family.', 'I am warm hearted individual, I am very kind, I love everyone and try never to judge anyone, I put others before myself.']\n",
      "['judge', 'put', 'adventures'] \n",
      "\n"
     ]
    },
    {
     "data": {
      "text/html": [
       "<table><tr><td><img src='NounProjectOutputs/jpg_images/judge.jpg'></td><td><img src='NounProjectOutputs/jpg_images/put.jpg'></td><td><img src='NounProjectOutputs/jpg_images/adventures.jpg'></td><td></td><td><img src='EssenceOutputs/essence-27.jpg'></td></tr></table>"
      ],
      "text/plain": [
       "<IPython.core.display.HTML object>"
      ]
     },
     "metadata": {},
     "output_type": "display_data"
    },
    {
     "name": "stdout",
     "output_type": "stream",
     "text": [
      "['Person 29', \"I'm an average guy. A father, husband, brother, employee and friend. I am much like any other guy.\", \"I'm pretty down to earth. I like to laugh and play video games but I can be serious when I need to be serious.\", 'I think what makes me me is that I am very open-minded as a person. I believe in forming my own opinions rather than just taking things at face value. I like to learn and experience things rather than be told how things are.']\n",
      "['things', 'rather', 'serious'] \n",
      "\n"
     ]
    },
    {
     "data": {
      "text/html": [
       "<table><tr><td><img src='NounProjectOutputs/jpg_images/things.jpg'></td><td><img src='NounProjectOutputs/jpg_images/rather.jpg'></td><td><img src='NounProjectOutputs/jpg_images/serious.jpg'></td><td></td><td><img src='EssenceOutputs/essence-28.jpg'></td></tr></table>"
      ],
      "text/plain": [
       "<IPython.core.display.HTML object>"
      ]
     },
     "metadata": {},
     "output_type": "display_data"
    },
    {
     "name": "stdout",
     "output_type": "stream",
     "text": [
      "['Person 30', \"I'm a man who loves his wife very much.\", \"I'm loyal, devoted and always trying to do best in order to support our family.\", 'Faith and strong will to pursue my hopes and dreams makes me to push through the day.']\n",
      "['best', 'push', 'devoted'] \n",
      "\n"
     ]
    },
    {
     "data": {
      "text/html": [
       "<table><tr><td><img src='NounProjectOutputs/jpg_images/best.jpg'></td><td><img src='NounProjectOutputs/jpg_images/push.jpg'></td><td><img src='NounProjectOutputs/jpg_images/devoted.jpg'></td><td></td><td><img src='EssenceOutputs/essence-29.jpg'></td></tr></table>"
      ],
      "text/plain": [
       "<IPython.core.display.HTML object>"
      ]
     },
     "metadata": {},
     "output_type": "display_data"
    },
    {
     "name": "stdout",
     "output_type": "stream",
     "text": [
      "['Person 31', 'I am a 43 old mother of two young boys under 7. I am am only child. I will be married for 9years in june.', 'I am an honest person. I am very disorganized and tend to be a half full person. I am loyal.', 'I have been created by God and uniquely created . My life experiences have made me me.']\n",
      "['created', 'person', 'half'] \n",
      "\n"
     ]
    },
    {
     "data": {
      "text/html": [
       "<table><tr><td><img src='NounProjectOutputs/jpg_images/created.jpg'></td><td><img src='NounProjectOutputs/jpg_images/person.jpg'></td><td><img src='NounProjectOutputs/jpg_images/half.jpg'></td><td></td><td><img src='EssenceOutputs/essence-30.jpg'></td></tr></table>"
      ],
      "text/plain": [
       "<IPython.core.display.HTML object>"
      ]
     },
     "metadata": {},
     "output_type": "display_data"
    },
    {
     "name": "stdout",
     "output_type": "stream",
     "text": [
      "['Person 32', 'I am a woman, a wife, a mother of 4.', 'I am introverted, quiet, compassionate, impractical, prone to depression.', 'I love to write.']\n",
      "['compassionate', 'impractical', 'prone'] \n",
      "\n"
     ]
    },
    {
     "data": {
      "text/html": [
       "<table><tr><td><img src='NounProjectOutputs/jpg_images/compassionate.jpg'></td><td><img src='NounProjectOutputs/jpg_images/impractical.jpg'></td><td><img src='NounProjectOutputs/jpg_images/prone.jpg'></td><td></td><td><img src='EssenceOutputs/essence-31.jpg'></td></tr></table>"
      ],
      "text/plain": [
       "<IPython.core.display.HTML object>"
      ]
     },
     "metadata": {},
     "output_type": "display_data"
    },
    {
     "name": "stdout",
     "output_type": "stream",
     "text": [
      "['Person 33', \"I'm a wife and mother of 5 children.\", 'I am introverted, honest and generous.', 'My Catholic faith is a big part of who I am and how I live my life.']\n",
      "['catholic', 'generous', 'faith'] \n",
      "\n"
     ]
    },
    {
     "data": {
      "text/html": [
       "<table><tr><td><img src='NounProjectOutputs/jpg_images/catholic.jpg'></td><td><img src='NounProjectOutputs/jpg_images/generous.jpg'></td><td><img src='NounProjectOutputs/jpg_images/faith.jpg'></td><td></td><td><img src='EssenceOutputs/essence-32.jpg'></td></tr></table>"
      ],
      "text/plain": [
       "<IPython.core.display.HTML object>"
      ]
     },
     "metadata": {},
     "output_type": "display_data"
    },
    {
     "name": "stdout",
     "output_type": "stream",
     "text": [
      "['Person 34', 'im a strong independent person.', 'im kind and warm hearted.', 'my persoanility makes me who i am.']\n",
      "['independent', 'hearted', 'strong'] \n",
      "\n"
     ]
    },
    {
     "data": {
      "text/html": [
       "<table><tr><td><img src='NounProjectOutputs/jpg_images/independent.jpg'></td><td><img src='NounProjectOutputs/jpg_images/hearted.jpg'></td><td><img src='NounProjectOutputs/jpg_images/strong.jpg'></td><td></td><td><img src='EssenceOutputs/essence-33.jpg'></td></tr></table>"
      ],
      "text/plain": [
       "<IPython.core.display.HTML object>"
      ]
     },
     "metadata": {},
     "output_type": "display_data"
    },
    {
     "name": "stdout",
     "output_type": "stream",
     "text": [
      "['Person 35', \"I'm a mom of 3 children.\", 'I am an outgoing, fun person who likes to go out and be social.', 'I am sincere, honest, and a good friend.  I am caring to others, especially my close friends!']\n",
      "['sincere', 'especially', 'go'] \n",
      "\n"
     ]
    },
    {
     "data": {
      "text/html": [
       "<table><tr><td><img src='NounProjectOutputs/jpg_images/sincere.jpg'></td><td><img src='NounProjectOutputs/jpg_images/especially.jpg'></td><td><img src='NounProjectOutputs/jpg_images/go.jpg'></td><td></td><td><img src='EssenceOutputs/essence-34.jpg'></td></tr></table>"
      ],
      "text/plain": [
       "<IPython.core.display.HTML object>"
      ]
     },
     "metadata": {},
     "output_type": "display_data"
    },
    {
     "name": "stdout",
     "output_type": "stream",
     "text": [
      "['Person 36', 'Someone who is calm, peaceful and stays relaxed under pressure.', 'I am nice, kind and funny but usually quiet.', 'I am caring, and I feel the need to help others.']\n",
      "['usually', 'pressure', 'stays'] \n",
      "\n"
     ]
    },
    {
     "data": {
      "text/html": [
       "<table><tr><td><img src='NounProjectOutputs/jpg_images/usually.jpg'></td><td><img src='NounProjectOutputs/jpg_images/pressure.jpg'></td><td><img src='NounProjectOutputs/jpg_images/stays.jpg'></td><td></td><td><img src='EssenceOutputs/essence-35.jpg'></td></tr></table>"
      ],
      "text/plain": [
       "<IPython.core.display.HTML object>"
      ]
     },
     "metadata": {},
     "output_type": "display_data"
    },
    {
     "name": "stdout",
     "output_type": "stream",
     "text": [
      "['Person 37', \"I'm a loving and caring mom.\", 'Fun, original, happy', 'Me']\n",
      "['original', 'happy', 'fun'] \n",
      "\n"
     ]
    },
    {
     "data": {
      "text/html": [
       "<table><tr><td><img src='NounProjectOutputs/jpg_images/original.jpg'></td><td><img src='NounProjectOutputs/jpg_images/happy.jpg'></td><td><img src='NounProjectOutputs/jpg_images/fun.jpg'></td><td></td><td><img src='EssenceOutputs/essence-36.jpg'></td></tr></table>"
      ],
      "text/plain": [
       "<IPython.core.display.HTML object>"
      ]
     },
     "metadata": {},
     "output_type": "display_data"
    },
    {
     "name": "stdout",
     "output_type": "stream",
     "text": [
      "['Person 38', 'I am a teacher of ESL', 'I love my husband and our dog, and want to be a mom, even though we are currently struggling with a miscarriage after 2 years of infertility treatments.', 'Right now, humor and talking to my friends in my infertility support group, as well as hanging out and taking pictures of my dog and husband.']\n",
      "['infertility', 'husband', 'struggling'] \n",
      "\n"
     ]
    },
    {
     "data": {
      "text/html": [
       "<table><tr><td><img src='NounProjectOutputs/jpg_images/infertility.jpg'></td><td><img src='NounProjectOutputs/jpg_images/husband.jpg'></td><td><img src='NounProjectOutputs/jpg_images/struggling.jpg'></td><td></td><td><img src='EssenceOutputs/essence-37.jpg'></td></tr></table>"
      ],
      "text/plain": [
       "<IPython.core.display.HTML object>"
      ]
     },
     "metadata": {},
     "output_type": "display_data"
    },
    {
     "name": "stdout",
     "output_type": "stream",
     "text": [
      "['Person 39', \"I'm a cat lover who's kind of weird, but smart and funny.\", \"I'm relaxed and love animals.\", 'I have kind of a weird take on things.']\n",
      "['weird', 'kind', 'lover'] \n",
      "\n"
     ]
    },
    {
     "data": {
      "text/html": [
       "<table><tr><td><img src='NounProjectOutputs/jpg_images/weird.jpg'></td><td><img src='NounProjectOutputs/jpg_images/kind.jpg'></td><td><img src='NounProjectOutputs/jpg_images/lover.jpg'></td><td></td><td><img src='EssenceOutputs/essence-38.jpg'></td></tr></table>"
      ],
      "text/plain": [
       "<IPython.core.display.HTML object>"
      ]
     },
     "metadata": {},
     "output_type": "display_data"
    },
    {
     "name": "stdout",
     "output_type": "stream",
     "text": [
      "['Person 40', 'i am a hard working smart female', 'im funny yet clever and warm', 'love for animals and others makes me who i am']\n",
      "['clever', 'animals', 'hard'] \n",
      "\n"
     ]
    },
    {
     "data": {
      "text/html": [
       "<table><tr><td><img src='NounProjectOutputs/jpg_images/clever.jpg'></td><td><img src='NounProjectOutputs/jpg_images/animals.jpg'></td><td><img src='NounProjectOutputs/jpg_images/hard.jpg'></td><td></td><td><img src='EssenceOutputs/essence-39.jpg'></td></tr></table>"
      ],
      "text/plain": [
       "<IPython.core.display.HTML object>"
      ]
     },
     "metadata": {},
     "output_type": "display_data"
    },
    {
     "name": "stdout",
     "output_type": "stream",
     "text": [
      "['Person 41', \"I'm just a nice guy trying to be loving to others and find his way in the world.\", \"I'm nerdy, intelligent, and funny.\", \"I'm nobody special, but I do value my individuality and I love artistic expression.\"]\n",
      "['needy', 'nobody', 'expression'] \n",
      "\n"
     ]
    },
    {
     "data": {
      "text/html": [
       "<table><tr><td><img src='NounProjectOutputs/jpg_images/needy.jpg'></td><td><img src='NounProjectOutputs/jpg_images/nobody.jpg'></td><td><img src='NounProjectOutputs/jpg_images/expression.jpg'></td><td></td><td><img src='EssenceOutputs/essence-40.jpg'></td></tr></table>"
      ],
      "text/plain": [
       "<IPython.core.display.HTML object>"
      ]
     },
     "metadata": {},
     "output_type": "display_data"
    },
    {
     "name": "stdout",
     "output_type": "stream",
     "text": [
      "['Person 42', 'I am a wife, mother, and college student.', 'I am a loving, smart, fun, caring person . I love to sing, write, do crafts, art and whatever else I can do to help uplift others.', 'My personality and humor. But more importantly my big heart.']\n",
      "['uplift', 'importantly', 'sing'] \n",
      "\n"
     ]
    },
    {
     "data": {
      "text/html": [
       "<table><tr><td><img src='NounProjectOutputs/jpg_images/uplift.jpg'></td><td><img src='NounProjectOutputs/jpg_images/importantly.jpg'></td><td><img src='NounProjectOutputs/jpg_images/sing.jpg'></td><td></td><td><img src='EssenceOutputs/essence-41.jpg'></td></tr></table>"
      ],
      "text/plain": [
       "<IPython.core.display.HTML object>"
      ]
     },
     "metadata": {},
     "output_type": "display_data"
    },
    {
     "name": "stdout",
     "output_type": "stream",
     "text": [
      "['Person 43', 'I am funny.', 'I am easy going.', 'I have a great personality.']\n",
      "['great', 'easy', 'going'] \n",
      "\n"
     ]
    },
    {
     "data": {
      "text/html": [
       "<table><tr><td><img src='NounProjectOutputs/jpg_images/great.jpg'></td><td><img src='NounProjectOutputs/jpg_images/easy.jpg'></td><td><img src='NounProjectOutputs/jpg_images/going.jpg'></td><td></td><td><img src='EssenceOutputs/essence-42.jpg'></td></tr></table>"
      ],
      "text/plain": [
       "<IPython.core.display.HTML object>"
      ]
     },
     "metadata": {},
     "output_type": "display_data"
    },
    {
     "name": "stdout",
     "output_type": "stream",
     "text": [
      "['Person 44', 'henry johnson', 'stern,friendly,loving,strong of mind,family oriented,good worker,always looking forward within memories of the past', 'loving all the members of my faily,past and present']\n",
      "['past', 'loving', 'family'] \n",
      "\n"
     ]
    },
    {
     "data": {
      "text/html": [
       "<table><tr><td><img src='NounProjectOutputs/jpg_images/past.jpg'></td><td><img src='NounProjectOutputs/jpg_images/loving.jpg'></td><td><img src='NounProjectOutputs/jpg_images/family.jpg'></td><td></td><td><img src='EssenceOutputs/essence-43.jpg'></td></tr></table>"
      ],
      "text/plain": [
       "<IPython.core.display.HTML object>"
      ]
     },
     "metadata": {},
     "output_type": "display_data"
    },
    {
     "name": "stdout",
     "output_type": "stream",
     "text": [
      "['Person 45', 'I am a daughter, sister, friend, and advocate', \"I advocate for those who don't have a voice\", 'I care so deeply about children involved in the system and I will do almost anything to help them!']\n",
      "['advocate', 'involved', 'anything'] \n",
      "\n"
     ]
    },
    {
     "data": {
      "text/html": [
       "<table><tr><td><img src='NounProjectOutputs/jpg_images/advocate.jpg'></td><td><img src='NounProjectOutputs/jpg_images/involved.jpg'></td><td><img src='NounProjectOutputs/jpg_images/anything.jpg'></td><td></td><td><img src='EssenceOutputs/essence-44.jpg'></td></tr></table>"
      ],
      "text/plain": [
       "<IPython.core.display.HTML object>"
      ]
     },
     "metadata": {},
     "output_type": "display_data"
    },
    {
     "name": "stdout",
     "output_type": "stream",
     "text": [
      "['Person 46', 'I am a mom, wife, educator, sister, and daughter.', \"I'm an introverted extrovert. I love to be on stage and the center of attention, but I hate small talk.\", 'I am my own unique person who has never been known to follow a crowd.']\n",
      "['talk', 'educator', 'extrovert'] \n",
      "\n"
     ]
    },
    {
     "data": {
      "text/html": [
       "<table><tr><td><img src='NounProjectOutputs/jpg_images/talk.jpg'></td><td><img src='NounProjectOutputs/jpg_images/educator.jpg'></td><td><img src='NounProjectOutputs/jpg_images/extrovert.jpg'></td><td></td><td><img src='EssenceOutputs/essence-45.jpg'></td></tr></table>"
      ],
      "text/plain": [
       "<IPython.core.display.HTML object>"
      ]
     },
     "metadata": {},
     "output_type": "display_data"
    },
    {
     "name": "stdout",
     "output_type": "stream",
     "text": [
      "['Person 47', 'I am a mother, friend, and wife', 'I am active, adventurous, and hardwarling.', 'My values and principals.']\n",
      "['values', 'hardworking', 'principals'] \n",
      "\n"
     ]
    },
    {
     "data": {
      "text/html": [
       "<table><tr><td><img src='NounProjectOutputs/jpg_images/values.jpg'></td><td><img src='NounProjectOutputs/jpg_images/hardworking.jpg'></td><td><img src='NounProjectOutputs/jpg_images/principals.jpg'></td><td></td><td><img src='EssenceOutputs/essence-46.jpg'></td></tr></table>"
      ],
      "text/plain": [
       "<IPython.core.display.HTML object>"
      ]
     },
     "metadata": {},
     "output_type": "display_data"
    },
    {
     "name": "stdout",
     "output_type": "stream",
     "text": [
      "['Person 48', 'I am a soul that currently has the role of wife, mother, daughter, sister, and friend.', \"I'm an introspective, introverted individual who cherishes both family time and alone time.\", 'My quick wit, warm smile, and love of laughter make me who I am.']\n",
      "['time', 'quick', 'wit'] \n",
      "\n"
     ]
    },
    {
     "data": {
      "text/html": [
       "<table><tr><td><img src='NounProjectOutputs/jpg_images/time.jpg'></td><td><img src='NounProjectOutputs/jpg_images/quick.jpg'></td><td><img src='NounProjectOutputs/jpg_images/wit.jpg'></td><td></td><td><img src='EssenceOutputs/essence-47.jpg'></td></tr></table>"
      ],
      "text/plain": [
       "<IPython.core.display.HTML object>"
      ]
     },
     "metadata": {},
     "output_type": "display_data"
    },
    {
     "name": "stdout",
     "output_type": "stream",
     "text": [
      "['Person 49', 'I am a working mom.', 'I am calm, determined, and loving.', 'The essence of what makes me is my compassion and caring.']\n",
      "['compassion', 'determined', 'calm'] \n",
      "\n"
     ]
    },
    {
     "data": {
      "text/html": [
       "<table><tr><td><img src='NounProjectOutputs/jpg_images/compassion.jpg'></td><td><img src='NounProjectOutputs/jpg_images/determined.jpg'></td><td><img src='NounProjectOutputs/jpg_images/calm.jpg'></td><td></td><td><img src='EssenceOutputs/essence-48.jpg'></td></tr></table>"
      ],
      "text/plain": [
       "<IPython.core.display.HTML object>"
      ]
     },
     "metadata": {},
     "output_type": "display_data"
    },
    {
     "name": "stdout",
     "output_type": "stream",
     "text": [
      "['Person 50', 'I am a 27 year old special education teacher who lives in California.', 'I am a sociable and very goofy young guy who likes to make everyone laugh.', 'The essence of what makes me myself is that I am always generally positive and like to spread a smile to all those around me!']\n",
      "['goofy', 'generally', 'positive'] \n",
      "\n"
     ]
    },
    {
     "data": {
      "text/html": [
       "<table><tr><td><img src='NounProjectOutputs/jpg_images/goofy.jpg'></td><td><img src='NounProjectOutputs/jpg_images/generally.jpg'></td><td><img src='NounProjectOutputs/jpg_images/positive.jpg'></td><td></td><td><img src='EssenceOutputs/essence-49.jpg'></td></tr></table>"
      ],
      "text/plain": [
       "<IPython.core.display.HTML object>"
      ]
     },
     "metadata": {},
     "output_type": "display_data"
    }
   ],
   "source": [
    "# for i in range(50):\n",
    "#     print(desc_array[i])\n",
    "#     print(top3_all[i], '\\n')\n",
    "#     image1 = jpg_dir + top3_all[i][0] + '.jpg'\n",
    "#     image2 = jpg_dir + top3_all[i][1] + '.jpg'\n",
    "#     image3 = jpg_dir + top3_all[i][2] + '.jpg'\n",
    "#     output = 'docs/EssenceOutputs/essence-' + str(i) + '.jpg'\n",
    "#     display(HTML(\"<table><tr><td><img src='\"+ image1 + \"'></td><td><img src='\" + image2 + \"'></td><td><img src='\"+ image3 + \"'></td><td></td><td><img src='\"+ output + \"'></td></tr></table>\"))"
   ]
  },
  {
   "cell_type": "markdown",
   "metadata": {},
   "source": [
    "## Essence - Individual"
   ]
  },
  {
   "cell_type": "code",
   "execution_count": 288,
   "metadata": {},
   "outputs": [
    {
     "name": "stdout",
     "output_type": "stream",
     "text": [
      "['Person 1', 'I am a 28-year-old woman living in Massachusetts.', \"I'm neurotic and eccentric but good at heart.\", 'I am obsessed with rabbits and love technology.']\n",
      "['living', 'neurotic', 'obsessed'] \n",
      "\n"
     ]
    },
    {
     "data": {
      "text/html": [
       "<table><tr><td><img src='NounProjectOutputs/jpg_images/living.jpg'></td><td><img src='NounProjectOutputs/jpg_images/neurotic.jpg'></td><td><img src='NounProjectOutputs/jpg_images/obsessed.jpg'></td><td></td><td><img src='EssenceOutputs-individual/essence-0.jpg'></td></tr></table>"
      ],
      "text/plain": [
       "<IPython.core.display.HTML object>"
      ]
     },
     "metadata": {},
     "output_type": "display_data"
    },
    {
     "name": "stdout",
     "output_type": "stream",
     "text": [
      "['Person 2', 'I am dedicated and persistent and willing to go the extra mile', \"i'm fun loving and like to make people laugh by telling jokes and making light of situations\", 'I am insightful and am able to fit together pieces to understand the big picture']\n",
      "['extra', 'light', 'understand'] \n",
      "\n"
     ]
    },
    {
     "data": {
      "text/html": [
       "<table><tr><td><img src='NounProjectOutputs/jpg_images/extra.jpg'></td><td><img src='NounProjectOutputs/jpg_images/light.jpg'></td><td><img src='NounProjectOutputs/jpg_images/understand.jpg'></td><td></td><td><img src='EssenceOutputs-individual/essence-1.jpg'></td></tr></table>"
      ],
      "text/plain": [
       "<IPython.core.display.HTML object>"
      ]
     },
     "metadata": {},
     "output_type": "display_data"
    },
    {
     "name": "stdout",
     "output_type": "stream",
     "text": [
      "['Person 3', 'I am a feminist, a student, and a homosexual.', 'I am kind, nurturing, caring, and genuine.', 'My honesty, my loyalty, and my generosity make me me.']\n",
      "['homosexual', 'genuine', 'loyalty'] \n",
      "\n"
     ]
    },
    {
     "data": {
      "text/html": [
       "<table><tr><td><img src='NounProjectOutputs/jpg_images/homosexual.jpg'></td><td><img src='NounProjectOutputs/jpg_images/genuine.jpg'></td><td><img src='NounProjectOutputs/jpg_images/loyalty.jpg'></td><td></td><td><img src='EssenceOutputs-individual/essence-2.jpg'></td></tr></table>"
      ],
      "text/plain": [
       "<IPython.core.display.HTML object>"
      ]
     },
     "metadata": {},
     "output_type": "display_data"
    },
    {
     "name": "stdout",
     "output_type": "stream",
     "text": [
      "['Person 4', \"I'm an immigrant who became a citizen of the United States. I'm an American.\", \"I can be stubborn and stand-offish, but I still care very much about my friends and family. I'm a nerd about movies/tvshows/books. I love video games and prefer to stay home.\", \"I'm introverted, so I need time alone to recharge and recalibrate.\"]\n",
      "['citizen', 'stubborn', 'alone'] \n",
      "\n"
     ]
    },
    {
     "data": {
      "text/html": [
       "<table><tr><td><img src='NounProjectOutputs/jpg_images/citizen.jpg'></td><td><img src='NounProjectOutputs/jpg_images/stubborn.jpg'></td><td><img src='NounProjectOutputs/jpg_images/alone.jpg'></td><td></td><td><img src='EssenceOutputs-individual/essence-3.jpg'></td></tr></table>"
      ],
      "text/plain": [
       "<IPython.core.display.HTML object>"
      ]
     },
     "metadata": {},
     "output_type": "display_data"
    },
    {
     "name": "stdout",
     "output_type": "stream",
     "text": [
      "['Person 5', \"I'm a boring person\", \"I'm quiet and introspective.\", 'I have deep wells of sorrow.']\n",
      "['boring', 'introspective', 'sorrow'] \n",
      "\n"
     ]
    },
    {
     "data": {
      "text/html": [
       "<table><tr><td><img src='NounProjectOutputs/jpg_images/boring.jpg'></td><td><img src='NounProjectOutputs/jpg_images/introspective.jpg'></td><td><img src='NounProjectOutputs/jpg_images/sorrow.jpg'></td><td></td><td><img src='EssenceOutputs-individual/essence-4.jpg'></td></tr></table>"
      ],
      "text/plain": [
       "<IPython.core.display.HTML object>"
      ]
     },
     "metadata": {},
     "output_type": "display_data"
    },
    {
     "name": "stdout",
     "output_type": "stream",
     "text": [
      "['Person 6', 'I am a girl who lives in New York City in my twenties who is incredibly close with my family.', 'I am very social and outgoing.', 'I am outgoing and care tremendously about my friends.']\n",
      "['city', 'social', 'outgoing'] \n",
      "\n"
     ]
    },
    {
     "data": {
      "text/html": [
       "<table><tr><td><img src='NounProjectOutputs/jpg_images/city.jpg'></td><td><img src='NounProjectOutputs/jpg_images/social.jpg'></td><td><img src='NounProjectOutputs/jpg_images/outgoing.jpg'></td><td></td><td><img src='EssenceOutputs-individual/essence-5.jpg'></td></tr></table>"
      ],
      "text/plain": [
       "<IPython.core.display.HTML object>"
      ]
     },
     "metadata": {},
     "output_type": "display_data"
    },
    {
     "name": "stdout",
     "output_type": "stream",
     "text": [
      "['Person 7', 'I am a mom of 3', 'I like R &B Music, Japanese Food, Pizza', 'I am sympathetic.']\n",
      "['mom', 'japanese', 'sympathetic'] \n",
      "\n"
     ]
    },
    {
     "data": {
      "text/html": [
       "<table><tr><td><img src='NounProjectOutputs/jpg_images/mom.jpg'></td><td><img src='NounProjectOutputs/jpg_images/japanese.jpg'></td><td><img src='NounProjectOutputs/jpg_images/sympathetic.jpg'></td><td></td><td><img src='EssenceOutputs-individual/essence-6.jpg'></td></tr></table>"
      ],
      "text/plain": [
       "<IPython.core.display.HTML object>"
      ]
     },
     "metadata": {},
     "output_type": "display_data"
    },
    {
     "name": "stdout",
     "output_type": "stream",
     "text": [
      "['Person 8', 'I am a licensed counselor.', \"I'm silly and funny.\", \"I'm fun and sarcastic a lot of the time.\"]\n",
      "['licensed', 'silly', 'fun'] \n",
      "\n"
     ]
    },
    {
     "data": {
      "text/html": [
       "<table><tr><td><img src='NounProjectOutputs/jpg_images/licensed.jpg'></td><td><img src='NounProjectOutputs/jpg_images/silly.jpg'></td><td><img src='NounProjectOutputs/jpg_images/fun.jpg'></td><td></td><td><img src='EssenceOutputs-individual/essence-7.jpg'></td></tr></table>"
      ],
      "text/plain": [
       "<IPython.core.display.HTML object>"
      ]
     },
     "metadata": {},
     "output_type": "display_data"
    },
    {
     "name": "stdout",
     "output_type": "stream",
     "text": [
      "['Person 9', \"I'm Jim, a 53 year old american man\", \"I'm forceful, happy, calm and occasionally grumpy with a touch of sarcasm.\", \"I'm a drivan dominant at work and play. My wife is essential to my life. I'd be lost without her grounding me.\"]\n",
      "['american', 'sarcasm', 'essential'] \n",
      "\n"
     ]
    },
    {
     "data": {
      "text/html": [
       "<table><tr><td><img src='NounProjectOutputs/jpg_images/american.jpg'></td><td><img src='NounProjectOutputs/jpg_images/sarcasm.jpg'></td><td><img src='NounProjectOutputs/jpg_images/essential.jpg'></td><td></td><td><img src='EssenceOutputs-individual/essence-8.jpg'></td></tr></table>"
      ],
      "text/plain": [
       "<IPython.core.display.HTML object>"
      ]
     },
     "metadata": {},
     "output_type": "display_data"
    },
    {
     "name": "stdout",
     "output_type": "stream",
     "text": [
      "['Person 10', \"I'm a fat, biracial bisexual woman.\", \"I'm a funny depressive--aren't all depressives a riot?\", \"I'm a boring drudge, not glamorous or fancy, but fairly dependable.\"]\n",
      "['fat', 'depressive', 'fairly'] \n",
      "\n"
     ]
    },
    {
     "data": {
      "text/html": [
       "<table><tr><td><img src='NounProjectOutputs/jpg_images/fat.jpg'></td><td><img src='NounProjectOutputs/jpg_images/depressive.jpg'></td><td><img src='NounProjectOutputs/jpg_images/fairly.jpg'></td><td></td><td><img src='EssenceOutputs-individual/essence-9.jpg'></td></tr></table>"
      ],
      "text/plain": [
       "<IPython.core.display.HTML object>"
      ]
     },
     "metadata": {},
     "output_type": "display_data"
    },
    {
     "name": "stdout",
     "output_type": "stream",
     "text": [
      "['Person 11', 'I am an adventurous geeky skydiver', 'I am fun-loving and love life.', 'I am intelligent and caring.']\n",
      "['adventurous', 'life', 'intelligent'] \n",
      "\n"
     ]
    },
    {
     "data": {
      "text/html": [
       "<table><tr><td><img src='NounProjectOutputs/jpg_images/adventurous.jpg'></td><td><img src='NounProjectOutputs/jpg_images/life.jpg'></td><td><img src='NounProjectOutputs/jpg_images/intelligent.jpg'></td><td></td><td><img src='EssenceOutputs-individual/essence-10.jpg'></td></tr></table>"
      ],
      "text/plain": [
       "<IPython.core.display.HTML object>"
      ]
     },
     "metadata": {},
     "output_type": "display_data"
    },
    {
     "name": "stdout",
     "output_type": "stream",
     "text": [
      "['Person 12', \"I am a person who believes that honesty and integrity is very important in today's society and world.\", 'I am a person who is warm and sensitive to the feelings of others.', 'I see myself as one who you can count when the chips are down.']\n",
      "['honesty', 'feelings', 'count'] \n",
      "\n"
     ]
    },
    {
     "data": {
      "text/html": [
       "<table><tr><td><img src='NounProjectOutputs/jpg_images/honesty.jpg'></td><td><img src='NounProjectOutputs/jpg_images/feelings.jpg'></td><td><img src='NounProjectOutputs/jpg_images/count.jpg'></td><td></td><td><img src='EssenceOutputs-individual/essence-11.jpg'></td></tr></table>"
      ],
      "text/plain": [
       "<IPython.core.display.HTML object>"
      ]
     },
     "metadata": {},
     "output_type": "display_data"
    },
    {
     "name": "stdout",
     "output_type": "stream",
     "text": [
      "['Person 13', \"I am shy from those whom I don't know yet energetic and caring to those whom I do know.\", 'I am a very happy and appreciate all life equally.', 'God is an important part of who I am. He allows me to me loving to all creatures no matter how small.']\n",
      "['know', 'equally', 'creatures'] \n",
      "\n"
     ]
    },
    {
     "data": {
      "text/html": [
       "<table><tr><td><img src='NounProjectOutputs/jpg_images/know.jpg'></td><td><img src='NounProjectOutputs/jpg_images/equally.jpg'></td><td><img src='NounProjectOutputs/jpg_images/creatures.jpg'></td><td></td><td><img src='EssenceOutputs-individual/essence-12.jpg'></td></tr></table>"
      ],
      "text/plain": [
       "<IPython.core.display.HTML object>"
      ]
     },
     "metadata": {},
     "output_type": "display_data"
    },
    {
     "name": "stdout",
     "output_type": "stream",
     "text": [
      "['Person 14', 'I am a human', 'I am curious and interested in urbanity', 'My passion for cities and culture']\n",
      "['human', 'curious', 'cities'] \n",
      "\n"
     ]
    },
    {
     "data": {
      "text/html": [
       "<table><tr><td><img src='NounProjectOutputs/jpg_images/human.jpg'></td><td><img src='NounProjectOutputs/jpg_images/curious.jpg'></td><td><img src='NounProjectOutputs/jpg_images/cities.jpg'></td><td></td><td><img src='EssenceOutputs-individual/essence-13.jpg'></td></tr></table>"
      ],
      "text/plain": [
       "<IPython.core.display.HTML object>"
      ]
     },
     "metadata": {},
     "output_type": "display_data"
    },
    {
     "name": "stdout",
     "output_type": "stream",
     "text": [
      "['Person 15', 'I am a musician', 'i am very laidback, easy going and unbrainwashed.', 'Making music makes me tick.']\n",
      "['musician', 'laidback', 'tick'] \n",
      "\n"
     ]
    },
    {
     "data": {
      "text/html": [
       "<table><tr><td><img src='NounProjectOutputs/jpg_images/musician.jpg'></td><td><img src='NounProjectOutputs/jpg_images/laidback.jpg'></td><td><img src='NounProjectOutputs/jpg_images/tick.jpg'></td><td></td><td><img src='EssenceOutputs-individual/essence-14.jpg'></td></tr></table>"
      ],
      "text/plain": [
       "<IPython.core.display.HTML object>"
      ]
     },
     "metadata": {},
     "output_type": "display_data"
    },
    {
     "name": "stdout",
     "output_type": "stream",
     "text": [
      "['Person 16', 'I am a middle aged woman.', 'I am easy-going, caring, and nurturing.', \"My essence is that I care a great deal about others to the point that I don't take care of myself.\"]\n",
      "['aged', 'nurturing', 'point'] \n",
      "\n"
     ]
    },
    {
     "data": {
      "text/html": [
       "<table><tr><td><img src='NounProjectOutputs/jpg_images/aged.jpg'></td><td><img src='NounProjectOutputs/jpg_images/nurturing.jpg'></td><td><img src='NounProjectOutputs/jpg_images/point.jpg'></td><td></td><td><img src='EssenceOutputs-individual/essence-15.jpg'></td></tr></table>"
      ],
      "text/plain": [
       "<IPython.core.display.HTML object>"
      ]
     },
     "metadata": {},
     "output_type": "display_data"
    },
    {
     "name": "stdout",
     "output_type": "stream",
     "text": [
      "['Person 17', 'A male human being with a kind and loving personality.', 'Video Games and food', 'Humble, Kind, Loving']\n",
      "['personality', 'food', 'humble'] \n",
      "\n"
     ]
    },
    {
     "data": {
      "text/html": [
       "<table><tr><td><img src='NounProjectOutputs/jpg_images/personality.jpg'></td><td><img src='NounProjectOutputs/jpg_images/food.jpg'></td><td><img src='NounProjectOutputs/jpg_images/humble.jpg'></td><td></td><td><img src='EssenceOutputs-individual/essence-16.jpg'></td></tr></table>"
      ],
      "text/plain": [
       "<IPython.core.display.HTML object>"
      ]
     },
     "metadata": {},
     "output_type": "display_data"
    },
    {
     "name": "stdout",
     "output_type": "stream",
     "text": [
      "['Person 18', 'I am a mother, wife, and friend', 'I am like the shoulder you can cry on, or a listening ear.', 'My family makes me me!']\n",
      "['friend', 'cry', 'family'] \n",
      "\n"
     ]
    },
    {
     "data": {
      "text/html": [
       "<table><tr><td><img src='NounProjectOutputs/jpg_images/friend.jpg'></td><td><img src='NounProjectOutputs/jpg_images/cry.jpg'></td><td><img src='NounProjectOutputs/jpg_images/family.jpg'></td><td></td><td><img src='EssenceOutputs-individual/essence-17.jpg'></td></tr></table>"
      ],
      "text/plain": [
       "<IPython.core.display.HTML object>"
      ]
     },
     "metadata": {},
     "output_type": "display_data"
    },
    {
     "name": "stdout",
     "output_type": "stream",
     "text": [
      "['Person 19', 'I am an \"older\" adult who is finally understanding what is important and not important in this life.', 'I am an outgoing, sensitive, fun, creative and active person.', \"Family is the essence of what makes me me. Without them, I'd be at a total loss.\"]\n",
      "['important', 'creative', 'loss'] \n",
      "\n"
     ]
    },
    {
     "data": {
      "text/html": [
       "<table><tr><td><img src='NounProjectOutputs/jpg_images/important.jpg'></td><td><img src='NounProjectOutputs/jpg_images/creative.jpg'></td><td><img src='NounProjectOutputs/jpg_images/loss.jpg'></td><td></td><td><img src='EssenceOutputs-individual/essence-18.jpg'></td></tr></table>"
      ],
      "text/plain": [
       "<IPython.core.display.HTML object>"
      ]
     },
     "metadata": {},
     "output_type": "display_data"
    },
    {
     "name": "stdout",
     "output_type": "stream",
     "text": [
      "['Person 20', \"I'm a 30 year old married man with a 2 year old daughter.\", \"I'm hard working, determined, goal oriented, relaxed and down to earth.\", 'My ability to get along well with almost anyone is what makes me Me.']\n",
      "['year', 'working', 'ability'] \n",
      "\n"
     ]
    },
    {
     "data": {
      "text/html": [
       "<table><tr><td><img src='NounProjectOutputs/jpg_images/year.jpg'></td><td><img src='NounProjectOutputs/jpg_images/working.jpg'></td><td><img src='NounProjectOutputs/jpg_images/ability.jpg'></td><td></td><td><img src='EssenceOutputs-individual/essence-19.jpg'></td></tr></table>"
      ],
      "text/plain": [
       "<IPython.core.display.HTML object>"
      ]
     },
     "metadata": {},
     "output_type": "display_data"
    },
    {
     "name": "stdout",
     "output_type": "stream",
     "text": [
      "['Person 21', 'I am an untraditional college student who is employed full time.', \"I am an agreeable person who doesn't like to be bothered with others.\", 'I am an introvert who is happy to pass the time by myself.']\n",
      "['employed', 'agreeable', 'introvert'] \n",
      "\n"
     ]
    },
    {
     "data": {
      "text/html": [
       "<table><tr><td><img src='NounProjectOutputs/jpg_images/employed.jpg'></td><td><img src='NounProjectOutputs/jpg_images/agreeable.jpg'></td><td><img src='NounProjectOutputs/jpg_images/introvert.jpg'></td><td></td><td><img src='EssenceOutputs-individual/essence-20.jpg'></td></tr></table>"
      ],
      "text/plain": [
       "<IPython.core.display.HTML object>"
      ]
     },
     "metadata": {},
     "output_type": "display_data"
    },
    {
     "name": "stdout",
     "output_type": "stream",
     "text": [
      "['Person 22', 'A courteous female', 'Friendly and full of energy.', 'Family is making me to smile and be happy.']\n",
      "['courteous', 'energy', 'making'] \n",
      "\n"
     ]
    },
    {
     "data": {
      "text/html": [
       "<table><tr><td><img src='NounProjectOutputs/jpg_images/courteous.jpg'></td><td><img src='NounProjectOutputs/jpg_images/energy.jpg'></td><td><img src='NounProjectOutputs/jpg_images/making.jpg'></td><td></td><td><img src='EssenceOutputs-individual/essence-21.jpg'></td></tr></table>"
      ],
      "text/plain": [
       "<IPython.core.display.HTML object>"
      ]
     },
     "metadata": {},
     "output_type": "display_data"
    },
    {
     "name": "stdout",
     "output_type": "stream",
     "text": [
      "['Person 23', 'A 52 year old married woman', 'Fun, outgoing, and social.', 'I am always willing to lend a hand or give a listening ear.']\n",
      "['married', 'social', 'lend'] \n",
      "\n"
     ]
    },
    {
     "data": {
      "text/html": [
       "<table><tr><td><img src='NounProjectOutputs/jpg_images/married.jpg'></td><td><img src='NounProjectOutputs/jpg_images/social.jpg'></td><td><img src='NounProjectOutputs/jpg_images/lend.jpg'></td><td></td><td><img src='EssenceOutputs-individual/essence-22.jpg'></td></tr></table>"
      ],
      "text/plain": [
       "<IPython.core.display.HTML object>"
      ]
     },
     "metadata": {},
     "output_type": "display_data"
    },
    {
     "name": "stdout",
     "output_type": "stream",
     "text": [
      "['Person 24', 'I am a 25 year old American woman', 'I am introverted but also very nice and like to learn a lot', 'I try to make other people around me happy and try to make the world a better place to live in']\n",
      "['american', 'learn', 'try'] \n",
      "\n"
     ]
    },
    {
     "data": {
      "text/html": [
       "<table><tr><td><img src='NounProjectOutputs/jpg_images/american.jpg'></td><td><img src='NounProjectOutputs/jpg_images/learn.jpg'></td><td><img src='NounProjectOutputs/jpg_images/try.jpg'></td><td></td><td><img src='EssenceOutputs-individual/essence-23.jpg'></td></tr></table>"
      ],
      "text/plain": [
       "<IPython.core.display.HTML object>"
      ]
     },
     "metadata": {},
     "output_type": "display_data"
    },
    {
     "name": "stdout",
     "output_type": "stream",
     "text": [
      "['Person 25', 'I am a mom and a wife.', 'I am pretty boring and quiet.', 'My love for my husband.']\n",
      "['mom', 'boring', 'husband'] \n",
      "\n"
     ]
    },
    {
     "data": {
      "text/html": [
       "<table><tr><td><img src='NounProjectOutputs/jpg_images/mom.jpg'></td><td><img src='NounProjectOutputs/jpg_images/boring.jpg'></td><td><img src='NounProjectOutputs/jpg_images/husband.jpg'></td><td></td><td><img src='EssenceOutputs-individual/essence-24.jpg'></td></tr></table>"
      ],
      "text/plain": [
       "<IPython.core.display.HTML object>"
      ]
     },
     "metadata": {},
     "output_type": "display_data"
    },
    {
     "name": "stdout",
     "output_type": "stream",
     "text": [
      "['Person 26', 'a 28 year old male', 'intellegent and shy', 'i like to think about everything']\n",
      "['male', 'shy', 'everything'] \n",
      "\n"
     ]
    },
    {
     "data": {
      "text/html": [
       "<table><tr><td><img src='NounProjectOutputs/jpg_images/male.jpg'></td><td><img src='NounProjectOutputs/jpg_images/shy.jpg'></td><td><img src='NounProjectOutputs/jpg_images/everything.jpg'></td><td></td><td><img src='EssenceOutputs-individual/essence-25.jpg'></td></tr></table>"
      ],
      "text/plain": [
       "<IPython.core.display.HTML object>"
      ]
     },
     "metadata": {},
     "output_type": "display_data"
    },
    {
     "name": "stdout",
     "output_type": "stream",
     "text": [
      "['Person 27', 'an inquisitive person', 'friendly and approachable', 'a desire to always learn new things']\n",
      "['inquisitive', 'approachable', 'new'] \n",
      "\n"
     ]
    },
    {
     "data": {
      "text/html": [
       "<table><tr><td><img src='NounProjectOutputs/jpg_images/inquisitive.jpg'></td><td><img src='NounProjectOutputs/jpg_images/approachable.jpg'></td><td><img src='NounProjectOutputs/jpg_images/new.jpg'></td><td></td><td><img src='EssenceOutputs-individual/essence-26.jpg'></td></tr></table>"
      ],
      "text/plain": [
       "<IPython.core.display.HTML object>"
      ]
     },
     "metadata": {},
     "output_type": "display_data"
    },
    {
     "name": "stdout",
     "output_type": "stream",
     "text": [
      "['Person 28', 'I am donald, I am a 25 year old married man, working full time as a social media manager.', 'I am a friendly person, I like the outdoors, and going on adventures with my friends and family.', 'I am warm hearted individual, I am very kind, I love everyone and try never to judge anyone, I put others before myself.']\n",
      "['social', 'outdoors', 'put'] \n",
      "\n"
     ]
    },
    {
     "data": {
      "text/html": [
       "<table><tr><td><img src='NounProjectOutputs/jpg_images/social.jpg'></td><td><img src='NounProjectOutputs/jpg_images/outdoors.jpg'></td><td><img src='NounProjectOutputs/jpg_images/put.jpg'></td><td></td><td><img src='EssenceOutputs-individual/essence-27.jpg'></td></tr></table>"
      ],
      "text/plain": [
       "<IPython.core.display.HTML object>"
      ]
     },
     "metadata": {},
     "output_type": "display_data"
    },
    {
     "name": "stdout",
     "output_type": "stream",
     "text": [
      "['Person 29', \"I'm an average guy. A father, husband, brother, employee and friend. I am much like any other guy.\", \"I'm pretty down to earth. I like to laugh and play video games but I can be serious when I need to be serious.\", 'I think what makes me me is that I am very open-minded as a person. I believe in forming my own opinions rather than just taking things at face value. I like to learn and experience things rather than be told how things are.']\n",
      "['guy', 'serious', 'things'] \n",
      "\n"
     ]
    },
    {
     "data": {
      "text/html": [
       "<table><tr><td><img src='NounProjectOutputs/jpg_images/guy.jpg'></td><td><img src='NounProjectOutputs/jpg_images/serious.jpg'></td><td><img src='NounProjectOutputs/jpg_images/things.jpg'></td><td></td><td><img src='EssenceOutputs-individual/essence-28.jpg'></td></tr></table>"
      ],
      "text/plain": [
       "<IPython.core.display.HTML object>"
      ]
     },
     "metadata": {},
     "output_type": "display_data"
    },
    {
     "name": "stdout",
     "output_type": "stream",
     "text": [
      "['Person 30', \"I'm a man who loves his wife very much.\", \"I'm loyal, devoted and always trying to do best in order to support our family.\", 'Faith and strong will to pursue my hopes and dreams makes me to push through the day.']\n",
      "['loves', 'best', 'push'] \n",
      "\n"
     ]
    },
    {
     "data": {
      "text/html": [
       "<table><tr><td><img src='NounProjectOutputs/jpg_images/loves.jpg'></td><td><img src='NounProjectOutputs/jpg_images/best.jpg'></td><td><img src='NounProjectOutputs/jpg_images/push.jpg'></td><td></td><td><img src='EssenceOutputs-individual/essence-29.jpg'></td></tr></table>"
      ],
      "text/plain": [
       "<IPython.core.display.HTML object>"
      ]
     },
     "metadata": {},
     "output_type": "display_data"
    },
    {
     "name": "stdout",
     "output_type": "stream",
     "text": [
      "['Person 31', 'I am a 43 old mother of two young boys under 7. I am am only child. I will be married for 9years in june.', 'I am an honest person. I am very disorganized and tend to be a half full person. I am loyal.', 'I have been created by God and uniquely created . My life experiences have made me me.']\n",
      "['young', 'person', 'created'] \n",
      "\n"
     ]
    },
    {
     "data": {
      "text/html": [
       "<table><tr><td><img src='NounProjectOutputs/jpg_images/young.jpg'></td><td><img src='NounProjectOutputs/jpg_images/person.jpg'></td><td><img src='NounProjectOutputs/jpg_images/created.jpg'></td><td></td><td><img src='EssenceOutputs-individual/essence-30.jpg'></td></tr></table>"
      ],
      "text/plain": [
       "<IPython.core.display.HTML object>"
      ]
     },
     "metadata": {},
     "output_type": "display_data"
    },
    {
     "name": "stdout",
     "output_type": "stream",
     "text": [
      "['Person 32', 'I am a woman, a wife, a mother of 4.', 'I am introverted, quiet, compassionate, impractical, prone to depression.', 'I love to write.']\n",
      "['woman', 'impractical', 'write'] \n",
      "\n"
     ]
    },
    {
     "data": {
      "text/html": [
       "<table><tr><td><img src='NounProjectOutputs/jpg_images/woman.jpg'></td><td><img src='NounProjectOutputs/jpg_images/impractical.jpg'></td><td><img src='NounProjectOutputs/jpg_images/write.jpg'></td><td></td><td><img src='EssenceOutputs-individual/essence-31.jpg'></td></tr></table>"
      ],
      "text/plain": [
       "<IPython.core.display.HTML object>"
      ]
     },
     "metadata": {},
     "output_type": "display_data"
    },
    {
     "name": "stdout",
     "output_type": "stream",
     "text": [
      "['Person 33', \"I'm a wife and mother of 5 children.\", 'I am introverted, honest and generous.', 'My Catholic faith is a big part of who I am and how I live my life.']\n",
      "['children', 'generous', 'catholic'] \n",
      "\n"
     ]
    },
    {
     "data": {
      "text/html": [
       "<table><tr><td><img src='NounProjectOutputs/jpg_images/children.jpg'></td><td><img src='NounProjectOutputs/jpg_images/generous.jpg'></td><td><img src='NounProjectOutputs/jpg_images/catholic.jpg'></td><td></td><td><img src='EssenceOutputs-individual/essence-32.jpg'></td></tr></table>"
      ],
      "text/plain": [
       "<IPython.core.display.HTML object>"
      ]
     },
     "metadata": {},
     "output_type": "display_data"
    },
    {
     "name": "stdout",
     "output_type": "stream",
     "text": [
      "['Person 34', 'im a strong independent person.', 'im kind and warm hearted.', 'my persoanility makes me who i am.']\n",
      "['independent', 'hearted', 'personality'] \n",
      "\n"
     ]
    },
    {
     "data": {
      "text/html": [
       "<table><tr><td><img src='NounProjectOutputs/jpg_images/independent.jpg'></td><td><img src='NounProjectOutputs/jpg_images/hearted.jpg'></td><td><img src='NounProjectOutputs/jpg_images/personality.jpg'></td><td></td><td><img src='EssenceOutputs-individual/essence-33.jpg'></td></tr></table>"
      ],
      "text/plain": [
       "<IPython.core.display.HTML object>"
      ]
     },
     "metadata": {},
     "output_type": "display_data"
    },
    {
     "name": "stdout",
     "output_type": "stream",
     "text": [
      "['Person 35', \"I'm a mom of 3 children.\", 'I am an outgoing, fun person who likes to go out and be social.', 'I am sincere, honest, and a good friend.  I am caring to others, especially my close friends!']\n",
      "['children', 'go', 'honest'] \n",
      "\n"
     ]
    },
    {
     "data": {
      "text/html": [
       "<table><tr><td><img src='NounProjectOutputs/jpg_images/children.jpg'></td><td><img src='NounProjectOutputs/jpg_images/go.jpg'></td><td><img src='NounProjectOutputs/jpg_images/honest.jpg'></td><td></td><td><img src='EssenceOutputs-individual/essence-34.jpg'></td></tr></table>"
      ],
      "text/plain": [
       "<IPython.core.display.HTML object>"
      ]
     },
     "metadata": {},
     "output_type": "display_data"
    },
    {
     "name": "stdout",
     "output_type": "stream",
     "text": [
      "['Person 36', 'Someone who is calm, peaceful and stays relaxed under pressure.', 'I am nice, kind and funny but usually quiet.', 'I am caring, and I feel the need to help others.']\n",
      "['relaxed', 'usually', 'feel'] \n",
      "\n"
     ]
    },
    {
     "data": {
      "text/html": [
       "<table><tr><td><img src='NounProjectOutputs/jpg_images/relaxed.jpg'></td><td><img src='NounProjectOutputs/jpg_images/usually.jpg'></td><td><img src='NounProjectOutputs/jpg_images/feel.jpg'></td><td></td><td><img src='EssenceOutputs-individual/essence-35.jpg'></td></tr></table>"
      ],
      "text/plain": [
       "<IPython.core.display.HTML object>"
      ]
     },
     "metadata": {},
     "output_type": "display_data"
    },
    {
     "name": "stdout",
     "output_type": "stream",
     "text": [
      "['Person 37', \"I'm a loving and caring mom.\", 'Fun, original, happy', 'Me']\n",
      "['caring', 'original', 'ability'] \n",
      "\n"
     ]
    },
    {
     "data": {
      "text/html": [
       "<table><tr><td><img src='NounProjectOutputs/jpg_images/caring.jpg'></td><td><img src='NounProjectOutputs/jpg_images/original.jpg'></td><td><img src='NounProjectOutputs/jpg_images/ability.jpg'></td><td></td><td><img src='EssenceOutputs-individual/essence-36.jpg'></td></tr></table>"
      ],
      "text/plain": [
       "<IPython.core.display.HTML object>"
      ]
     },
     "metadata": {},
     "output_type": "display_data"
    },
    {
     "name": "stdout",
     "output_type": "stream",
     "text": [
      "['Person 38', 'I am a teacher of ESL', 'I love my husband and our dog, and want to be a mom, even though we are currently struggling with a miscarriage after 2 years of infertility treatments.', 'Right now, humor and talking to my friends in my infertility support group, as well as hanging out and taking pictures of my dog and husband.']\n",
      "['esl', 'even', 'hanging'] \n",
      "\n"
     ]
    },
    {
     "data": {
      "text/html": [
       "<table><tr><td><img src='NounProjectOutputs/jpg_images/esl.jpg'></td><td><img src='NounProjectOutputs/jpg_images/even.jpg'></td><td><img src='NounProjectOutputs/jpg_images/hanging.jpg'></td><td></td><td><img src='EssenceOutputs-individual/essence-37.jpg'></td></tr></table>"
      ],
      "text/plain": [
       "<IPython.core.display.HTML object>"
      ]
     },
     "metadata": {},
     "output_type": "display_data"
    },
    {
     "name": "stdout",
     "output_type": "stream",
     "text": [
      "['Person 39', \"I'm a cat lover who's kind of weird, but smart and funny.\", \"I'm relaxed and love animals.\", 'I have kind of a weird take on things.']\n",
      "['lover', 'animals', 'weird'] \n",
      "\n"
     ]
    },
    {
     "data": {
      "text/html": [
       "<table><tr><td><img src='NounProjectOutputs/jpg_images/lover.jpg'></td><td><img src='NounProjectOutputs/jpg_images/animals.jpg'></td><td><img src='NounProjectOutputs/jpg_images/weird.jpg'></td><td></td><td><img src='EssenceOutputs-individual/essence-38.jpg'></td></tr></table>"
      ],
      "text/plain": [
       "<IPython.core.display.HTML object>"
      ]
     },
     "metadata": {},
     "output_type": "display_data"
    },
    {
     "name": "stdout",
     "output_type": "stream",
     "text": [
      "['Person 40', 'i am a hard working smart female', 'im funny yet clever and warm', 'love for animals and others makes me who i am']\n",
      "['hard', 'yet', 'animals'] \n",
      "\n"
     ]
    },
    {
     "data": {
      "text/html": [
       "<table><tr><td><img src='NounProjectOutputs/jpg_images/hard.jpg'></td><td><img src='NounProjectOutputs/jpg_images/yet.jpg'></td><td><img src='NounProjectOutputs/jpg_images/animals.jpg'></td><td></td><td><img src='EssenceOutputs-individual/essence-39.jpg'></td></tr></table>"
      ],
      "text/plain": [
       "<IPython.core.display.HTML object>"
      ]
     },
     "metadata": {},
     "output_type": "display_data"
    },
    {
     "name": "stdout",
     "output_type": "stream",
     "text": [
      "['Person 41', \"I'm just a nice guy trying to be loving to others and find his way in the world.\", \"I'm nerdy, intelligent, and funny.\", \"I'm nobody special, but I do value my individuality and I love artistic expression.\"]\n",
      "['trying', 'needy', 'expression'] \n",
      "\n"
     ]
    },
    {
     "data": {
      "text/html": [
       "<table><tr><td><img src='NounProjectOutputs/jpg_images/trying.jpg'></td><td><img src='NounProjectOutputs/jpg_images/needy.jpg'></td><td><img src='NounProjectOutputs/jpg_images/expression.jpg'></td><td></td><td><img src='EssenceOutputs-individual/essence-40.jpg'></td></tr></table>"
      ],
      "text/plain": [
       "<IPython.core.display.HTML object>"
      ]
     },
     "metadata": {},
     "output_type": "display_data"
    },
    {
     "name": "stdout",
     "output_type": "stream",
     "text": [
      "['Person 42', 'I am a wife, mother, and college student.', 'I am a loving, smart, fun, caring person . I love to sing, write, do crafts, art and whatever else I can do to help uplift others.', 'My personality and humor. But more importantly my big heart.']\n",
      "['college', 'help', 'heart'] \n",
      "\n"
     ]
    },
    {
     "data": {
      "text/html": [
       "<table><tr><td><img src='NounProjectOutputs/jpg_images/college.jpg'></td><td><img src='NounProjectOutputs/jpg_images/help.jpg'></td><td><img src='NounProjectOutputs/jpg_images/heart.jpg'></td><td></td><td><img src='EssenceOutputs-individual/essence-41.jpg'></td></tr></table>"
      ],
      "text/plain": [
       "<IPython.core.display.HTML object>"
      ]
     },
     "metadata": {},
     "output_type": "display_data"
    },
    {
     "name": "stdout",
     "output_type": "stream",
     "text": [
      "['Person 43', 'I am funny.', 'I am easy going.', 'I have a great personality.']\n",
      "['funny', 'easy', 'great'] \n",
      "\n"
     ]
    },
    {
     "data": {
      "text/html": [
       "<table><tr><td><img src='NounProjectOutputs/jpg_images/funny.jpg'></td><td><img src='NounProjectOutputs/jpg_images/easy.jpg'></td><td><img src='NounProjectOutputs/jpg_images/great.jpg'></td><td></td><td><img src='EssenceOutputs-individual/essence-42.jpg'></td></tr></table>"
      ],
      "text/plain": [
       "<IPython.core.display.HTML object>"
      ]
     },
     "metadata": {},
     "output_type": "display_data"
    },
    {
     "name": "stdout",
     "output_type": "stream",
     "text": [
      "['Person 44', 'henry johnson', 'stern,friendly,loving,strong of mind,family oriented,good worker,always looking forward within memories of the past', 'loving all the members of my faily,past and present']\n",
      "['henry', 'memories', 'present'] \n",
      "\n"
     ]
    },
    {
     "data": {
      "text/html": [
       "<table><tr><td><img src='NounProjectOutputs/jpg_images/henry.jpg'></td><td><img src='NounProjectOutputs/jpg_images/memories.jpg'></td><td><img src='NounProjectOutputs/jpg_images/present.jpg'></td><td></td><td><img src='EssenceOutputs-individual/essence-43.jpg'></td></tr></table>"
      ],
      "text/plain": [
       "<IPython.core.display.HTML object>"
      ]
     },
     "metadata": {},
     "output_type": "display_data"
    },
    {
     "name": "stdout",
     "output_type": "stream",
     "text": [
      "['Person 45', 'I am a daughter, sister, friend, and advocate', \"I advocate for those who don't have a voice\", 'I care so deeply about children involved in the system and I will do almost anything to help them!']\n",
      "['advocate', 'voice', 'deeply'] \n",
      "\n"
     ]
    },
    {
     "data": {
      "text/html": [
       "<table><tr><td><img src='NounProjectOutputs/jpg_images/advocate.jpg'></td><td><img src='NounProjectOutputs/jpg_images/voice.jpg'></td><td><img src='NounProjectOutputs/jpg_images/deeply.jpg'></td><td></td><td><img src='EssenceOutputs-individual/essence-44.jpg'></td></tr></table>"
      ],
      "text/plain": [
       "<IPython.core.display.HTML object>"
      ]
     },
     "metadata": {},
     "output_type": "display_data"
    },
    {
     "name": "stdout",
     "output_type": "stream",
     "text": [
      "['Person 46', 'I am a mom, wife, educator, sister, and daughter.', \"I'm an introverted extrovert. I love to be on stage and the center of attention, but I hate small talk.\", 'I am my own unique person who has never been known to follow a crowd.']\n",
      "['educator', 'hate', 'known'] \n",
      "\n"
     ]
    },
    {
     "data": {
      "text/html": [
       "<table><tr><td><img src='NounProjectOutputs/jpg_images/educator.jpg'></td><td><img src='NounProjectOutputs/jpg_images/hate.jpg'></td><td><img src='NounProjectOutputs/jpg_images/known.jpg'></td><td></td><td><img src='EssenceOutputs-individual/essence-45.jpg'></td></tr></table>"
      ],
      "text/plain": [
       "<IPython.core.display.HTML object>"
      ]
     },
     "metadata": {},
     "output_type": "display_data"
    },
    {
     "name": "stdout",
     "output_type": "stream",
     "text": [
      "['Person 47', 'I am a mother, friend, and wife', 'I am active, adventurous, and hardwarling.', 'My values and principals.']\n",
      "['friend', 'hardworking', 'values'] \n",
      "\n"
     ]
    },
    {
     "data": {
      "text/html": [
       "<table><tr><td><img src='NounProjectOutputs/jpg_images/friend.jpg'></td><td><img src='NounProjectOutputs/jpg_images/hardworking.jpg'></td><td><img src='NounProjectOutputs/jpg_images/values.jpg'></td><td></td><td><img src='EssenceOutputs-individual/essence-46.jpg'></td></tr></table>"
      ],
      "text/plain": [
       "<IPython.core.display.HTML object>"
      ]
     },
     "metadata": {},
     "output_type": "display_data"
    },
    {
     "name": "stdout",
     "output_type": "stream",
     "text": [
      "['Person 48', 'I am a soul that currently has the role of wife, mother, daughter, sister, and friend.', \"I'm an introspective, introverted individual who cherishes both family time and alone time.\", 'My quick wit, warm smile, and love of laughter make me who I am.']\n",
      "['soul', 'time', 'laughter'] \n",
      "\n"
     ]
    },
    {
     "data": {
      "text/html": [
       "<table><tr><td><img src='NounProjectOutputs/jpg_images/soul.jpg'></td><td><img src='NounProjectOutputs/jpg_images/time.jpg'></td><td><img src='NounProjectOutputs/jpg_images/laughter.jpg'></td><td></td><td><img src='EssenceOutputs-individual/essence-47.jpg'></td></tr></table>"
      ],
      "text/plain": [
       "<IPython.core.display.HTML object>"
      ]
     },
     "metadata": {},
     "output_type": "display_data"
    },
    {
     "name": "stdout",
     "output_type": "stream",
     "text": [
      "['Person 49', 'I am a working mom.', 'I am calm, determined, and loving.', 'The essence of what makes me is my compassion and caring.']\n",
      "['working', 'calm', 'compassion'] \n",
      "\n"
     ]
    },
    {
     "data": {
      "text/html": [
       "<table><tr><td><img src='NounProjectOutputs/jpg_images/working.jpg'></td><td><img src='NounProjectOutputs/jpg_images/calm.jpg'></td><td><img src='NounProjectOutputs/jpg_images/compassion.jpg'></td><td></td><td><img src='EssenceOutputs-individual/essence-48.jpg'></td></tr></table>"
      ],
      "text/plain": [
       "<IPython.core.display.HTML object>"
      ]
     },
     "metadata": {},
     "output_type": "display_data"
    },
    {
     "name": "stdout",
     "output_type": "stream",
     "text": [
      "['Person 50', 'I am a 27 year old special education teacher who lives in California.', 'I am a sociable and very goofy young guy who likes to make everyone laugh.', 'The essence of what makes me myself is that I am always generally positive and like to spread a smile to all those around me!']\n",
      "['education', 'young', 'generally'] \n",
      "\n"
     ]
    },
    {
     "data": {
      "text/html": [
       "<table><tr><td><img src='NounProjectOutputs/jpg_images/education.jpg'></td><td><img src='NounProjectOutputs/jpg_images/young.jpg'></td><td><img src='NounProjectOutputs/jpg_images/generally.jpg'></td><td></td><td><img src='EssenceOutputs-individual/essence-49.jpg'></td></tr></table>"
      ],
      "text/plain": [
       "<IPython.core.display.HTML object>"
      ]
     },
     "metadata": {},
     "output_type": "display_data"
    }
   ],
   "source": [
    "# for i in range(50):\n",
    "#     print(desc_array[i])\n",
    "#     print(top3_each[i], '\\n')\n",
    "#     image1 = jpg_dir + top3_each[i][0] + '.jpg'\n",
    "#     image2 = jpg_dir + top3_each[i][1] + '.jpg'\n",
    "#     image3 = jpg_dir + top3_each[i][2] + '.jpg'\n",
    "#     output = 'docs/EssenceOutputs-individual/essence-' + str(i) + '.jpg'\n",
    "#     display(HTML(\"<table><tr><td><img src='\"+ image1 + \"'></td><td><img src='\" + image2 + \"'></td><td><img src='\"+ image3 + \"'></td><td></td><td><img src='\"+ output + \"'></td></tr></table>\"))"
   ]
  },
  {
   "cell_type": "markdown",
   "metadata": {},
   "source": [
    "## Old Essence"
   ]
  },
  {
   "cell_type": "code",
   "execution_count": 332,
   "metadata": {},
   "outputs": [
    {
     "name": "stdout",
     "output_type": "stream",
     "text": [
      "['Person 1', 'I am a 28-year-old woman living in Massachusetts.', \"I'm neurotic and eccentric but good at heart.\", 'I am obsessed with rabbits and love technology.']\n",
      "['technology', 'obsessed', 'massachusetts'] \n",
      "\n"
     ]
    },
    {
     "data": {
      "text/html": [
       "<table><tr><td><img src='docs/NounProjectOutputs/jpg_images/technology.jpg'></td><td><img src='docs/NounProjectOutputs/jpg_images/obsessed.jpg'></td><td><img src='docs/NounProjectOutputs/jpg_images/massachusetts.jpg'></td><td></td><td><img src='OldEssenceOutputs/essence-0.jpg'></td></tr></table>"
      ],
      "text/plain": [
       "<IPython.core.display.HTML object>"
      ]
     },
     "metadata": {},
     "output_type": "display_data"
    },
    {
     "name": "stdout",
     "output_type": "stream",
     "text": [
      "['Person 2', 'I am dedicated and persistent and willing to go the extra mil', \"'m fun loving and like to make people laugh by telling jokes and making light of situations\", 'I am insightful and am able to fit together pieces to understand the big pictur']\n",
      "['jokes', 'mil', 'dedicated'] \n",
      "\n"
     ]
    },
    {
     "data": {
      "text/html": [
       "<table><tr><td><img src='docs/NounProjectOutputs/jpg_images/jokes.jpg'></td><td><img src='docs/NounProjectOutputs/jpg_images/mil.jpg'></td><td><img src='docs/NounProjectOutputs/jpg_images/dedicated.jpg'></td><td></td><td><img src='OldEssenceOutputs/essence-1.jpg'></td></tr></table>"
      ],
      "text/plain": [
       "<IPython.core.display.HTML object>"
      ]
     },
     "metadata": {},
     "output_type": "display_data"
    },
    {
     "name": "stdout",
     "output_type": "stream",
     "text": [
      "['Person 3', 'I am a feminist, a student, and a homosexual.', 'I am kind, nurturing, caring, and genuine.', 'My honesty, my loyalty, and my generosity make me me.']\n",
      "['feminist', 'generosity', 'homosexual'] \n",
      "\n"
     ]
    },
    {
     "data": {
      "text/html": [
       "<table><tr><td><img src='docs/NounProjectOutputs/jpg_images/feminist.jpg'></td><td><img src='docs/NounProjectOutputs/jpg_images/generosity.jpg'></td><td><img src='docs/NounProjectOutputs/jpg_images/homosexual.jpg'></td><td></td><td><img src='OldEssenceOutputs/essence-2.jpg'></td></tr></table>"
      ],
      "text/plain": [
       "<IPython.core.display.HTML object>"
      ]
     },
     "metadata": {},
     "output_type": "display_data"
    },
    {
     "name": "stdout",
     "output_type": "stream",
     "text": [
      "['Person 4', \"I'm an immigrant who became a citizen of the United States. I'm an American.\", \"I can be stubborn and stand-offish, but I still care very much about my friends and family. I'm a nerd about movies/tvshows/books. I love video games and prefer to stay home.\", \"I'm introverted, so I need time alone to recharge and recalibrate.\"]\n",
      "['home', 'calibrate', 'still'] \n",
      "\n"
     ]
    },
    {
     "data": {
      "text/html": [
       "<table><tr><td><img src='docs/NounProjectOutputs/jpg_images/home.jpg'></td><td><img src='docs/NounProjectOutputs/jpg_images/calibrate.jpg'></td><td><img src='docs/NounProjectOutputs/jpg_images/still.jpg'></td><td></td><td><img src='OldEssenceOutputs/essence-3.jpg'></td></tr></table>"
      ],
      "text/plain": [
       "<IPython.core.display.HTML object>"
      ]
     },
     "metadata": {},
     "output_type": "display_data"
    },
    {
     "name": "stdout",
     "output_type": "stream",
     "text": [
      "['Person 5', \"I'm a boring person\", \"I'm quiet and introspective.\", 'I have deep wells of sorrow.']\n",
      "['sorrow', 'deep', 'wells'] \n",
      "\n"
     ]
    },
    {
     "data": {
      "text/html": [
       "<table><tr><td><img src='docs/NounProjectOutputs/jpg_images/sorrow.jpg'></td><td><img src='docs/NounProjectOutputs/jpg_images/deep.jpg'></td><td><img src='docs/NounProjectOutputs/jpg_images/wells.jpg'></td><td></td><td><img src='OldEssenceOutputs/essence-4.jpg'></td></tr></table>"
      ],
      "text/plain": [
       "<IPython.core.display.HTML object>"
      ]
     },
     "metadata": {},
     "output_type": "display_data"
    },
    {
     "name": "stdout",
     "output_type": "stream",
     "text": [
      "['Person 6', 'I am a girl who lives in New York City in my twenties who is incredibly close with my family.', 'I am very social and outgoing.', 'I am outgoing and care tremendously about my friends.']\n",
      "['outgoing', 'tremendously', 'incredibly'] \n",
      "\n"
     ]
    },
    {
     "data": {
      "text/html": [
       "<table><tr><td><img src='docs/NounProjectOutputs/jpg_images/outgoing.jpg'></td><td><img src='docs/NounProjectOutputs/jpg_images/tremendously.jpg'></td><td><img src='docs/NounProjectOutputs/jpg_images/incredibly.jpg'></td><td></td><td><img src='OldEssenceOutputs/essence-5.jpg'></td></tr></table>"
      ],
      "text/plain": [
       "<IPython.core.display.HTML object>"
      ]
     },
     "metadata": {},
     "output_type": "display_data"
    },
    {
     "name": "stdout",
     "output_type": "stream",
     "text": [
      "['Person 7', 'I am a mom of 3', 'I like R &B Music, Japanese Food, Pizz', 'I am sympathetic.']\n",
      "['japanese', 'pizza', 'sympathetic'] \n",
      "\n"
     ]
    },
    {
     "data": {
      "text/html": [
       "<table><tr><td><img src='docs/NounProjectOutputs/jpg_images/japanese.jpg'></td><td><img src='docs/NounProjectOutputs/jpg_images/pizza.jpg'></td><td><img src='docs/NounProjectOutputs/jpg_images/sympathetic.jpg'></td><td></td><td><img src='OldEssenceOutputs/essence-6.jpg'></td></tr></table>"
      ],
      "text/plain": [
       "<IPython.core.display.HTML object>"
      ]
     },
     "metadata": {},
     "output_type": "display_data"
    },
    {
     "name": "stdout",
     "output_type": "stream",
     "text": [
      "['Person 8', 'I am a licensed counselor.', \"I'm silly and funny.\", \"I'm fun and sarcastic a lot of the time.\"]\n",
      "['silly', 'counsellor', 'licensed'] \n",
      "\n"
     ]
    },
    {
     "data": {
      "text/html": [
       "<table><tr><td><img src='docs/NounProjectOutputs/jpg_images/silly.jpg'></td><td><img src='docs/NounProjectOutputs/jpg_images/counsellor.jpg'></td><td><img src='docs/NounProjectOutputs/jpg_images/licensed.jpg'></td><td></td><td><img src='OldEssenceOutputs/essence-7.jpg'></td></tr></table>"
      ],
      "text/plain": [
       "<IPython.core.display.HTML object>"
      ]
     },
     "metadata": {},
     "output_type": "display_data"
    },
    {
     "name": "stdout",
     "output_type": "stream",
     "text": [
      "['Person 9', \"I'm Jim, a 53 year old american man\", \"I'm forceful, happy, calm and occasionally grumpy with a touch of sarcasm.\", \"I'm a drivan dominant at work and play. My wife is essential to my life. I'd be lost without her grounding me.\"]\n",
      "['touch', 'grounding', 'forceful'] \n",
      "\n"
     ]
    },
    {
     "data": {
      "text/html": [
       "<table><tr><td><img src='docs/NounProjectOutputs/jpg_images/touch.jpg'></td><td><img src='docs/NounProjectOutputs/jpg_images/grounding.jpg'></td><td><img src='docs/NounProjectOutputs/jpg_images/forceful.jpg'></td><td></td><td><img src='OldEssenceOutputs/essence-8.jpg'></td></tr></table>"
      ],
      "text/plain": [
       "<IPython.core.display.HTML object>"
      ]
     },
     "metadata": {},
     "output_type": "display_data"
    },
    {
     "name": "stdout",
     "output_type": "stream",
     "text": [
      "['Person 10', \"I'm a fat, biracial bisexual woman.\", \"I'm a funny depressive--aren't all depressives a riot?\", \"I'm a boring drudge, not glamorous or fancy, but fairly dependable.\"]\n",
      "['bisexual', 'fancy', 'glamorous'] \n",
      "\n"
     ]
    },
    {
     "data": {
      "text/html": [
       "<table><tr><td><img src='docs/NounProjectOutputs/jpg_images/bisexual.jpg'></td><td><img src='docs/NounProjectOutputs/jpg_images/fancy.jpg'></td><td><img src='docs/NounProjectOutputs/jpg_images/glamorous.jpg'></td><td></td><td><img src='OldEssenceOutputs/essence-9.jpg'></td></tr></table>"
      ],
      "text/plain": [
       "<IPython.core.display.HTML object>"
      ]
     },
     "metadata": {},
     "output_type": "display_data"
    },
    {
     "name": "stdout",
     "output_type": "stream",
     "text": [
      "['Person 11', 'I am an adventurous geeky skydiv', 'I am fun-loving and love life.', 'I am intelligent and caring.']\n",
      "['geek', 'skydiver', 'adventurous'] \n",
      "\n"
     ]
    },
    {
     "data": {
      "text/html": [
       "<table><tr><td><img src='docs/NounProjectOutputs/jpg_images/geek.jpg'></td><td><img src='docs/NounProjectOutputs/jpg_images/skydiver.jpg'></td><td><img src='docs/NounProjectOutputs/jpg_images/adventurous.jpg'></td><td></td><td><img src='OldEssenceOutputs/essence-10.jpg'></td></tr></table>"
      ],
      "text/plain": [
       "<IPython.core.display.HTML object>"
      ]
     },
     "metadata": {},
     "output_type": "display_data"
    },
    {
     "name": "stdout",
     "output_type": "stream",
     "text": [
      "['Person 12', \"I am a person who believes that honesty and integrity is very important in today's society and world.\", 'I am a person who is warm and sensitive to the feelings of others.', 'I see myself as one who you can count when the chips are down.']\n",
      "['person', 'see', 'today'] \n",
      "\n"
     ]
    },
    {
     "data": {
      "text/html": [
       "<table><tr><td><img src='docs/NounProjectOutputs/jpg_images/person.jpg'></td><td><img src='docs/NounProjectOutputs/jpg_images/see.jpg'></td><td><img src='docs/NounProjectOutputs/jpg_images/today.jpg'></td><td></td><td><img src='OldEssenceOutputs/essence-11.jpg'></td></tr></table>"
      ],
      "text/plain": [
       "<IPython.core.display.HTML object>"
      ]
     },
     "metadata": {},
     "output_type": "display_data"
    },
    {
     "name": "stdout",
     "output_type": "stream",
     "text": [
      "['Person 13', \"I am shy from those whom I don't know yet energetic and caring to those whom I do know.\", 'I am a very happy and appreciate all life equally.', 'God is an important part of who I am. He allows me to me loving to all creatures no matter how small.']\n",
      "['know', 'allows', 'appreciate'] \n",
      "\n"
     ]
    },
    {
     "data": {
      "text/html": [
       "<table><tr><td><img src='docs/NounProjectOutputs/jpg_images/know.jpg'></td><td><img src='docs/NounProjectOutputs/jpg_images/allows.jpg'></td><td><img src='docs/NounProjectOutputs/jpg_images/appreciate.jpg'></td><td></td><td><img src='OldEssenceOutputs/essence-12.jpg'></td></tr></table>"
      ],
      "text/plain": [
       "<IPython.core.display.HTML object>"
      ]
     },
     "metadata": {},
     "output_type": "display_data"
    },
    {
     "name": "stdout",
     "output_type": "stream",
     "text": [
      "['Person 14', 'I am a human', 'I am curious and interested in urban', 'My passion for cities and cultur']\n",
      "['urban', 'passion', 'cities'] \n",
      "\n"
     ]
    },
    {
     "data": {
      "text/html": [
       "<table><tr><td><img src='docs/NounProjectOutputs/jpg_images/urban.jpg'></td><td><img src='docs/NounProjectOutputs/jpg_images/passion.jpg'></td><td><img src='docs/NounProjectOutputs/jpg_images/cities.jpg'></td><td></td><td><img src='OldEssenceOutputs/essence-13.jpg'></td></tr></table>"
      ],
      "text/plain": [
       "<IPython.core.display.HTML object>"
      ]
     },
     "metadata": {},
     "output_type": "display_data"
    },
    {
     "name": "stdout",
     "output_type": "stream",
     "text": [
      "['Person 15', 'I am a musician', 'm very laidback, easy going and unbrainwashed.', 'Making music makes me tick.']\n",
      "['musician', 'laidback', 'tick'] \n",
      "\n"
     ]
    },
    {
     "data": {
      "text/html": [
       "<table><tr><td><img src='docs/NounProjectOutputs/jpg_images/musician.jpg'></td><td><img src='docs/NounProjectOutputs/jpg_images/laidback.jpg'></td><td><img src='docs/NounProjectOutputs/jpg_images/tick.jpg'></td><td></td><td><img src='OldEssenceOutputs/essence-14.jpg'></td></tr></table>"
      ],
      "text/plain": [
       "<IPython.core.display.HTML object>"
      ]
     },
     "metadata": {},
     "output_type": "display_data"
    },
    {
     "name": "stdout",
     "output_type": "stream",
     "text": [
      "['Person 16', 'I am a middle aged woman.', 'I am easy-going, caring, and nurturing.', \"My essence is that I care a great deal about others to the point that I don't take care of myself.\"]\n",
      "['aged', 'point', 'middle'] \n",
      "\n"
     ]
    },
    {
     "data": {
      "text/html": [
       "<table><tr><td><img src='docs/NounProjectOutputs/jpg_images/aged.jpg'></td><td><img src='docs/NounProjectOutputs/jpg_images/point.jpg'></td><td><img src='docs/NounProjectOutputs/jpg_images/middle.jpg'></td><td></td><td><img src='OldEssenceOutputs/essence-15.jpg'></td></tr></table>"
      ],
      "text/plain": [
       "<IPython.core.display.HTML object>"
      ]
     },
     "metadata": {},
     "output_type": "display_data"
    },
    {
     "name": "stdout",
     "output_type": "stream",
     "text": [
      "['Person 17', 'A male human being with a kind and loving personality.', 'Video Games and food', 'Humble, Kind, Loving']\n",
      "['kind', 'loving', 'male'] \n",
      "\n"
     ]
    },
    {
     "data": {
      "text/html": [
       "<table><tr><td><img src='docs/NounProjectOutputs/jpg_images/kind.jpg'></td><td><img src='docs/NounProjectOutputs/jpg_images/loving.jpg'></td><td><img src='docs/NounProjectOutputs/jpg_images/male.jpg'></td><td></td><td><img src='OldEssenceOutputs/essence-16.jpg'></td></tr></table>"
      ],
      "text/plain": [
       "<IPython.core.display.HTML object>"
      ]
     },
     "metadata": {},
     "output_type": "display_data"
    },
    {
     "name": "stdout",
     "output_type": "stream",
     "text": [
      "['Person 18', 'I am a mother, wife, and friend', 'I am like the shoulder you can cry on, or a listening ear.', 'My family makes me me!']\n",
      "['cry', 'shoulder', 'listening'] \n",
      "\n"
     ]
    },
    {
     "data": {
      "text/html": [
       "<table><tr><td><img src='docs/NounProjectOutputs/jpg_images/cry.jpg'></td><td><img src='docs/NounProjectOutputs/jpg_images/shoulder.jpg'></td><td><img src='docs/NounProjectOutputs/jpg_images/listening.jpg'></td><td></td><td><img src='OldEssenceOutputs/essence-17.jpg'></td></tr></table>"
      ],
      "text/plain": [
       "<IPython.core.display.HTML object>"
      ]
     },
     "metadata": {},
     "output_type": "display_data"
    },
    {
     "name": "stdout",
     "output_type": "stream",
     "text": [
      "['Person 19', 'I am an \"older\" adult who is finally understanding what is important and not important in this life.', 'I am an outgoing, sensitive, fun, creative and active person.', \"Family is the essence of what makes me me. Without them, I'd be at a total loss.\"]\n",
      "['important', 'adult', 'creative'] \n",
      "\n"
     ]
    },
    {
     "data": {
      "text/html": [
       "<table><tr><td><img src='docs/NounProjectOutputs/jpg_images/important.jpg'></td><td><img src='docs/NounProjectOutputs/jpg_images/adult.jpg'></td><td><img src='docs/NounProjectOutputs/jpg_images/creative.jpg'></td><td></td><td><img src='OldEssenceOutputs/essence-18.jpg'></td></tr></table>"
      ],
      "text/plain": [
       "<IPython.core.display.HTML object>"
      ]
     },
     "metadata": {},
     "output_type": "display_data"
    },
    {
     "name": "stdout",
     "output_type": "stream",
     "text": [
      "['Person 20', \"I'm a 30 year old married man with a 2 year old daughter.\", \"I'm hard working, determined, goal oriented, relaxed and down to earth.\", 'My ability to get along well with almost anyone is what makes me Me.']\n",
      "['year', 'old', 'ability'] \n",
      "\n"
     ]
    },
    {
     "data": {
      "text/html": [
       "<table><tr><td><img src='docs/NounProjectOutputs/jpg_images/year.jpg'></td><td><img src='docs/NounProjectOutputs/jpg_images/old.jpg'></td><td><img src='docs/NounProjectOutputs/jpg_images/ability.jpg'></td><td></td><td><img src='OldEssenceOutputs/essence-19.jpg'></td></tr></table>"
      ],
      "text/plain": [
       "<IPython.core.display.HTML object>"
      ]
     },
     "metadata": {},
     "output_type": "display_data"
    },
    {
     "name": "stdout",
     "output_type": "stream",
     "text": [
      "['Person 21', 'I am an untraditional college student who is employed full time.', \"I am an agreeable person who doesn't like to be bothered with others.\", 'I am an introvert who is happy to pass the time by myself.']\n",
      "['time', 'employed', 'agreeable'] \n",
      "\n"
     ]
    },
    {
     "data": {
      "text/html": [
       "<table><tr><td><img src='docs/NounProjectOutputs/jpg_images/time.jpg'></td><td><img src='docs/NounProjectOutputs/jpg_images/employed.jpg'></td><td><img src='docs/NounProjectOutputs/jpg_images/agreeable.jpg'></td><td></td><td><img src='OldEssenceOutputs/essence-20.jpg'></td></tr></table>"
      ],
      "text/plain": [
       "<IPython.core.display.HTML object>"
      ]
     },
     "metadata": {},
     "output_type": "display_data"
    },
    {
     "name": "stdout",
     "output_type": "stream",
     "text": [
      "['Person 22', 'A courteous femal', 'Friendly and full of energy.', 'Family is making me to smile and be happy.']\n",
      "['energy', 'courteous', 'female'] \n",
      "\n"
     ]
    },
    {
     "data": {
      "text/html": [
       "<table><tr><td><img src='docs/NounProjectOutputs/jpg_images/energy.jpg'></td><td><img src='docs/NounProjectOutputs/jpg_images/courteous.jpg'></td><td><img src='docs/NounProjectOutputs/jpg_images/female.jpg'></td><td></td><td><img src='OldEssenceOutputs/essence-21.jpg'></td></tr></table>"
      ],
      "text/plain": [
       "<IPython.core.display.HTML object>"
      ]
     },
     "metadata": {},
     "output_type": "display_data"
    },
    {
     "name": "stdout",
     "output_type": "stream",
     "text": [
      "['Person 23', 'A 52 year old married woman', 'Fun, outgoing, and social.', 'I am always willing to lend a hand or give a listening ear.']\n",
      "['hand', 'lend', 'give'] \n",
      "\n"
     ]
    },
    {
     "data": {
      "text/html": [
       "<table><tr><td><img src='docs/NounProjectOutputs/jpg_images/hand.jpg'></td><td><img src='docs/NounProjectOutputs/jpg_images/lend.jpg'></td><td><img src='docs/NounProjectOutputs/jpg_images/give.jpg'></td><td></td><td><img src='OldEssenceOutputs/essence-22.jpg'></td></tr></table>"
      ],
      "text/plain": [
       "<IPython.core.display.HTML object>"
      ]
     },
     "metadata": {},
     "output_type": "display_data"
    },
    {
     "name": "stdout",
     "output_type": "stream",
     "text": [
      "['Person 24', 'I am a 25 year old American woman', 'I am introverted but also very nice and like to learn', 'I try to make other people around me happy and try to make the world a better place to liv']\n",
      "['try', 'make', 'better'] \n",
      "\n"
     ]
    },
    {
     "data": {
      "text/html": [
       "<table><tr><td><img src='docs/NounProjectOutputs/jpg_images/try.jpg'></td><td><img src='docs/NounProjectOutputs/jpg_images/make.jpg'></td><td><img src='docs/NounProjectOutputs/jpg_images/better.jpg'></td><td></td><td><img src='OldEssenceOutputs/essence-23.jpg'></td></tr></table>"
      ],
      "text/plain": [
       "<IPython.core.display.HTML object>"
      ]
     },
     "metadata": {},
     "output_type": "display_data"
    },
    {
     "name": "stdout",
     "output_type": "stream",
     "text": [
      "['Person 25', 'I am a mom and a wife.', 'I am pretty boring and quiet.', 'My love for my husband.']\n",
      "['pretty', 'husband', 'boring'] \n",
      "\n"
     ]
    },
    {
     "data": {
      "text/html": [
       "<table><tr><td><img src='docs/NounProjectOutputs/jpg_images/pretty.jpg'></td><td><img src='docs/NounProjectOutputs/jpg_images/husband.jpg'></td><td><img src='docs/NounProjectOutputs/jpg_images/boring.jpg'></td><td></td><td><img src='OldEssenceOutputs/essence-24.jpg'></td></tr></table>"
      ],
      "text/plain": [
       "<IPython.core.display.HTML object>"
      ]
     },
     "metadata": {},
     "output_type": "display_data"
    },
    {
     "name": "stdout",
     "output_type": "stream",
     "text": [
      "['Person 26', '28 year old mal', 'ntellegent and s', 'like to think about everything']\n",
      "['mal', 'everything', 'think'] \n",
      "\n"
     ]
    },
    {
     "data": {
      "text/html": [
       "<table><tr><td><img src='docs/NounProjectOutputs/jpg_images/mal.jpg'></td><td><img src='docs/NounProjectOutputs/jpg_images/everything.jpg'></td><td><img src='docs/NounProjectOutputs/jpg_images/think.jpg'></td><td></td><td><img src='OldEssenceOutputs/essence-25.jpg'></td></tr></table>"
      ],
      "text/plain": [
       "<IPython.core.display.HTML object>"
      ]
     },
     "metadata": {},
     "output_type": "display_data"
    },
    {
     "name": "stdout",
     "output_type": "stream",
     "text": [
      "['Person 27', 'n inquisitive person', 'friendly and approachab', 'desire to always learn new thing']\n",
      "['desire', 'thing', 'inquisitive'] \n",
      "\n"
     ]
    },
    {
     "data": {
      "text/html": [
       "<table><tr><td><img src='docs/NounProjectOutputs/jpg_images/desire.jpg'></td><td><img src='docs/NounProjectOutputs/jpg_images/thing.jpg'></td><td><img src='docs/NounProjectOutputs/jpg_images/inquisitive.jpg'></td><td></td><td><img src='OldEssenceOutputs/essence-26.jpg'></td></tr></table>"
      ],
      "text/plain": [
       "<IPython.core.display.HTML object>"
      ]
     },
     "metadata": {},
     "output_type": "display_data"
    },
    {
     "name": "stdout",
     "output_type": "stream",
     "text": [
      "['Person 28', 'I am donald, I am a 25 year old married man, working full time as a social media manager.', 'I am a friendly person, I like the outdoors, and going on adventures with my friends and family.', 'I am warm hearted individual, I am very kind, I love everyone and try never to judge anyone, I put others before myself.']\n",
      "['donald', 'manager', 'judge'] \n",
      "\n"
     ]
    },
    {
     "data": {
      "text/html": [
       "<table><tr><td><img src='docs/NounProjectOutputs/jpg_images/donald.jpg'></td><td><img src='docs/NounProjectOutputs/jpg_images/manager.jpg'></td><td><img src='docs/NounProjectOutputs/jpg_images/judge.jpg'></td><td></td><td><img src='OldEssenceOutputs/essence-27.jpg'></td></tr></table>"
      ],
      "text/plain": [
       "<IPython.core.display.HTML object>"
      ]
     },
     "metadata": {},
     "output_type": "display_data"
    },
    {
     "name": "stdout",
     "output_type": "stream",
     "text": [
      "['Person 29', \"I'm an average guy. A father, husband, brother, employee and friend. I am much like any other guy.\", \"I'm pretty down to earth. I like to laugh and play video games but I can be serious when I need to be serious.\", 'I think what makes me me is that I am very open-minded as a person. I believe in forming my own opinions rather than just taking things at face value. I like to learn and experience things rather than be told how things are.']\n",
      "['things', 'rather', 'serious'] \n",
      "\n"
     ]
    },
    {
     "data": {
      "text/html": [
       "<table><tr><td><img src='docs/NounProjectOutputs/jpg_images/things.jpg'></td><td><img src='docs/NounProjectOutputs/jpg_images/rather.jpg'></td><td><img src='docs/NounProjectOutputs/jpg_images/serious.jpg'></td><td></td><td><img src='OldEssenceOutputs/essence-28.jpg'></td></tr></table>"
      ],
      "text/plain": [
       "<IPython.core.display.HTML object>"
      ]
     },
     "metadata": {},
     "output_type": "display_data"
    },
    {
     "name": "stdout",
     "output_type": "stream",
     "text": [
      "['Person 30', \"I'm a man who loves his wife very much.\", \"I'm loyal, devoted and always trying to do best in order to support our family.\", 'Faith and strong will to pursue my hopes and dreams makes me to push through the day.']\n",
      "['best', 'push', 'hopes'] \n",
      "\n"
     ]
    },
    {
     "data": {
      "text/html": [
       "<table><tr><td><img src='docs/NounProjectOutputs/jpg_images/best.jpg'></td><td><img src='docs/NounProjectOutputs/jpg_images/push.jpg'></td><td><img src='docs/NounProjectOutputs/jpg_images/hopes.jpg'></td><td></td><td><img src='OldEssenceOutputs/essence-29.jpg'></td></tr></table>"
      ],
      "text/plain": [
       "<IPython.core.display.HTML object>"
      ]
     },
     "metadata": {},
     "output_type": "display_data"
    },
    {
     "name": "stdout",
     "output_type": "stream",
     "text": [
      "['Person 31', 'I am a 43 old mother of two young boys under 7. I am am only child. I will be married for 9years in june.', 'I am an honest person. I am very disorganized and tend to be a half full person. I am loyal.', 'I have been created by God and uniquely created . My life experiences have made me me.']\n",
      "['created', 'person', 'tend'] \n",
      "\n"
     ]
    },
    {
     "data": {
      "text/html": [
       "<table><tr><td><img src='docs/NounProjectOutputs/jpg_images/created.jpg'></td><td><img src='docs/NounProjectOutputs/jpg_images/person.jpg'></td><td><img src='docs/NounProjectOutputs/jpg_images/tend.jpg'></td><td></td><td><img src='OldEssenceOutputs/essence-30.jpg'></td></tr></table>"
      ],
      "text/plain": [
       "<IPython.core.display.HTML object>"
      ]
     },
     "metadata": {},
     "output_type": "display_data"
    },
    {
     "name": "stdout",
     "output_type": "stream",
     "text": [
      "['Person 32', 'I am a woman, a wife, a mother of 4.', 'I am introverted, quiet, compassionate, impractical, prone to depression.', 'I love to write.']\n",
      "['compassionate', 'depression', 'impractical'] \n",
      "\n"
     ]
    },
    {
     "data": {
      "text/html": [
       "<table><tr><td><img src='docs/NounProjectOutputs/jpg_images/compassionate.jpg'></td><td><img src='docs/NounProjectOutputs/jpg_images/depression.jpg'></td><td><img src='docs/NounProjectOutputs/jpg_images/impractical.jpg'></td><td></td><td><img src='OldEssenceOutputs/essence-31.jpg'></td></tr></table>"
      ],
      "text/plain": [
       "<IPython.core.display.HTML object>"
      ]
     },
     "metadata": {},
     "output_type": "display_data"
    },
    {
     "name": "stdout",
     "output_type": "stream",
     "text": [
      "['Person 33', \"I'm a wife and mother of 5 children.\", 'I am introverted, honest and generous.', 'My Catholic faith is a big part of who I am and how I live my life.']\n",
      "['generous', 'catholic', 'live'] \n",
      "\n"
     ]
    },
    {
     "data": {
      "text/html": [
       "<table><tr><td><img src='docs/NounProjectOutputs/jpg_images/generous.jpg'></td><td><img src='docs/NounProjectOutputs/jpg_images/catholic.jpg'></td><td><img src='docs/NounProjectOutputs/jpg_images/live.jpg'></td><td></td><td><img src='OldEssenceOutputs/essence-32.jpg'></td></tr></table>"
      ],
      "text/plain": [
       "<IPython.core.display.HTML object>"
      ]
     },
     "metadata": {},
     "output_type": "display_data"
    },
    {
     "name": "stdout",
     "output_type": "stream",
     "text": [
      "['Person 34', 'im a strong independent person.', 'm kind and warm hearted.', 'persoanility makes me who i am.']\n",
      "['independent', 'hearted', 'strong'] \n",
      "\n"
     ]
    },
    {
     "data": {
      "text/html": [
       "<table><tr><td><img src='docs/NounProjectOutputs/jpg_images/independent.jpg'></td><td><img src='docs/NounProjectOutputs/jpg_images/hearted.jpg'></td><td><img src='docs/NounProjectOutputs/jpg_images/strong.jpg'></td><td></td><td><img src='OldEssenceOutputs/essence-33.jpg'></td></tr></table>"
      ],
      "text/plain": [
       "<IPython.core.display.HTML object>"
      ]
     },
     "metadata": {},
     "output_type": "display_data"
    },
    {
     "name": "stdout",
     "output_type": "stream",
     "text": [
      "['Person 35', \"I'm a mom of 3 children.\", 'I am an outgoing, fun person who likes to go out and be social.', 'I am sincere, honest, and a good friend.  I am caring to others, especially my close friends!']\n",
      "['sincere', 'especially', 'close'] \n",
      "\n"
     ]
    },
    {
     "data": {
      "text/html": [
       "<table><tr><td><img src='docs/NounProjectOutputs/jpg_images/sincere.jpg'></td><td><img src='docs/NounProjectOutputs/jpg_images/especially.jpg'></td><td><img src='docs/NounProjectOutputs/jpg_images/close.jpg'></td><td></td><td><img src='OldEssenceOutputs/essence-34.jpg'></td></tr></table>"
      ],
      "text/plain": [
       "<IPython.core.display.HTML object>"
      ]
     },
     "metadata": {},
     "output_type": "display_data"
    },
    {
     "name": "stdout",
     "output_type": "stream",
     "text": [
      "['Person 36', 'Someone who is calm, peaceful and stays relaxed under pressure.', 'I am nice, kind and funny but usually quiet.', 'I am caring, and I feel the need to help others.']\n",
      "['usually', 'pressure', 'stays'] \n",
      "\n"
     ]
    },
    {
     "data": {
      "text/html": [
       "<table><tr><td><img src='docs/NounProjectOutputs/jpg_images/usually.jpg'></td><td><img src='docs/NounProjectOutputs/jpg_images/pressure.jpg'></td><td><img src='docs/NounProjectOutputs/jpg_images/stays.jpg'></td><td></td><td><img src='OldEssenceOutputs/essence-35.jpg'></td></tr></table>"
      ],
      "text/plain": [
       "<IPython.core.display.HTML object>"
      ]
     },
     "metadata": {},
     "output_type": "display_data"
    },
    {
     "name": "stdout",
     "output_type": "stream",
     "text": [
      "['Person 37', \"I'm a loving and caring mom.\", 'Fun, original, happ', 'M']\n",
      "['original', 'happ', 'fun'] \n",
      "\n"
     ]
    },
    {
     "data": {
      "text/html": [
       "<table><tr><td><img src='docs/NounProjectOutputs/jpg_images/original.jpg'></td><td><img src='docs/NounProjectOutputs/jpg_images/happ.jpg'></td><td><img src='docs/NounProjectOutputs/jpg_images/fun.jpg'></td><td></td><td><img src='OldEssenceOutputs/essence-36.jpg'></td></tr></table>"
      ],
      "text/plain": [
       "<IPython.core.display.HTML object>"
      ]
     },
     "metadata": {},
     "output_type": "display_data"
    },
    {
     "name": "stdout",
     "output_type": "stream",
     "text": [
      "['Person 38', 'I am a teacher of ESL', 'I love my husband and our dog, and want to be a mom, even though we are currently struggling with a miscarriage after 2 years of infertility treatments.', 'Right now, humor and talking to my friends in my infertility support group, as well as hanging out and taking pictures of my dog and husband.']\n",
      "['infertility', 'husband', 'even'] \n",
      "\n"
     ]
    },
    {
     "data": {
      "text/html": [
       "<table><tr><td><img src='docs/NounProjectOutputs/jpg_images/infertility.jpg'></td><td><img src='docs/NounProjectOutputs/jpg_images/husband.jpg'></td><td><img src='docs/NounProjectOutputs/jpg_images/even.jpg'></td><td></td><td><img src='OldEssenceOutputs/essence-37.jpg'></td></tr></table>"
      ],
      "text/plain": [
       "<IPython.core.display.HTML object>"
      ]
     },
     "metadata": {},
     "output_type": "display_data"
    },
    {
     "name": "stdout",
     "output_type": "stream",
     "text": [
      "['Person 39', \"I'm a cat lover who's kind of weird, but smart and funny.\", \"I'm relaxed and love animals.\", 'I have kind of a weird take on things.']\n",
      "['weird', 'kind', 'lover'] \n",
      "\n"
     ]
    },
    {
     "data": {
      "text/html": [
       "<table><tr><td><img src='docs/NounProjectOutputs/jpg_images/weird.jpg'></td><td><img src='docs/NounProjectOutputs/jpg_images/kind.jpg'></td><td><img src='docs/NounProjectOutputs/jpg_images/lover.jpg'></td><td></td><td><img src='OldEssenceOutputs/essence-38.jpg'></td></tr></table>"
      ],
      "text/plain": [
       "<IPython.core.display.HTML object>"
      ]
     },
     "metadata": {},
     "output_type": "display_data"
    },
    {
     "name": "stdout",
     "output_type": "stream",
     "text": [
      "['Person 40', 'i am a hard working smart femal', 'm funny yet clever and warm', 'love for animals and other']\n",
      "['clever', 'animals', 'female'] \n",
      "\n"
     ]
    },
    {
     "data": {
      "text/html": [
       "<table><tr><td><img src='docs/NounProjectOutputs/jpg_images/clever.jpg'></td><td><img src='docs/NounProjectOutputs/jpg_images/animals.jpg'></td><td><img src='docs/NounProjectOutputs/jpg_images/female.jpg'></td><td></td><td><img src='OldEssenceOutputs/essence-39.jpg'></td></tr></table>"
      ],
      "text/plain": [
       "<IPython.core.display.HTML object>"
      ]
     },
     "metadata": {},
     "output_type": "display_data"
    },
    {
     "name": "stdout",
     "output_type": "stream",
     "text": [
      "['Person 41', \"I'm just a nice guy trying to be loving to others and find his way in the world.\", \"I'm nerdy, intelligent, and funny.\", \"I'm nobody special, but I do value my individuality and I love artistic expression.\"]\n",
      "['find', 'expression', 'nobody'] \n",
      "\n"
     ]
    },
    {
     "data": {
      "text/html": [
       "<table><tr><td><img src='docs/NounProjectOutputs/jpg_images/find.jpg'></td><td><img src='docs/NounProjectOutputs/jpg_images/expression.jpg'></td><td><img src='docs/NounProjectOutputs/jpg_images/nobody.jpg'></td><td></td><td><img src='OldEssenceOutputs/essence-40.jpg'></td></tr></table>"
      ],
      "text/plain": [
       "<IPython.core.display.HTML object>"
      ]
     },
     "metadata": {},
     "output_type": "display_data"
    },
    {
     "name": "stdout",
     "output_type": "stream",
     "text": [
      "['Person 42', 'I am a wife, mother, and college student.', 'I am a loving, smart, fun, caring person . I love to sing, write, do crafts, art and whatever else I can do to help uplift others.', 'My personality and humor. But more importantly my big heart.']\n",
      "['uplift', 'importantly', 'else'] \n",
      "\n"
     ]
    },
    {
     "data": {
      "text/html": [
       "<table><tr><td><img src='docs/NounProjectOutputs/jpg_images/uplift.jpg'></td><td><img src='docs/NounProjectOutputs/jpg_images/importantly.jpg'></td><td><img src='docs/NounProjectOutputs/jpg_images/else.jpg'></td><td></td><td><img src='OldEssenceOutputs/essence-41.jpg'></td></tr></table>"
      ],
      "text/plain": [
       "<IPython.core.display.HTML object>"
      ]
     },
     "metadata": {},
     "output_type": "display_data"
    },
    {
     "name": "stdout",
     "output_type": "stream",
     "text": [
      "['Person 43', 'I am funny.', 'I am easy going.', 'I have a great personality.']\n",
      "['great', 'easy', 'going'] \n",
      "\n"
     ]
    },
    {
     "data": {
      "text/html": [
       "<table><tr><td><img src='docs/NounProjectOutputs/jpg_images/great.jpg'></td><td><img src='docs/NounProjectOutputs/jpg_images/easy.jpg'></td><td><img src='docs/NounProjectOutputs/jpg_images/going.jpg'></td><td></td><td><img src='OldEssenceOutputs/essence-42.jpg'></td></tr></table>"
      ],
      "text/plain": [
       "<IPython.core.display.HTML object>"
      ]
     },
     "metadata": {},
     "output_type": "display_data"
    },
    {
     "name": "stdout",
     "output_type": "stream",
     "text": [
      "['Person 44', 'nry johnson', 'stern,friendly,loving,strong of mind,family oriented,good worker,always looking forward within memories of the pas', 'loving all the members of my faily,past and pr']\n",
      "['loving', 'family', 'forward'] \n",
      "\n"
     ]
    },
    {
     "data": {
      "text/html": [
       "<table><tr><td><img src='docs/NounProjectOutputs/jpg_images/loving.jpg'></td><td><img src='docs/NounProjectOutputs/jpg_images/family.jpg'></td><td><img src='docs/NounProjectOutputs/jpg_images/forward.jpg'></td><td></td><td><img src='OldEssenceOutputs/essence-43.jpg'></td></tr></table>"
      ],
      "text/plain": [
       "<IPython.core.display.HTML object>"
      ]
     },
     "metadata": {},
     "output_type": "display_data"
    },
    {
     "name": "stdout",
     "output_type": "stream",
     "text": [
      "['Person 45', 'I am a daughter, sister, friend, and advocat', \"I advocate for those who don't have a voic\", 'I care so deeply about children involved in the system and I will do almost anything to help them!']\n",
      "['advocate', 'system', 'anything'] \n",
      "\n"
     ]
    },
    {
     "data": {
      "text/html": [
       "<table><tr><td><img src='docs/NounProjectOutputs/jpg_images/advocate.jpg'></td><td><img src='docs/NounProjectOutputs/jpg_images/system.jpg'></td><td><img src='docs/NounProjectOutputs/jpg_images/anything.jpg'></td><td></td><td><img src='OldEssenceOutputs/essence-44.jpg'></td></tr></table>"
      ],
      "text/plain": [
       "<IPython.core.display.HTML object>"
      ]
     },
     "metadata": {},
     "output_type": "display_data"
    },
    {
     "name": "stdout",
     "output_type": "stream",
     "text": [
      "['Person 46', 'I am a mom, wife, educator, sister, and daughter.', \"I'm an introverted extrovert. I love to be on stage and the center of attention, but I hate small talk.\", 'I am my own unique person who has never been known to follow a crowd.']\n",
      "['extrovert', 'attention', 'follow'] \n",
      "\n"
     ]
    },
    {
     "data": {
      "text/html": [
       "<table><tr><td><img src='docs/NounProjectOutputs/jpg_images/extrovert.jpg'></td><td><img src='docs/NounProjectOutputs/jpg_images/attention.jpg'></td><td><img src='docs/NounProjectOutputs/jpg_images/follow.jpg'></td><td></td><td><img src='OldEssenceOutputs/essence-45.jpg'></td></tr></table>"
      ],
      "text/plain": [
       "<IPython.core.display.HTML object>"
      ]
     },
     "metadata": {},
     "output_type": "display_data"
    },
    {
     "name": "stdout",
     "output_type": "stream",
     "text": [
      "['Person 47', 'I am a mother, friend, and wif', 'I am active, adventurous, and hardwarling.', 'My values and principals.']\n",
      "['values', 'hardworking', 'if'] \n",
      "\n"
     ]
    },
    {
     "data": {
      "text/html": [
       "<table><tr><td><img src='docs/NounProjectOutputs/jpg_images/values.jpg'></td><td><img src='docs/NounProjectOutputs/jpg_images/hardworking.jpg'></td><td><img src='docs/NounProjectOutputs/jpg_images/if.jpg'></td><td></td><td><img src='OldEssenceOutputs/essence-46.jpg'></td></tr></table>"
      ],
      "text/plain": [
       "<IPython.core.display.HTML object>"
      ]
     },
     "metadata": {},
     "output_type": "display_data"
    },
    {
     "name": "stdout",
     "output_type": "stream",
     "text": [
      "['Person 48', 'I am a soul that currently has the role of wife, mother, daughter, sister, and friend.', \"I'm an introspective, introverted individual who cherishes both family time and alone time.\", 'My quick wit, warm smile, and love of laughter make me who I am.']\n",
      "['time', 'laughter', 'wit'] \n",
      "\n"
     ]
    },
    {
     "data": {
      "text/html": [
       "<table><tr><td><img src='docs/NounProjectOutputs/jpg_images/time.jpg'></td><td><img src='docs/NounProjectOutputs/jpg_images/laughter.jpg'></td><td><img src='docs/NounProjectOutputs/jpg_images/wit.jpg'></td><td></td><td><img src='OldEssenceOutputs/essence-47.jpg'></td></tr></table>"
      ],
      "text/plain": [
       "<IPython.core.display.HTML object>"
      ]
     },
     "metadata": {},
     "output_type": "display_data"
    },
    {
     "name": "stdout",
     "output_type": "stream",
     "text": [
      "['Person 49', 'I am a working mom.', 'I am calm, determined, and loving.', 'The essence of what makes me is my compassion and caring.']\n",
      "['compassion', 'determined', 'calm'] \n",
      "\n"
     ]
    },
    {
     "data": {
      "text/html": [
       "<table><tr><td><img src='docs/NounProjectOutputs/jpg_images/compassion.jpg'></td><td><img src='docs/NounProjectOutputs/jpg_images/determined.jpg'></td><td><img src='docs/NounProjectOutputs/jpg_images/calm.jpg'></td><td></td><td><img src='OldEssenceOutputs/essence-48.jpg'></td></tr></table>"
      ],
      "text/plain": [
       "<IPython.core.display.HTML object>"
      ]
     },
     "metadata": {},
     "output_type": "display_data"
    },
    {
     "name": "stdout",
     "output_type": "stream",
     "text": [
      "['Person 50', 'I am a 27 year old special education teacher who lives in California.', 'I am a sociable and very goofy young guy who likes to make everyone laugh.', 'The essence of what makes me myself is that I am always generally positive and like to spread a smile to all those around me!']\n",
      "['goofy', 'generally', 'spread'] \n",
      "\n"
     ]
    },
    {
     "data": {
      "text/html": [
       "<table><tr><td><img src='docs/NounProjectOutputs/jpg_images/goofy.jpg'></td><td><img src='docs/NounProjectOutputs/jpg_images/generally.jpg'></td><td><img src='docs/NounProjectOutputs/jpg_images/spread.jpg'></td><td></td><td><img src='OldEssenceOutputs/essence-49.jpg'></td></tr></table>"
      ],
      "text/plain": [
       "<IPython.core.display.HTML object>"
      ]
     },
     "metadata": {},
     "output_type": "display_data"
    }
   ],
   "source": [
    "for i in range(50):\n",
    "    print(desc_array[i])\n",
    "    print(top3_all[i], '\\n')\n",
    "    image1 = jpg_dir + top3_all[i][0] + '.jpg'\n",
    "    image2 = jpg_dir + top3_all[i][1] + '.jpg'\n",
    "    image3 = jpg_dir + top3_all[i][2] + '.jpg'\n",
    "    output = 'docs/OldEssenceOutputs/essence-' + str(i) + '.jpg'\n",
    "    display(HTML(\"<table><tr><td><img src='\"+ image1 + \"'></td><td><img src='\" + image2 + \"'></td><td><img src='\"+ image3 + \"'></td><td></td><td><img src='\"+ output + \"'></td></tr></table>\"))"
   ]
  },
  {
   "cell_type": "markdown",
   "metadata": {},
   "source": [
    "## Essence - ngrams"
   ]
  },
  {
   "cell_type": "code",
   "execution_count": 574,
   "metadata": {},
   "outputs": [
    {
     "name": "stdout",
     "output_type": "stream",
     "text": [
      "['Person 1', 'I am a 28-year-old woman living in Massachusetts.', \"I'm neurotic and eccentric but good at heart.\", ' I am obsessed with rabbit and love technology.']\n",
      "['living massachusetts', 'eccentric good', 'rabbit'] \n",
      "\n"
     ]
    },
    {
     "data": {
      "text/html": [
       "<table><tr><td><img src='docs/NounProjectOutputs/jpg_images/massachusetts.jpg'></td><td><img src='docs/NounProjectOutputs/jpg_images/good.jpg'></td><td><img src='docs/NounProjectOutputs/jpg_images/rabbit.jpg'></td><td></td><td><img src='docs/EssenceOutputs-ngrams/essence-0.jpg'></td></tr></table>"
      ],
      "text/plain": [
       "<IPython.core.display.HTML object>"
      ]
     },
     "metadata": {},
     "output_type": "display_data"
    },
    {
     "name": "stdout",
     "output_type": "stream",
     "text": [
      "['Person 2', 'I am dedicated and persistent and willing to go the extra mile', \"i'm fun loving and like to make people laugh by telling jokes and making light of situations\", ' I am insightful and am able to fit together pieces to understand the big picture']\n",
      "['willing', 'people', 'picture'] \n",
      "\n"
     ]
    },
    {
     "data": {
      "text/html": [
       "<table><tr><td><img src='docs/NounProjectOutputs/jpg_images/willing.jpg'></td><td><img src='docs/NounProjectOutputs/jpg_images/people.jpg'></td><td><img src='docs/NounProjectOutputs/jpg_images/picture.jpg'></td><td></td><td><img src='docs/EssenceOutputs-ngrams/essence-1.jpg'></td></tr></table>"
      ],
      "text/plain": [
       "<IPython.core.display.HTML object>"
      ]
     },
     "metadata": {},
     "output_type": "display_data"
    },
    {
     "name": "stdout",
     "output_type": "stream",
     "text": [
      "['Person 3', 'I am a feminist, a student, and a homosexual.', 'I am kind, nurturing, caring, and genuine.', ' My honesty, my loyalty, and my generosity make me me.']\n",
      "['feminist', 'genuine', 'loyalty generosity'] \n",
      "\n"
     ]
    },
    {
     "data": {
      "text/html": [
       "<table><tr><td><img src='docs/NounProjectOutputs/jpg_images/feminist.jpg'></td><td><img src='docs/NounProjectOutputs/jpg_images/genuine.jpg'></td><td><img src='docs/NounProjectOutputs/jpg_images/generosity.jpg'></td><td></td><td><img src='docs/EssenceOutputs-ngrams/essence-2.jpg'></td></tr></table>"
      ],
      "text/plain": [
       "<IPython.core.display.HTML object>"
      ]
     },
     "metadata": {},
     "output_type": "display_data"
    },
    {
     "name": "stdout",
     "output_type": "stream",
     "text": [
      "['Person 4', \"I'm an immigrant who became a citizen of the United States. I'm an American.\", \"I can be stubborn and stand-offish, but I still care very much about my friends and family. I'm a nerd about movies/tvshows/books. I love video games and prefer to stay home.\", \" I'm introverted, so I need time alone to recharge and recalibrate.\"]\n",
      "['immigrant became', 'prefer', 'alone'] \n",
      "\n"
     ]
    },
    {
     "data": {
      "text/html": [
       "<table><tr><td><img src='docs/NounProjectOutputs/jpg_images/became.jpg'></td><td><img src='docs/NounProjectOutputs/jpg_images/prefer.jpg'></td><td><img src='docs/NounProjectOutputs/jpg_images/alone.jpg'></td><td></td><td><img src='docs/EssenceOutputs-ngrams/essence-3.jpg'></td></tr></table>"
      ],
      "text/plain": [
       "<IPython.core.display.HTML object>"
      ]
     },
     "metadata": {},
     "output_type": "display_data"
    },
    {
     "name": "stdout",
     "output_type": "stream",
     "text": [
      "['Person 5', \"I'm a boring person\", \"I'm quiet and introspective.\", ' I have deep wells of sorrow.']\n",
      "['boring', 'quiet introspective', 'wells sorrow'] \n",
      "\n"
     ]
    },
    {
     "data": {
      "text/html": [
       "<table><tr><td><img src='docs/NounProjectOutputs/jpg_images/boring.jpg'></td><td><img src='docs/NounProjectOutputs/jpg_images/introspective.jpg'></td><td><img src='docs/NounProjectOutputs/jpg_images/sorrow.jpg'></td><td></td><td><img src='docs/EssenceOutputs-ngrams/essence-4.jpg'></td></tr></table>"
      ],
      "text/plain": [
       "<IPython.core.display.HTML object>"
      ]
     },
     "metadata": {},
     "output_type": "display_data"
    },
    {
     "name": "stdout",
     "output_type": "stream",
     "text": [
      "['Person 6', 'I am a girl who lives in New York City in my twenties who is incredibly close with my family.', 'I am very social and outgoing.', ' I am outgoing and care tremendously about my friends.']\n",
      "['city twenties', 'social outgoing', 'tremendously friends'] \n",
      "\n"
     ]
    },
    {
     "data": {
      "text/html": [
       "<table><tr><td><img src='docs/NounProjectOutputs/jpg_images/twenties.jpg'></td><td><img src='docs/NounProjectOutputs/jpg_images/outgoing.jpg'></td><td><img src='docs/NounProjectOutputs/jpg_images/friends.jpg'></td><td></td><td><img src='docs/EssenceOutputs-ngrams/essence-5.jpg'></td></tr></table>"
      ],
      "text/plain": [
       "<IPython.core.display.HTML object>"
      ]
     },
     "metadata": {},
     "output_type": "display_data"
    },
    {
     "name": "stdout",
     "output_type": "stream",
     "text": [
      "['Person 7', 'I am a mom of 3', 'I like R &B Music, Japanese Food, Pizza', ' I am sympathetic.']\n",
      "['mom', 'music', 'sympathetic'] \n",
      "\n"
     ]
    },
    {
     "data": {
      "text/html": [
       "<table><tr><td><img src='docs/NounProjectOutputs/jpg_images/mom.jpg'></td><td><img src='docs/NounProjectOutputs/jpg_images/music.jpg'></td><td><img src='docs/NounProjectOutputs/jpg_images/sympathetic.jpg'></td><td></td><td><img src='docs/EssenceOutputs-ngrams/essence-6.jpg'></td></tr></table>"
      ],
      "text/plain": [
       "<IPython.core.display.HTML object>"
      ]
     },
     "metadata": {},
     "output_type": "display_data"
    },
    {
     "name": "stdout",
     "output_type": "stream",
     "text": [
      "['Person 8', 'I am a licensed counselor.', \"I'm silly and funny.\", \" I'm fun and sarcastic a lot of the time.\"]\n",
      "['licensed counselor', 'silly funny', 'sarcastic lot'] \n",
      "\n"
     ]
    },
    {
     "data": {
      "text/html": [
       "<table><tr><td><img src='docs/NounProjectOutputs/jpg_images/counselor.jpg'></td><td><img src='docs/NounProjectOutputs/jpg_images/funny.jpg'></td><td><img src='docs/NounProjectOutputs/jpg_images/lot.jpg'></td><td></td><td><img src='docs/EssenceOutputs-ngrams/essence-7.jpg'></td></tr></table>"
      ],
      "text/plain": [
       "<IPython.core.display.HTML object>"
      ]
     },
     "metadata": {},
     "output_type": "display_data"
    },
    {
     "name": "stdout",
     "output_type": "stream",
     "text": [
      "['Person 9', \"I'm Jim, a 53 year old american man\", \"I'm forceful, happy, calm and occasionally grumpy with a touch of sarcasm.\", \" I'm a drivan dominant at work and play. My wife is essential to my life. I'd be lost without her grounding me.\"]\n",
      "['old american', 'occasionally grumpy', 'play'] \n",
      "\n"
     ]
    },
    {
     "data": {
      "text/html": [
       "<table><tr><td><img src='docs/NounProjectOutputs/jpg_images/american.jpg'></td><td><img src='docs/NounProjectOutputs/jpg_images/grumpy.jpg'></td><td><img src='docs/NounProjectOutputs/jpg_images/play.jpg'></td><td></td><td><img src='docs/EssenceOutputs-ngrams/essence-8.jpg'></td></tr></table>"
      ],
      "text/plain": [
       "<IPython.core.display.HTML object>"
      ]
     },
     "metadata": {},
     "output_type": "display_data"
    },
    {
     "name": "stdout",
     "output_type": "stream",
     "text": [
      "['Person 10', \"I'm a fat, biracial bisexual woman.\", \"I'm a funny depressive--aren't all depressives a riot?\", \" I'm a boring drudge, not glamorous or fancy, but fairly dependable.\"]\n",
      "['fat biracial', 'riot', 'drudge glamorous'] \n",
      "\n"
     ]
    },
    {
     "data": {
      "text/html": [
       "<table><tr><td><img src='docs/NounProjectOutputs/jpg_images/biracial.jpg'></td><td><img src='docs/NounProjectOutputs/jpg_images/riot.jpg'></td><td><img src='docs/NounProjectOutputs/jpg_images/glamorous.jpg'></td><td></td><td><img src='docs/EssenceOutputs-ngrams/essence-9.jpg'></td></tr></table>"
      ],
      "text/plain": [
       "<IPython.core.display.HTML object>"
      ]
     },
     "metadata": {},
     "output_type": "display_data"
    },
    {
     "name": "stdout",
     "output_type": "stream",
     "text": [
      "['Person 11', 'I am an adventurous geeky skydiver', 'I am fun-loving and love life.', ' I am intelligent and caring.']\n",
      "['skydiver', 'love life', 'intelligent'] \n",
      "\n"
     ]
    },
    {
     "data": {
      "text/html": [
       "<table><tr><td><img src='docs/NounProjectOutputs/jpg_images/skydiver.jpg'></td><td><img src='docs/NounProjectOutputs/jpg_images/life.jpg'></td><td><img src='docs/NounProjectOutputs/jpg_images/intelligent.jpg'></td><td></td><td><img src='docs/EssenceOutputs-ngrams/essence-10.jpg'></td></tr></table>"
      ],
      "text/plain": [
       "<IPython.core.display.HTML object>"
      ]
     },
     "metadata": {},
     "output_type": "display_data"
    },
    {
     "name": "stdout",
     "output_type": "stream",
     "text": [
      "['Person 12', \"I am a person who believes that honesty and integrity is very important in today's society and world.\", 'I am a person who is warm and sensitive to the feelings of others.', ' I see myself as one who you can count when the chips are down.']\n",
      "['society', 'warm sensitive', 'count'] \n",
      "\n"
     ]
    },
    {
     "data": {
      "text/html": [
       "<table><tr><td><img src='docs/NounProjectOutputs/jpg_images/society.jpg'></td><td><img src='docs/NounProjectOutputs/jpg_images/sensitive.jpg'></td><td><img src='docs/NounProjectOutputs/jpg_images/count.jpg'></td><td></td><td><img src='docs/EssenceOutputs-ngrams/essence-11.jpg'></td></tr></table>"
      ],
      "text/plain": [
       "<IPython.core.display.HTML object>"
      ]
     },
     "metadata": {},
     "output_type": "display_data"
    },
    {
     "name": "stdout",
     "output_type": "stream",
     "text": [
      "['Person 13', \"I am shy from those whom I don't know yet energetic and caring to those whom I do know.\", 'I am a very happy and appreciate all life equally.', ' God is an important part of who I am. He allows me to me loving to all creatures no matter how small.']\n",
      "['know', 'life equally', 'creatures matter'] \n",
      "\n"
     ]
    },
    {
     "data": {
      "text/html": [
       "<table><tr><td><img src='docs/NounProjectOutputs/jpg_images/know.jpg'></td><td><img src='docs/NounProjectOutputs/jpg_images/equally.jpg'></td><td><img src='docs/NounProjectOutputs/jpg_images/matter.jpg'></td><td></td><td><img src='docs/EssenceOutputs-ngrams/essence-12.jpg'></td></tr></table>"
      ],
      "text/plain": [
       "<IPython.core.display.HTML object>"
      ]
     },
     "metadata": {},
     "output_type": "display_data"
    },
    {
     "name": "stdout",
     "output_type": "stream",
     "text": [
      "['Person 14', 'I am a human', 'I am curious and interested in urbanity', ' My passion for cities and culture']\n",
      "['human', 'urbanity', 'passion cities'] \n",
      "\n"
     ]
    },
    {
     "data": {
      "text/html": [
       "<table><tr><td><img src='docs/NounProjectOutputs/jpg_images/human.jpg'></td><td><img src='docs/NounProjectOutputs/jpg_images/urbanity.jpg'></td><td><img src='docs/NounProjectOutputs/jpg_images/cities.jpg'></td><td></td><td><img src='docs/EssenceOutputs-ngrams/essence-13.jpg'></td></tr></table>"
      ],
      "text/plain": [
       "<IPython.core.display.HTML object>"
      ]
     },
     "metadata": {},
     "output_type": "display_data"
    },
    {
     "name": "stdout",
     "output_type": "stream",
     "text": [
      "['Person 15', 'I am a musician', 'i am very laidback, easy going and unbrainwashed.', ' Making music makes me tick.']\n",
      "['musician', 'unbrainwashed', 'tick'] \n",
      "\n"
     ]
    },
    {
     "data": {
      "text/html": [
       "<table><tr><td><img src='docs/NounProjectOutputs/jpg_images/musician.jpg'></td><td><img src='docs/NounProjectOutputs/jpg_images/unbrainwashed.jpg'></td><td><img src='docs/NounProjectOutputs/jpg_images/tick.jpg'></td><td></td><td><img src='docs/EssenceOutputs-ngrams/essence-14.jpg'></td></tr></table>"
      ],
      "text/plain": [
       "<IPython.core.display.HTML object>"
      ]
     },
     "metadata": {},
     "output_type": "display_data"
    },
    {
     "name": "stdout",
     "output_type": "stream",
     "text": [
      "['Person 16', 'I am a middle aged woman.', 'I am easy-going, caring, and nurturing.', \" My essence is that I care a great deal about others to the point that I don't take care of myself.\"]\n",
      "['middle', 'caring nurturing', 'others point'] \n",
      "\n"
     ]
    },
    {
     "data": {
      "text/html": [
       "<table><tr><td><img src='docs/NounProjectOutputs/jpg_images/middle.jpg'></td><td><img src='docs/NounProjectOutputs/jpg_images/nurturing.jpg'></td><td><img src='docs/NounProjectOutputs/jpg_images/point.jpg'></td><td></td><td><img src='docs/EssenceOutputs-ngrams/essence-15.jpg'></td></tr></table>"
      ],
      "text/plain": [
       "<IPython.core.display.HTML object>"
      ]
     },
     "metadata": {},
     "output_type": "display_data"
    },
    {
     "name": "stdout",
     "output_type": "stream",
     "text": [
      "['Person 17', 'A male human being with a kind and loving personality.', 'Video Games and food', ' Humble, Kind, Loving']\n",
      "['human kind', 'games food', 'humble'] \n",
      "\n"
     ]
    },
    {
     "data": {
      "text/html": [
       "<table><tr><td><img src='docs/NounProjectOutputs/jpg_images/kind.jpg'></td><td><img src='docs/NounProjectOutputs/jpg_images/food.jpg'></td><td><img src='docs/NounProjectOutputs/jpg_images/humble.jpg'></td><td></td><td><img src='docs/EssenceOutputs-ngrams/essence-16.jpg'></td></tr></table>"
      ],
      "text/plain": [
       "<IPython.core.display.HTML object>"
      ]
     },
     "metadata": {},
     "output_type": "display_data"
    },
    {
     "name": "stdout",
     "output_type": "stream",
     "text": [
      "['Person 18', 'I am a mother, wife, and friend', 'I am like the shoulder you can cry on, or a listening ear.', ' My family makes me me!']\n",
      "['wife friend', 'cry', 'family makes'] \n",
      "\n"
     ]
    },
    {
     "data": {
      "text/html": [
       "<table><tr><td><img src='docs/NounProjectOutputs/jpg_images/friend.jpg'></td><td><img src='docs/NounProjectOutputs/jpg_images/cry.jpg'></td><td><img src='docs/NounProjectOutputs/jpg_images/makes.jpg'></td><td></td><td><img src='docs/EssenceOutputs-ngrams/essence-17.jpg'></td></tr></table>"
      ],
      "text/plain": [
       "<IPython.core.display.HTML object>"
      ]
     },
     "metadata": {},
     "output_type": "display_data"
    },
    {
     "name": "stdout",
     "output_type": "stream",
     "text": [
      "['Person 19', 'I am an \"older\" adult who is finally understanding what is important and not important in this life.', 'I am an outgoing, sensitive, fun, creative and active person.', \" Family is the essence of what makes me me. Without them, I'd be at a total loss.\"]\n",
      "['important', 'sensitive fun', 'family essence'] \n",
      "\n"
     ]
    },
    {
     "data": {
      "text/html": [
       "<table><tr><td><img src='docs/NounProjectOutputs/jpg_images/important.jpg'></td><td><img src='docs/NounProjectOutputs/jpg_images/fun.jpg'></td><td><img src='docs/NounProjectOutputs/jpg_images/essence.jpg'></td><td></td><td><img src='docs/EssenceOutputs-ngrams/essence-18.jpg'></td></tr></table>"
      ],
      "text/plain": [
       "<IPython.core.display.HTML object>"
      ]
     },
     "metadata": {},
     "output_type": "display_data"
    },
    {
     "name": "stdout",
     "output_type": "stream",
     "text": [
      "['Person 20', \"I'm a 30 year old married man with a 2 year old daughter.\", \"I'm hard working, determined, goal oriented, relaxed and down to earth.\", ' My ability to get along well with almost anyone is what makes me Me.']\n",
      "['year old', 'hard working', 'ability'] \n",
      "\n"
     ]
    },
    {
     "data": {
      "text/html": [
       "<table><tr><td><img src='docs/NounProjectOutputs/jpg_images/old.jpg'></td><td><img src='docs/NounProjectOutputs/jpg_images/working.jpg'></td><td><img src='docs/NounProjectOutputs/jpg_images/ability.jpg'></td><td></td><td><img src='docs/EssenceOutputs-ngrams/essence-19.jpg'></td></tr></table>"
      ],
      "text/plain": [
       "<IPython.core.display.HTML object>"
      ]
     },
     "metadata": {},
     "output_type": "display_data"
    },
    {
     "name": "stdout",
     "output_type": "stream",
     "text": [
      "['Person 21', 'I am an untraditional college student who is employed full time.', \"I am an agreeable person who doesn't like to be bothered with others.\", ' I am an introvert who is happy to pass the time by myself.']\n",
      "['student employed', 'bothered others', 'pass time'] \n",
      "\n"
     ]
    },
    {
     "data": {
      "text/html": [
       "<table><tr><td><img src='docs/NounProjectOutputs/jpg_images/employed.jpg'></td><td><img src='docs/NounProjectOutputs/jpg_images/others.jpg'></td><td><img src='docs/NounProjectOutputs/jpg_images/time.jpg'></td><td></td><td><img src='docs/EssenceOutputs-ngrams/essence-20.jpg'></td></tr></table>"
      ],
      "text/plain": [
       "<IPython.core.display.HTML object>"
      ]
     },
     "metadata": {},
     "output_type": "display_data"
    },
    {
     "name": "stdout",
     "output_type": "stream",
     "text": [
      "['Person 22', 'A courteous female', 'Friendly and full of energy.', ' Family is making me to smile and be happy.']\n",
      "['courteous', 'friendly full', 'smile happy'] \n",
      "\n"
     ]
    },
    {
     "data": {
      "text/html": [
       "<table><tr><td><img src='docs/NounProjectOutputs/jpg_images/courteous.jpg'></td><td><img src='docs/NounProjectOutputs/jpg_images/full.jpg'></td><td><img src='docs/NounProjectOutputs/jpg_images/happy.jpg'></td><td></td><td><img src='docs/EssenceOutputs-ngrams/essence-21.jpg'></td></tr></table>"
      ],
      "text/plain": [
       "<IPython.core.display.HTML object>"
      ]
     },
     "metadata": {},
     "output_type": "display_data"
    },
    {
     "name": "stdout",
     "output_type": "stream",
     "text": [
      "['Person 23', 'A 52 year old married woman', 'Fun, outgoing, and social.', ' I am always willing to lend a hand or give a listening ear.']\n",
      "['married woman', 'outgoing social', 'always willing'] \n",
      "\n"
     ]
    },
    {
     "data": {
      "text/html": [
       "<table><tr><td><img src='docs/NounProjectOutputs/jpg_images/woman.jpg'></td><td><img src='docs/NounProjectOutputs/jpg_images/social.jpg'></td><td><img src='docs/NounProjectOutputs/jpg_images/willing.jpg'></td><td></td><td><img src='docs/EssenceOutputs-ngrams/essence-22.jpg'></td></tr></table>"
      ],
      "text/plain": [
       "<IPython.core.display.HTML object>"
      ]
     },
     "metadata": {},
     "output_type": "display_data"
    },
    {
     "name": "stdout",
     "output_type": "stream",
     "text": [
      "['Person 24', 'I am a 25 year old American woman', 'I am introverted but also very nice and like to learn a lot', ' I try to make other people around me happy and try to make the world a better place to live in']\n",
      "['american woman', 'learn lot', 'try make'] \n",
      "\n"
     ]
    },
    {
     "data": {
      "text/html": [
       "<table><tr><td><img src='docs/NounProjectOutputs/jpg_images/woman.jpg'></td><td><img src='docs/NounProjectOutputs/jpg_images/lot.jpg'></td><td><img src='docs/NounProjectOutputs/jpg_images/make.jpg'></td><td></td><td><img src='docs/EssenceOutputs-ngrams/essence-23.jpg'></td></tr></table>"
      ],
      "text/plain": [
       "<IPython.core.display.HTML object>"
      ]
     },
     "metadata": {},
     "output_type": "display_data"
    },
    {
     "name": "stdout",
     "output_type": "stream",
     "text": [
      "['Person 25', 'I am a mom and a wife.', 'I am pretty boring and quiet.', ' My love for my husband.']\n",
      "['mom wife', 'boring quiet', 'love husband'] \n",
      "\n"
     ]
    },
    {
     "data": {
      "text/html": [
       "<table><tr><td><img src='docs/NounProjectOutputs/jpg_images/wife.jpg'></td><td><img src='docs/NounProjectOutputs/jpg_images/quiet.jpg'></td><td><img src='docs/NounProjectOutputs/jpg_images/husband.jpg'></td><td></td><td><img src='docs/EssenceOutputs-ngrams/essence-24.jpg'></td></tr></table>"
      ],
      "text/plain": [
       "<IPython.core.display.HTML object>"
      ]
     },
     "metadata": {},
     "output_type": "display_data"
    },
    {
     "name": "stdout",
     "output_type": "stream",
     "text": [
      "['Person 26', 'a 28 year old male', 'intellegent and shy', ' i like to think about everything']\n",
      "['old male', 'shy', 'think everything'] \n",
      "\n"
     ]
    },
    {
     "data": {
      "text/html": [
       "<table><tr><td><img src='docs/NounProjectOutputs/jpg_images/male.jpg'></td><td><img src='docs/NounProjectOutputs/jpg_images/shy.jpg'></td><td><img src='docs/NounProjectOutputs/jpg_images/everything.jpg'></td><td></td><td><img src='docs/EssenceOutputs-ngrams/essence-25.jpg'></td></tr></table>"
      ],
      "text/plain": [
       "<IPython.core.display.HTML object>"
      ]
     },
     "metadata": {},
     "output_type": "display_data"
    },
    {
     "name": "stdout",
     "output_type": "stream",
     "text": [
      "['Person 27', 'an inquisitive person', 'friendly and approachable', ' a desire to always learn new things']\n",
      "['inquisitive person', 'friendly approachable', 'new'] \n",
      "\n"
     ]
    },
    {
     "data": {
      "text/html": [
       "<table><tr><td><img src='docs/NounProjectOutputs/jpg_images/person.jpg'></td><td><img src='docs/NounProjectOutputs/jpg_images/approachable.jpg'></td><td><img src='docs/NounProjectOutputs/jpg_images/new.jpg'></td><td></td><td><img src='docs/EssenceOutputs-ngrams/essence-26.jpg'></td></tr></table>"
      ],
      "text/plain": [
       "<IPython.core.display.HTML object>"
      ]
     },
     "metadata": {},
     "output_type": "display_data"
    },
    {
     "name": "stdout",
     "output_type": "stream",
     "text": [
      "['Person 28', 'I am donald, I am a 25 year old married man, working full time as a social media manager.', 'I am a friendly person, I like the outdoors, and going on adventures with my friends and family.', ' I am warm hearted individual, I am very kind, I love everyone and try never to judge anyone, I put others before myself.']\n",
      "['social media', 'friendly person', 'everyone'] \n",
      "\n"
     ]
    },
    {
     "data": {
      "text/html": [
       "<table><tr><td><img src='docs/NounProjectOutputs/jpg_images/media.jpg'></td><td><img src='docs/NounProjectOutputs/jpg_images/person.jpg'></td><td><img src='docs/NounProjectOutputs/jpg_images/everyone.jpg'></td><td></td><td><img src='docs/EssenceOutputs-ngrams/essence-27.jpg'></td></tr></table>"
      ],
      "text/plain": [
       "<IPython.core.display.HTML object>"
      ]
     },
     "metadata": {},
     "output_type": "display_data"
    },
    {
     "name": "stdout",
     "output_type": "stream",
     "text": [
      "['Person 29', \"I'm an average guy. A father, husband, brother, employee and friend. I am much like any other guy.\", \"I'm pretty down to earth. I like to laugh and play video games but I can be serious when I need to be serious.\", ' I think what makes me me is that I am very open-minded as a person. I believe in forming my own opinions rather than just taking things at face value. I like to learn and experience things rather than be told how things are.']\n",
      "['guy', 'serious', 'things'] \n",
      "\n"
     ]
    },
    {
     "data": {
      "text/html": [
       "<table><tr><td><img src='docs/NounProjectOutputs/jpg_images/guy.jpg'></td><td><img src='docs/NounProjectOutputs/jpg_images/serious.jpg'></td><td><img src='docs/NounProjectOutputs/jpg_images/things.jpg'></td><td></td><td><img src='docs/EssenceOutputs-ngrams/essence-28.jpg'></td></tr></table>"
      ],
      "text/plain": [
       "<IPython.core.display.HTML object>"
      ]
     },
     "metadata": {},
     "output_type": "display_data"
    },
    {
     "name": "stdout",
     "output_type": "stream",
     "text": [
      "['Person 30', \"I'm a man who loves his wife very much.\", \"I'm loyal, devoted and always trying to do best in order to support our family.\", ' Faith and strong will to pursue my hopes and dreams makes me to push through the day.']\n",
      "['loves', 'always trying', 'pursue'] \n",
      "\n"
     ]
    },
    {
     "data": {
      "text/html": [
       "<table><tr><td><img src='docs/NounProjectOutputs/jpg_images/loves.jpg'></td><td><img src='docs/NounProjectOutputs/jpg_images/trying.jpg'></td><td><img src='docs/NounProjectOutputs/jpg_images/pursue.jpg'></td><td></td><td><img src='docs/EssenceOutputs-ngrams/essence-29.jpg'></td></tr></table>"
      ],
      "text/plain": [
       "<IPython.core.display.HTML object>"
      ]
     },
     "metadata": {},
     "output_type": "display_data"
    },
    {
     "name": "stdout",
     "output_type": "stream",
     "text": [
      "['Person 31', 'I am a 43 old mother of two young boys under 7. I am am only child. I will be married for 9years in june.', 'I am an honest person. I am very disorganized and tend to be a half full person. I am loyal.', ' I have been created by God and uniquely created . My life experiences have made me me.']\n",
      "['young boys', 'person', 'created'] \n",
      "\n"
     ]
    },
    {
     "data": {
      "text/html": [
       "<table><tr><td><img src='docs/NounProjectOutputs/jpg_images/boys.jpg'></td><td><img src='docs/NounProjectOutputs/jpg_images/person.jpg'></td><td><img src='docs/NounProjectOutputs/jpg_images/created.jpg'></td><td></td><td><img src='docs/EssenceOutputs-ngrams/essence-30.jpg'></td></tr></table>"
      ],
      "text/plain": [
       "<IPython.core.display.HTML object>"
      ]
     },
     "metadata": {},
     "output_type": "display_data"
    },
    {
     "name": "stdout",
     "output_type": "stream",
     "text": [
      "['Person 32', 'I am a woman, a wife, a mother of 4.', 'I am introverted, quiet, compassionate, impractical, prone to depression.', ' I love to write.']\n",
      "['woman wife', 'compassionate', 'write'] \n",
      "\n"
     ]
    },
    {
     "data": {
      "text/html": [
       "<table><tr><td><img src='docs/NounProjectOutputs/jpg_images/wife.jpg'></td><td><img src='docs/NounProjectOutputs/jpg_images/compassionate.jpg'></td><td><img src='docs/NounProjectOutputs/jpg_images/write.jpg'></td><td></td><td><img src='docs/EssenceOutputs-ngrams/essence-31.jpg'></td></tr></table>"
      ],
      "text/plain": [
       "<IPython.core.display.HTML object>"
      ]
     },
     "metadata": {},
     "output_type": "display_data"
    },
    {
     "name": "stdout",
     "output_type": "stream",
     "text": [
      "['Person 33', \"I'm a wife and mother of 5 children.\", 'I am introverted, honest and generous.', ' My Catholic faith is a big part of who I am and how I live my life.']\n",
      "['mother children', 'honest generous', 'catholic faith'] \n",
      "\n"
     ]
    },
    {
     "data": {
      "text/html": [
       "<table><tr><td><img src='docs/NounProjectOutputs/jpg_images/children.jpg'></td><td><img src='docs/NounProjectOutputs/jpg_images/generous.jpg'></td><td><img src='docs/NounProjectOutputs/jpg_images/faith.jpg'></td><td></td><td><img src='docs/EssenceOutputs-ngrams/essence-32.jpg'></td></tr></table>"
      ],
      "text/plain": [
       "<IPython.core.display.HTML object>"
      ]
     },
     "metadata": {},
     "output_type": "display_data"
    },
    {
     "name": "stdout",
     "output_type": "stream",
     "text": [
      "['Person 34', 'im a strong independent person.', 'im kind and warm hearted.', ' my persoanility makes me who i am.']\n",
      "['strong independent', 'kind warm', 'personality makes'] \n",
      "\n"
     ]
    },
    {
     "data": {
      "text/html": [
       "<table><tr><td><img src='docs/NounProjectOutputs/jpg_images/independent.jpg'></td><td><img src='docs/NounProjectOutputs/jpg_images/warm.jpg'></td><td><img src='docs/NounProjectOutputs/jpg_images/makes.jpg'></td><td></td><td><img src='docs/EssenceOutputs-ngrams/essence-33.jpg'></td></tr></table>"
      ],
      "text/plain": [
       "<IPython.core.display.HTML object>"
      ]
     },
     "metadata": {},
     "output_type": "display_data"
    },
    {
     "name": "stdout",
     "output_type": "stream",
     "text": [
      "['Person 35', \"I'm a mom of 3 children.\", 'I am an outgoing, fun person who likes to go out and be social.', ' I am sincere, honest, and a good friend.  I am caring to others, especially my close friends!']\n",
      "['mom children', 'likes go', 'especially'] \n",
      "\n"
     ]
    },
    {
     "data": {
      "text/html": [
       "<table><tr><td><img src='docs/NounProjectOutputs/jpg_images/children.jpg'></td><td><img src='docs/NounProjectOutputs/jpg_images/go.jpg'></td><td><img src='docs/NounProjectOutputs/jpg_images/especially.jpg'></td><td></td><td><img src='docs/EssenceOutputs-ngrams/essence-34.jpg'></td></tr></table>"
      ],
      "text/plain": [
       "<IPython.core.display.HTML object>"
      ]
     },
     "metadata": {},
     "output_type": "display_data"
    },
    {
     "name": "stdout",
     "output_type": "stream",
     "text": [
      "['Person 36', 'Someone who is calm, peaceful and stays relaxed under pressure.', 'I am nice, kind and funny but usually quiet.', ' I am caring, and I feel the need to help others.']\n",
      "['pressure', 'nice kind', 'help others'] \n",
      "\n"
     ]
    },
    {
     "data": {
      "text/html": [
       "<table><tr><td><img src='docs/NounProjectOutputs/jpg_images/pressure.jpg'></td><td><img src='docs/NounProjectOutputs/jpg_images/kind.jpg'></td><td><img src='docs/NounProjectOutputs/jpg_images/others.jpg'></td><td></td><td><img src='docs/EssenceOutputs-ngrams/essence-35.jpg'></td></tr></table>"
      ],
      "text/plain": [
       "<IPython.core.display.HTML object>"
      ]
     },
     "metadata": {},
     "output_type": "display_data"
    },
    {
     "name": "stdout",
     "output_type": "stream",
     "text": [
      "['Person 37', \"I'm a loving and caring mom.\", 'Fun, original, happy', ' Me']\n",
      "['caring mom', 'fun original', 'ability'] \n",
      "\n"
     ]
    },
    {
     "data": {
      "text/html": [
       "<table><tr><td><img src='docs/NounProjectOutputs/jpg_images/mom.jpg'></td><td><img src='docs/NounProjectOutputs/jpg_images/original.jpg'></td><td><img src='docs/NounProjectOutputs/jpg_images/ability.jpg'></td><td></td><td><img src='docs/EssenceOutputs-ngrams/essence-36.jpg'></td></tr></table>"
      ],
      "text/plain": [
       "<IPython.core.display.HTML object>"
      ]
     },
     "metadata": {},
     "output_type": "display_data"
    },
    {
     "name": "stdout",
     "output_type": "stream",
     "text": [
      "['Person 38', 'I am a teacher of ESL', 'I love my husband and our dog, and want to be a mom, even though we are currently struggling with a miscarriage after 2 years of infertility treatments.', ' Right now, humor and talking to my friends in my infertility support group, as well as hanging out and taking pictures of my dog and husband.']\n",
      "['es', 'infertility', 'talking friends'] \n",
      "\n"
     ]
    },
    {
     "data": {
      "text/html": [
       "<table><tr><td><img src='docs/NounProjectOutputs/jpg_images/es.jpg'></td><td><img src='docs/NounProjectOutputs/jpg_images/infertility.jpg'></td><td><img src='docs/NounProjectOutputs/jpg_images/friends.jpg'></td><td></td><td><img src='docs/EssenceOutputs-ngrams/essence-37.jpg'></td></tr></table>"
      ],
      "text/plain": [
       "<IPython.core.display.HTML object>"
      ]
     },
     "metadata": {},
     "output_type": "display_data"
    },
    {
     "name": "stdout",
     "output_type": "stream",
     "text": [
      "['Person 39', \"I'm a cat lover who's kind of weird, but smart and funny.\", \"I'm relaxed and love animals.\", ' I have kind of a weird take on things.']\n",
      "['lover', 'relaxed love', 'weird'] \n",
      "\n"
     ]
    },
    {
     "data": {
      "text/html": [
       "<table><tr><td><img src='docs/NounProjectOutputs/jpg_images/lover.jpg'></td><td><img src='docs/NounProjectOutputs/jpg_images/love.jpg'></td><td><img src='docs/NounProjectOutputs/jpg_images/weird.jpg'></td><td></td><td><img src='docs/EssenceOutputs-ngrams/essence-38.jpg'></td></tr></table>"
      ],
      "text/plain": [
       "<IPython.core.display.HTML object>"
      ]
     },
     "metadata": {},
     "output_type": "display_data"
    },
    {
     "name": "stdout",
     "output_type": "stream",
     "text": [
      "['Person 40', 'i am a hard working smart female', 'im funny yet clever and warm', ' love for animals and others makes me who i am']\n",
      "['working smart', 'yet clever', 'love animals'] \n",
      "\n"
     ]
    },
    {
     "data": {
      "text/html": [
       "<table><tr><td><img src='docs/NounProjectOutputs/jpg_images/smart.jpg'></td><td><img src='docs/NounProjectOutputs/jpg_images/clever.jpg'></td><td><img src='docs/NounProjectOutputs/jpg_images/animals.jpg'></td><td></td><td><img src='docs/EssenceOutputs-ngrams/essence-39.jpg'></td></tr></table>"
      ],
      "text/plain": [
       "<IPython.core.display.HTML object>"
      ]
     },
     "metadata": {},
     "output_type": "display_data"
    },
    {
     "name": "stdout",
     "output_type": "stream",
     "text": [
      "['Person 41', \"I'm just a nice guy trying to be loving to others and find his way in the world.\", \"I'm nerdy, intelligent, and funny.\", \" I'm nobody special, but I do value my individuality and I love artistic expression.\"]\n",
      "['trying', 'nerdy', 'love artistic'] \n",
      "\n"
     ]
    },
    {
     "data": {
      "text/html": [
       "<table><tr><td><img src='docs/NounProjectOutputs/jpg_images/trying.jpg'></td><td><img src='docs/NounProjectOutputs/jpg_images/nerdy.jpg'></td><td><img src='docs/NounProjectOutputs/jpg_images/artistic.jpg'></td><td></td><td><img src='docs/EssenceOutputs-ngrams/essence-40.jpg'></td></tr></table>"
      ],
      "text/plain": [
       "<IPython.core.display.HTML object>"
      ]
     },
     "metadata": {},
     "output_type": "display_data"
    },
    {
     "name": "stdout",
     "output_type": "stream",
     "text": [
      "['Person 42', 'I am a wife, mother, and college student.', 'I am a loving, smart, fun, caring person . I love to sing, write, do crafts, art and whatever else I can do to help uplift others.', ' My personality and humor. But more importantly my big heart.']\n",
      "['mother college', 'art', 'personality humor'] \n",
      "\n"
     ]
    },
    {
     "data": {
      "text/html": [
       "<table><tr><td><img src='docs/NounProjectOutputs/jpg_images/college.jpg'></td><td><img src='docs/NounProjectOutputs/jpg_images/art.jpg'></td><td><img src='docs/NounProjectOutputs/jpg_images/humor.jpg'></td><td></td><td><img src='docs/EssenceOutputs-ngrams/essence-41.jpg'></td></tr></table>"
      ],
      "text/plain": [
       "<IPython.core.display.HTML object>"
      ]
     },
     "metadata": {},
     "output_type": "display_data"
    },
    {
     "name": "stdout",
     "output_type": "stream",
     "text": [
      "['Person 43', 'I am funny.', 'I am easy going.', ' I have a great personality.']\n",
      "['funny', 'easy going', 'great personality'] \n",
      "\n"
     ]
    },
    {
     "data": {
      "text/html": [
       "<table><tr><td><img src='docs/NounProjectOutputs/jpg_images/funny.jpg'></td><td><img src='docs/NounProjectOutputs/jpg_images/going.jpg'></td><td><img src='docs/NounProjectOutputs/jpg_images/personality.jpg'></td><td></td><td><img src='docs/EssenceOutputs-ngrams/essence-42.jpg'></td></tr></table>"
      ],
      "text/plain": [
       "<IPython.core.display.HTML object>"
      ]
     },
     "metadata": {},
     "output_type": "display_data"
    },
    {
     "name": "stdout",
     "output_type": "stream",
     "text": [
      "['Person 44', 'henry johnson', 'stern,friendly,loving,strong of mind,family oriented,good worker,always looking forward within memories of the past', ' loving all the members of my faily,past and present']\n",
      "['johnson', 'strong', 'past'] \n",
      "\n"
     ]
    },
    {
     "data": {
      "text/html": [
       "<table><tr><td><img src='docs/NounProjectOutputs/jpg_images/johnson.jpg'></td><td><img src='docs/NounProjectOutputs/jpg_images/strong.jpg'></td><td><img src='docs/NounProjectOutputs/jpg_images/past.jpg'></td><td></td><td><img src='docs/EssenceOutputs-ngrams/essence-43.jpg'></td></tr></table>"
      ],
      "text/plain": [
       "<IPython.core.display.HTML object>"
      ]
     },
     "metadata": {},
     "output_type": "display_data"
    },
    {
     "name": "stdout",
     "output_type": "stream",
     "text": [
      "['Person 45', 'I am a daughter, sister, friend, and advocate', \"I advocate for those who don't have a voice\", ' I care so deeply about children involved in the system and I will do almost anything to help them!']\n",
      "['advocate', 'voice', 'children involved'] \n",
      "\n"
     ]
    },
    {
     "data": {
      "text/html": [
       "<table><tr><td><img src='docs/NounProjectOutputs/jpg_images/advocate.jpg'></td><td><img src='docs/NounProjectOutputs/jpg_images/voice.jpg'></td><td><img src='docs/NounProjectOutputs/jpg_images/involved.jpg'></td><td></td><td><img src='docs/EssenceOutputs-ngrams/essence-44.jpg'></td></tr></table>"
      ],
      "text/plain": [
       "<IPython.core.display.HTML object>"
      ]
     },
     "metadata": {},
     "output_type": "display_data"
    },
    {
     "name": "stdout",
     "output_type": "stream",
     "text": [
      "['Person 46', 'I am a mom, wife, educator, sister, and daughter.', \"I'm an introverted extrovert. I love to be on stage and the center of attention, but I hate small talk.\", ' I am my own unique person who has never been known to follow a crowd.']\n",
      "['wife educator', 'hate small', 'never known'] \n",
      "\n"
     ]
    },
    {
     "data": {
      "text/html": [
       "<table><tr><td><img src='docs/NounProjectOutputs/jpg_images/educator.jpg'></td><td><img src='docs/NounProjectOutputs/jpg_images/small.jpg'></td><td><img src='docs/NounProjectOutputs/jpg_images/known.jpg'></td><td></td><td><img src='docs/EssenceOutputs-ngrams/essence-45.jpg'></td></tr></table>"
      ],
      "text/plain": [
       "<IPython.core.display.HTML object>"
      ]
     },
     "metadata": {},
     "output_type": "display_data"
    },
    {
     "name": "stdout",
     "output_type": "stream",
     "text": [
      "['Person 47', 'I am a mother, friend, and wife', 'I am active, adventurous, and hardwarling.', ' My values and principals.']\n",
      "['mother friend', 'active adventurous', 'principals'] \n",
      "\n"
     ]
    },
    {
     "data": {
      "text/html": [
       "<table><tr><td><img src='docs/NounProjectOutputs/jpg_images/friend.jpg'></td><td><img src='docs/NounProjectOutputs/jpg_images/adventurous.jpg'></td><td><img src='docs/NounProjectOutputs/jpg_images/principals.jpg'></td><td></td><td><img src='docs/EssenceOutputs-ngrams/essence-46.jpg'></td></tr></table>"
      ],
      "text/plain": [
       "<IPython.core.display.HTML object>"
      ]
     },
     "metadata": {},
     "output_type": "display_data"
    },
    {
     "name": "stdout",
     "output_type": "stream",
     "text": [
      "['Person 48', 'I am a soul that currently has the role of wife, mother, daughter, sister, and friend.', \"I'm an introspective, introverted individual who cherishes both family time and alone time.\", ' My quick wit, warm smile, and love of laughter make me who I am.']\n",
      "['soul currently', 'time', 'wit'] \n",
      "\n"
     ]
    },
    {
     "data": {
      "text/html": [
       "<table><tr><td><img src='docs/NounProjectOutputs/jpg_images/currently.jpg'></td><td><img src='docs/NounProjectOutputs/jpg_images/time.jpg'></td><td><img src='docs/NounProjectOutputs/jpg_images/wit.jpg'></td><td></td><td><img src='docs/EssenceOutputs-ngrams/essence-47.jpg'></td></tr></table>"
      ],
      "text/plain": [
       "<IPython.core.display.HTML object>"
      ]
     },
     "metadata": {},
     "output_type": "display_data"
    },
    {
     "name": "stdout",
     "output_type": "stream",
     "text": [
      "['Person 49', 'I am a working mom.', 'I am calm, determined, and loving.', ' The essence of what makes me is my compassion and caring.']\n",
      "['working mom', 'determined loving', 'compassion caring'] \n",
      "\n"
     ]
    },
    {
     "data": {
      "text/html": [
       "<table><tr><td><img src='docs/NounProjectOutputs/jpg_images/mom.jpg'></td><td><img src='docs/NounProjectOutputs/jpg_images/loving.jpg'></td><td><img src='docs/NounProjectOutputs/jpg_images/caring.jpg'></td><td></td><td><img src='docs/EssenceOutputs-ngrams/essence-48.jpg'></td></tr></table>"
      ],
      "text/plain": [
       "<IPython.core.display.HTML object>"
      ]
     },
     "metadata": {},
     "output_type": "display_data"
    },
    {
     "name": "stdout",
     "output_type": "stream",
     "text": [
      "['Person 50', 'I am a 27 year old special education teacher who lives in California.', 'I am a sociable and very goofy young guy who likes to make everyone laugh.', ' The essence of what makes me myself is that I am always generally positive and like to spread a smile to all those around me!']\n",
      "['education', 'young guy', 'generally'] \n",
      "\n"
     ]
    },
    {
     "data": {
      "text/html": [
       "<table><tr><td><img src='docs/NounProjectOutputs/jpg_images/education.jpg'></td><td><img src='docs/NounProjectOutputs/jpg_images/guy.jpg'></td><td><img src='docs/NounProjectOutputs/jpg_images/generally.jpg'></td><td></td><td><img src='docs/EssenceOutputs-ngrams/essence-49.jpg'></td></tr></table>"
      ],
      "text/plain": [
       "<IPython.core.display.HTML object>"
      ]
     },
     "metadata": {},
     "output_type": "display_data"
    }
   ],
   "source": [
    "for i in range(50):\n",
    "    print(desc_array[i])\n",
    "    print(top3_each[i], '\\n')\n",
    "    if ' ' in top3_each[i][0]:\n",
    "        image1 = jpg_dir + top3_each[i][0].split(' ')[-1] + '.jpg'\n",
    "    else:\n",
    "        image1 = jpg_dir + top3_each[i][0] + '.jpg'\n",
    "    if ' ' in top3_each[i][1]:\n",
    "        image2 = jpg_dir + top3_each[i][1].split(' ')[-1] + '.jpg'\n",
    "    else:\n",
    "        image2 = jpg_dir + top3_each[i][1] + '.jpg'\n",
    "    if ' ' in top3_each[i][2]:\n",
    "        image3 = jpg_dir + top3_each[i][2].split(' ')[-1] + '.jpg'\n",
    "    else:\n",
    "        image3 = jpg_dir + top3_each[i][2] + '.jpg'\n",
    "    output = 'docs/EssenceOutputs-ngrams/essence-' + str(i) + '.jpg'\n",
    "    display(HTML(\"<table><tr><td><img src='\"+ image1 + \"'></td><td><img src='\" + image2 + \"'></td><td><img src='\"+ image3 + \"'></td><td></td><td><img src='\"+ output + \"'></td></tr></table>\"))"
   ]
  },
  {
   "cell_type": "code",
   "execution_count": null,
   "metadata": {},
   "outputs": [],
   "source": []
  },
  {
   "cell_type": "code",
   "execution_count": null,
   "metadata": {},
   "outputs": [],
   "source": []
  },
  {
   "cell_type": "markdown",
   "metadata": {},
   "source": [
    "## Good Essence Outputs"
   ]
  },
  {
   "cell_type": "code",
   "execution_count": 597,
   "metadata": {},
   "outputs": [
    {
     "name": "stdout",
     "output_type": "stream",
     "text": [
      "essence-10.jpg\n"
     ]
    },
    {
     "data": {
      "text/html": [
       "<table><tr><td><img src='docs/FinalOutputs/essence/essence-10.jpg'></td></tr></table>"
      ],
      "text/plain": [
       "<IPython.core.display.HTML object>"
      ]
     },
     "metadata": {},
     "output_type": "display_data"
    },
    {
     "name": "stdout",
     "output_type": "stream",
     "text": [
      "essence-38.jpg\n"
     ]
    },
    {
     "data": {
      "text/html": [
       "<table><tr><td><img src='docs/FinalOutputs/essence/essence-38.jpg'></td></tr></table>"
      ],
      "text/plain": [
       "<IPython.core.display.HTML object>"
      ]
     },
     "metadata": {},
     "output_type": "display_data"
    },
    {
     "name": "stdout",
     "output_type": "stream",
     "text": [
      "essence-4.jpg\n"
     ]
    },
    {
     "data": {
      "text/html": [
       "<table><tr><td><img src='docs/FinalOutputs/essence/essence-4.jpg'></td></tr></table>"
      ],
      "text/plain": [
       "<IPython.core.display.HTML object>"
      ]
     },
     "metadata": {},
     "output_type": "display_data"
    },
    {
     "name": "stdout",
     "output_type": "stream",
     "text": [
      "essence-13.jpg\n"
     ]
    },
    {
     "data": {
      "text/html": [
       "<table><tr><td><img src='docs/FinalOutputs/essence/essence-13.jpg'></td></tr></table>"
      ],
      "text/plain": [
       "<IPython.core.display.HTML object>"
      ]
     },
     "metadata": {},
     "output_type": "display_data"
    },
    {
     "name": "stdout",
     "output_type": "stream",
     "text": [
      "essence-7.jpg\n"
     ]
    },
    {
     "data": {
      "text/html": [
       "<table><tr><td><img src='docs/FinalOutputs/essence/essence-7.jpg'></td></tr></table>"
      ],
      "text/plain": [
       "<IPython.core.display.HTML object>"
      ]
     },
     "metadata": {},
     "output_type": "display_data"
    },
    {
     "name": "stdout",
     "output_type": "stream",
     "text": [
      ".DS_Store\n"
     ]
    },
    {
     "data": {
      "text/html": [
       "<table><tr><td><img src='docs/FinalOutputs/essence/.DS_Store'></td></tr></table>"
      ],
      "text/plain": [
       "<IPython.core.display.HTML object>"
      ]
     },
     "metadata": {},
     "output_type": "display_data"
    },
    {
     "name": "stdout",
     "output_type": "stream",
     "text": [
      "essence-2.jpg\n"
     ]
    },
    {
     "data": {
      "text/html": [
       "<table><tr><td><img src='docs/FinalOutputs/essence/essence-2.jpg'></td></tr></table>"
      ],
      "text/plain": [
       "<IPython.core.display.HTML object>"
      ]
     },
     "metadata": {},
     "output_type": "display_data"
    },
    {
     "name": "stdout",
     "output_type": "stream",
     "text": [
      "essence-48.jpg\n"
     ]
    },
    {
     "data": {
      "text/html": [
       "<table><tr><td><img src='docs/FinalOutputs/essence/essence-48.jpg'></td></tr></table>"
      ],
      "text/plain": [
       "<IPython.core.display.HTML object>"
      ]
     },
     "metadata": {},
     "output_type": "display_data"
    },
    {
     "name": "stdout",
     "output_type": "stream",
     "text": [
      "essence-40.jpg\n"
     ]
    },
    {
     "data": {
      "text/html": [
       "<table><tr><td><img src='docs/FinalOutputs/essence/essence-40.jpg'></td></tr></table>"
      ],
      "text/plain": [
       "<IPython.core.display.HTML object>"
      ]
     },
     "metadata": {},
     "output_type": "display_data"
    },
    {
     "name": "stdout",
     "output_type": "stream",
     "text": [
      "essence-24.jpg\n"
     ]
    },
    {
     "data": {
      "text/html": [
       "<table><tr><td><img src='docs/FinalOutputs/essence/essence-24.jpg'></td></tr></table>"
      ],
      "text/plain": [
       "<IPython.core.display.HTML object>"
      ]
     },
     "metadata": {},
     "output_type": "display_data"
    },
    {
     "name": "stdout",
     "output_type": "stream",
     "text": [
      "essence-33.jpg\n"
     ]
    },
    {
     "data": {
      "text/html": [
       "<table><tr><td><img src='docs/FinalOutputs/essence/essence-33.jpg'></td></tr></table>"
      ],
      "text/plain": [
       "<IPython.core.display.HTML object>"
      ]
     },
     "metadata": {},
     "output_type": "display_data"
    },
    {
     "name": "stdout",
     "output_type": "stream",
     "text": [
      "essence-22.jpg\n"
     ]
    },
    {
     "data": {
      "text/html": [
       "<table><tr><td><img src='docs/FinalOutputs/essence/essence-22.jpg'></td></tr></table>"
      ],
      "text/plain": [
       "<IPython.core.display.HTML object>"
      ]
     },
     "metadata": {},
     "output_type": "display_data"
    }
   ],
   "source": [
    "for i in os.listdir('docs/FinalOutputs/essence'):\n",
    "    print(i)\n",
    "    image1 = 'docs/FinalOutputs/essence/' + i\n",
    "#     number = int(i.split('.')[0].split('-')[-1])\n",
    "#     print(top3_each[number])\n",
    "    display(HTML(\"<table><tr><td><img src='\"+ image1 + \"'></td></tr></table>\"))"
   ]
  },
  {
   "cell_type": "markdown",
   "metadata": {},
   "source": [
    "## Style Outputs"
   ]
  },
  {
   "cell_type": "code",
   "execution_count": 595,
   "metadata": {},
   "outputs": [
    {
     "data": {
      "text/html": [
       "<table><tr><td><img src='docs/FinalOutputs/essence-style/essence-22-floral.png'></td></tr></table>"
      ],
      "text/plain": [
       "<IPython.core.display.HTML object>"
      ]
     },
     "metadata": {},
     "output_type": "display_data"
    },
    {
     "data": {
      "text/html": [
       "<table><tr><td><img src='docs/FinalOutputs/essence-style/essence-0.png'></td></tr></table>"
      ],
      "text/plain": [
       "<IPython.core.display.HTML object>"
      ]
     },
     "metadata": {},
     "output_type": "display_data"
    },
    {
     "data": {
      "text/html": [
       "<table><tr><td><img src='docs/FinalOutputs/essence-style/output_skydiver_pattern.png'></td></tr></table>"
      ],
      "text/plain": [
       "<IPython.core.display.HTML object>"
      ]
     },
     "metadata": {},
     "output_type": "display_data"
    },
    {
     "data": {
      "text/html": [
       "<table><tr><td><img src='docs/FinalOutputs/essence-style/test1.png'></td></tr></table>"
      ],
      "text/plain": [
       "<IPython.core.display.HTML object>"
      ]
     },
     "metadata": {},
     "output_type": "display_data"
    },
    {
     "data": {
      "text/html": [
       "<table><tr><td><img src='docs/FinalOutputs/essence-style/test2.png'></td></tr></table>"
      ],
      "text/plain": [
       "<IPython.core.display.HTML object>"
      ]
     },
     "metadata": {},
     "output_type": "display_data"
    },
    {
     "data": {
      "text/html": [
       "<table><tr><td><img src='docs/FinalOutputs/essence-style/essence-2-roses.png'></td></tr></table>"
      ],
      "text/plain": [
       "<IPython.core.display.HTML object>"
      ]
     },
     "metadata": {},
     "output_type": "display_data"
    },
    {
     "data": {
      "text/html": [
       "<table><tr><td><img src='docs/FinalOutputs/essence-style/test.png'></td></tr></table>"
      ],
      "text/plain": [
       "<IPython.core.display.HTML object>"
      ]
     },
     "metadata": {},
     "output_type": "display_data"
    },
    {
     "data": {
      "text/html": [
       "<table><tr><td><img src='docs/FinalOutputs/essence-style/essence-4-roses.png'></td></tr></table>"
      ],
      "text/plain": [
       "<IPython.core.display.HTML object>"
      ]
     },
     "metadata": {},
     "output_type": "display_data"
    },
    {
     "data": {
      "text/html": [
       "<table><tr><td><img src='docs/FinalOutputs/essence-style/output_bw_pattern.png'></td></tr></table>"
      ],
      "text/plain": [
       "<IPython.core.display.HTML object>"
      ]
     },
     "metadata": {},
     "output_type": "display_data"
    },
    {
     "data": {
      "text/html": [
       "<table><tr><td><img src='docs/FinalOutputs/essence-style/color_adventurous.png'></td></tr></table>"
      ],
      "text/plain": [
       "<IPython.core.display.HTML object>"
      ]
     },
     "metadata": {},
     "output_type": "display_data"
    },
    {
     "data": {
      "text/html": [
       "<table><tr><td><img src='docs/FinalOutputs/essence-style/essence-48-love.png'></td></tr></table>"
      ],
      "text/plain": [
       "<IPython.core.display.HTML object>"
      ]
     },
     "metadata": {},
     "output_type": "display_data"
    },
    {
     "data": {
      "text/html": [
       "<table><tr><td><img src='docs/FinalOutputs/essence-style/essence-10-bw.png'></td></tr></table>"
      ],
      "text/plain": [
       "<IPython.core.display.HTML object>"
      ]
     },
     "metadata": {},
     "output_type": "display_data"
    }
   ],
   "source": [
    "for i in os.listdir('docs/FinalOutputs/essence-style'):\n",
    "    image1 = 'docs/FinalOutputs/essence-style/' + i\n",
    "#     number = int(i.split('.')[0].split('-')[-1])\n",
    "#     print(top3_each[number])\n",
    "    display(HTML(\"<table><tr><td><img src='\"+ image1 + \"'></td></tr></table>\"))"
   ]
  },
  {
   "cell_type": "code",
   "execution_count": null,
   "metadata": {},
   "outputs": [],
   "source": []
  }
 ],
 "metadata": {
  "kernelspec": {
   "display_name": "Python 3",
   "language": "python",
   "name": "python3"
  },
  "language_info": {
   "codemirror_mode": {
    "name": "ipython",
    "version": 3
   },
   "file_extension": ".py",
   "mimetype": "text/x-python",
   "name": "python",
   "nbconvert_exporter": "python",
   "pygments_lexer": "ipython3",
   "version": "3.7.4"
  }
 },
 "nbformat": 4,
 "nbformat_minor": 2
}
